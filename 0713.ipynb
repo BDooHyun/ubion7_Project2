{
 "cells": [
  {
   "cell_type": "markdown",
   "metadata": {},
   "source": [
    "## 데이터 EDA과정"
   ]
  },
  {
   "cell_type": "code",
   "execution_count": 1,
   "metadata": {},
   "outputs": [],
   "source": [
    "import pandas as pd"
   ]
  },
  {
   "cell_type": "code",
   "execution_count": 2,
   "metadata": {},
   "outputs": [
    {
     "data": {
      "text/html": [
       "<div>\n",
       "<style scoped>\n",
       "    .dataframe tbody tr th:only-of-type {\n",
       "        vertical-align: middle;\n",
       "    }\n",
       "\n",
       "    .dataframe tbody tr th {\n",
       "        vertical-align: top;\n",
       "    }\n",
       "\n",
       "    .dataframe thead th {\n",
       "        text-align: right;\n",
       "    }\n",
       "</style>\n",
       "<table border=\"1\" class=\"dataframe\">\n",
       "  <thead>\n",
       "    <tr style=\"text-align: right;\">\n",
       "      <th></th>\n",
       "      <th>거래소코드</th>\n",
       "      <th>회계년도</th>\n",
       "      <th>감사의견코드</th>\n",
       "    </tr>\n",
       "    <tr>\n",
       "      <th>회사명</th>\n",
       "      <th></th>\n",
       "      <th></th>\n",
       "      <th></th>\n",
       "    </tr>\n",
       "  </thead>\n",
       "  <tbody>\n",
       "    <tr>\n",
       "      <th>(유)그룹세브코리아</th>\n",
       "      <td>13171</td>\n",
       "      <td>2019/12</td>\n",
       "      <td>NaN</td>\n",
       "    </tr>\n",
       "    <tr>\n",
       "      <th>(유)그룹세브코리아</th>\n",
       "      <td>13171</td>\n",
       "      <td>2020/12</td>\n",
       "      <td>UQ</td>\n",
       "    </tr>\n",
       "    <tr>\n",
       "      <th>(유)그룹세브코리아</th>\n",
       "      <td>13171</td>\n",
       "      <td>2021/12</td>\n",
       "      <td>UQ</td>\n",
       "    </tr>\n",
       "    <tr>\n",
       "      <th>(유)그룹세브코리아</th>\n",
       "      <td>13171</td>\n",
       "      <td>2022/12</td>\n",
       "      <td>UQ</td>\n",
       "    </tr>\n",
       "    <tr>\n",
       "      <th>(유)디에스브이에어앤씨인터내셔널</th>\n",
       "      <td>104275</td>\n",
       "      <td>2021/12</td>\n",
       "      <td>NaN</td>\n",
       "    </tr>\n",
       "    <tr>\n",
       "      <th>...</th>\n",
       "      <td>...</td>\n",
       "      <td>...</td>\n",
       "      <td>...</td>\n",
       "    </tr>\n",
       "    <tr>\n",
       "      <th>힐중공업주식회사</th>\n",
       "      <td>82007</td>\n",
       "      <td>2017/12</td>\n",
       "      <td>QS</td>\n",
       "    </tr>\n",
       "    <tr>\n",
       "      <th>힐중공업주식회사</th>\n",
       "      <td>82007</td>\n",
       "      <td>2018/12</td>\n",
       "      <td>QU</td>\n",
       "    </tr>\n",
       "    <tr>\n",
       "      <th>（주）신미코스메틱</th>\n",
       "      <td>85105</td>\n",
       "      <td>2017/12</td>\n",
       "      <td>NaN</td>\n",
       "    </tr>\n",
       "    <tr>\n",
       "      <th>（주）신미코스메틱</th>\n",
       "      <td>85105</td>\n",
       "      <td>2018/12</td>\n",
       "      <td>UQ</td>\n",
       "    </tr>\n",
       "    <tr>\n",
       "      <th>（주）신미코스메틱</th>\n",
       "      <td>85105</td>\n",
       "      <td>2019/12</td>\n",
       "      <td>UQ</td>\n",
       "    </tr>\n",
       "  </tbody>\n",
       "</table>\n",
       "<p>294820 rows × 3 columns</p>\n",
       "</div>"
      ],
      "text/plain": [
       "                    거래소코드     회계년도 감사의견코드\n",
       "회사명                                      \n",
       "(유)그룹세브코리아          13171  2019/12    NaN\n",
       "(유)그룹세브코리아          13171  2020/12     UQ\n",
       "(유)그룹세브코리아          13171  2021/12     UQ\n",
       "(유)그룹세브코리아          13171  2022/12     UQ\n",
       "(유)디에스브이에어앤씨인터내셔널  104275  2021/12    NaN\n",
       "...                   ...      ...    ...\n",
       "힐중공업주식회사            82007  2017/12     QS\n",
       "힐중공업주식회사            82007  2018/12     QU\n",
       "（주）신미코스메틱           85105  2017/12    NaN\n",
       "（주）신미코스메틱           85105  2018/12     UQ\n",
       "（주）신미코스메틱           85105  2019/12     UQ\n",
       "\n",
       "[294820 rows x 3 columns]"
      ]
     },
     "execution_count": 2,
     "metadata": {},
     "output_type": "execute_result"
    }
   ],
   "source": [
    "df=pd.read_csv('./Dataset/mk_target.csv',encoding='euc-kr',index_col=0)\n",
    "df"
   ]
  },
  {
   "cell_type": "code",
   "execution_count": 3,
   "metadata": {},
   "outputs": [
    {
     "data": {
      "text/plain": [
       "거래소코드         0\n",
       "회계년도          0\n",
       "감사의견코드    32934\n",
       "dtype: int64"
      ]
     },
     "execution_count": 3,
     "metadata": {},
     "output_type": "execute_result"
    }
   ],
   "source": [
    "df.isna().sum()"
   ]
  },
  {
   "cell_type": "code",
   "execution_count": 4,
   "metadata": {},
   "outputs": [
    {
     "data": {
      "text/html": [
       "<div>\n",
       "<style scoped>\n",
       "    .dataframe tbody tr th:only-of-type {\n",
       "        vertical-align: middle;\n",
       "    }\n",
       "\n",
       "    .dataframe tbody tr th {\n",
       "        vertical-align: top;\n",
       "    }\n",
       "\n",
       "    .dataframe thead th {\n",
       "        text-align: right;\n",
       "    }\n",
       "</style>\n",
       "<table border=\"1\" class=\"dataframe\">\n",
       "  <thead>\n",
       "    <tr style=\"text-align: right;\">\n",
       "      <th></th>\n",
       "      <th>거래소코드</th>\n",
       "      <th>회계년도</th>\n",
       "      <th>감사의견코드</th>\n",
       "    </tr>\n",
       "    <tr>\n",
       "      <th>회사명</th>\n",
       "      <th></th>\n",
       "      <th></th>\n",
       "      <th></th>\n",
       "    </tr>\n",
       "  </thead>\n",
       "  <tbody>\n",
       "    <tr>\n",
       "      <th>(주)제이더블유엘</th>\n",
       "      <td>58276</td>\n",
       "      <td>2012/12</td>\n",
       "      <td>ZZ</td>\n",
       "    </tr>\n",
       "  </tbody>\n",
       "</table>\n",
       "</div>"
      ],
      "text/plain": [
       "           거래소코드     회계년도 감사의견코드\n",
       "회사명                             \n",
       "(주)제이더블유엘  58276  2012/12     ZZ"
      ]
     },
     "execution_count": 4,
     "metadata": {},
     "output_type": "execute_result"
    }
   ],
   "source": [
    "df[df['감사의견코드']=='ZZ']"
   ]
  },
  {
   "cell_type": "code",
   "execution_count": 5,
   "metadata": {},
   "outputs": [
    {
     "data": {
      "text/plain": [
       "감사의견코드\n",
       "UQ    239780\n",
       "QS     13023\n",
       "DU      3604\n",
       "DS      2559\n",
       "QG      1208\n",
       "QU      1152\n",
       "AG       527\n",
       "QQ        27\n",
       "QA         4\n",
       "ZZ         1\n",
       "DI         1\n",
       "Name: count, dtype: int64"
      ]
     },
     "execution_count": 5,
     "metadata": {},
     "output_type": "execute_result"
    }
   ],
   "source": [
    "df['감사의견코드'].value_counts()"
   ]
  },
  {
   "cell_type": "code",
   "execution_count": 6,
   "metadata": {},
   "outputs": [],
   "source": [
    "df['감사의견코드']=df['감사의견코드'].map({\n",
    "    'AG':'부적정',\n",
    "    'DS':'의견거절',\n",
    "    'DI':'의견거절',\n",
    "    'DU':'의견거절',\n",
    "    'QA':'한정',\n",
    "    'QC':'한정',\n",
    "    'QG':'한정',\n",
    "    'QQ':'한정',\n",
    "    'QS':'한정',\n",
    "    'QU':'한정',\n",
    "    'UQ':'적정',\n",
    "    'ZZ':'ZZ'\n",
    "\n",
    "})"
   ]
  },
  {
   "cell_type": "code",
   "execution_count": 7,
   "metadata": {},
   "outputs": [
    {
     "data": {
      "text/plain": [
       "32934"
      ]
     },
     "execution_count": 7,
     "metadata": {},
     "output_type": "execute_result"
    }
   ],
   "source": [
    "df['감사의견코드'].isna().sum()"
   ]
  },
  {
   "cell_type": "code",
   "execution_count": 8,
   "metadata": {},
   "outputs": [
    {
     "data": {
      "text/plain": [
       "감사의견코드\n",
       "적정      239780\n",
       "한정       15414\n",
       "의견거절      6164\n",
       "부적정        527\n",
       "ZZ           1\n",
       "Name: count, dtype: int64"
      ]
     },
     "execution_count": 8,
     "metadata": {},
     "output_type": "execute_result"
    }
   ],
   "source": [
    "df['감사의견코드'].value_counts()"
   ]
  },
  {
   "cell_type": "code",
   "execution_count": 9,
   "metadata": {},
   "outputs": [
    {
     "data": {
      "text/plain": [
       "0.09218867295020436"
      ]
     },
     "execution_count": 9,
     "metadata": {},
     "output_type": "execute_result"
    }
   ],
   "source": [
    "(15414+6164+527)/239780"
   ]
  },
  {
   "cell_type": "code",
   "execution_count": 10,
   "metadata": {},
   "outputs": [
    {
     "data": {
      "text/plain": [
       "22105"
      ]
     },
     "execution_count": 10,
     "metadata": {},
     "output_type": "execute_result"
    }
   ],
   "source": [
    "(15414+6164+527)"
   ]
  },
  {
   "cell_type": "code",
   "execution_count": 11,
   "metadata": {},
   "outputs": [
    {
     "data": {
      "text/plain": [
       "거래소코드         0\n",
       "회계년도          0\n",
       "감사의견코드    32934\n",
       "dtype: int64"
      ]
     },
     "execution_count": 11,
     "metadata": {},
     "output_type": "execute_result"
    }
   ],
   "source": [
    "df.isna().sum()"
   ]
  },
  {
   "cell_type": "markdown",
   "metadata": {},
   "source": [
    "* 감사의견 코드 ZZ가 뭘까?"
   ]
  },
  {
   "cell_type": "code",
   "execution_count": 12,
   "metadata": {},
   "outputs": [
    {
     "data": {
      "text/html": [
       "<div>\n",
       "<style scoped>\n",
       "    .dataframe tbody tr th:only-of-type {\n",
       "        vertical-align: middle;\n",
       "    }\n",
       "\n",
       "    .dataframe tbody tr th {\n",
       "        vertical-align: top;\n",
       "    }\n",
       "\n",
       "    .dataframe thead th {\n",
       "        text-align: right;\n",
       "    }\n",
       "</style>\n",
       "<table border=\"1\" class=\"dataframe\">\n",
       "  <thead>\n",
       "    <tr style=\"text-align: right;\">\n",
       "      <th></th>\n",
       "      <th>거래소코드</th>\n",
       "      <th>회계년도</th>\n",
       "      <th>감사의견코드</th>\n",
       "    </tr>\n",
       "    <tr>\n",
       "      <th>회사명</th>\n",
       "      <th></th>\n",
       "      <th></th>\n",
       "      <th></th>\n",
       "    </tr>\n",
       "  </thead>\n",
       "  <tbody>\n",
       "    <tr>\n",
       "      <th>(주)제이더블유엘</th>\n",
       "      <td>58276</td>\n",
       "      <td>2012/12</td>\n",
       "      <td>ZZ</td>\n",
       "    </tr>\n",
       "  </tbody>\n",
       "</table>\n",
       "</div>"
      ],
      "text/plain": [
       "           거래소코드     회계년도 감사의견코드\n",
       "회사명                             \n",
       "(주)제이더블유엘  58276  2012/12     ZZ"
      ]
     },
     "execution_count": 12,
     "metadata": {},
     "output_type": "execute_result"
    }
   ],
   "source": [
    "df[df['감사의견코드']=='ZZ']"
   ]
  },
  {
   "cell_type": "code",
   "execution_count": 13,
   "metadata": {},
   "outputs": [],
   "source": [
    "df['감사의견코드']=df['감사의견코드'].map({\n",
    "    '적정':0,\n",
    "    '한정':1,\n",
    "    '부적정':1,\n",
    "    '의견거절':1\n",
    "\n",
    "})"
   ]
  },
  {
   "cell_type": "code",
   "execution_count": 14,
   "metadata": {},
   "outputs": [
    {
     "data": {
      "text/plain": [
       "감사의견코드\n",
       "0.0    239780\n",
       "1.0     22105\n",
       "Name: count, dtype: int64"
      ]
     },
     "execution_count": 14,
     "metadata": {},
     "output_type": "execute_result"
    }
   ],
   "source": [
    "df['감사의견코드'].value_counts()"
   ]
  },
  {
   "cell_type": "code",
   "execution_count": 15,
   "metadata": {},
   "outputs": [
    {
     "data": {
      "text/plain": [
       "14793"
      ]
     },
     "execution_count": 15,
     "metadata": {},
     "output_type": "execute_result"
    }
   ],
   "source": [
    "len(df[df['감사의견코드']==1].index.unique())"
   ]
  },
  {
   "cell_type": "code",
   "execution_count": 16,
   "metadata": {},
   "outputs": [],
   "source": [
    "df1=pd.read_csv('./Dataset/중견1.csv',encoding='euc-kr',index_col=0)\n",
    "df2=pd.read_csv('./Dataset/중견2.csv',encoding='euc-kr',index_col=0)\n",
    "df=pd.concat([df1,df2],axis=0)"
   ]
  },
  {
   "cell_type": "code",
   "execution_count": 17,
   "metadata": {},
   "outputs": [],
   "source": [
    "df.to_csv('중견기업.csv',encoding='euc-kr')"
   ]
  },
  {
   "cell_type": "code",
   "execution_count": 18,
   "metadata": {},
   "outputs": [
    {
     "data": {
      "text/plain": [
       "5568"
      ]
     },
     "execution_count": 18,
     "metadata": {},
     "output_type": "execute_result"
    }
   ],
   "source": [
    "len(df.index.unique())"
   ]
  },
  {
   "cell_type": "code",
   "execution_count": 19,
   "metadata": {},
   "outputs": [],
   "source": [
    "#########################################################################################################################################################"
   ]
  },
  {
   "cell_type": "code",
   "execution_count": 20,
   "metadata": {},
   "outputs": [],
   "source": [
    "df2=pd.read_csv('./Dataset/mk_target2.csv',encoding='euc-kr',index_col=0)"
   ]
  },
  {
   "cell_type": "code",
   "execution_count": 21,
   "metadata": {},
   "outputs": [
    {
     "data": {
      "text/plain": [
       "감사의견코드\n",
       "UQ    236730\n",
       "QS     13901\n",
       "DU      3772\n",
       "DS      2632\n",
       "QG      1272\n",
       "QU      1194\n",
       "AG       533\n",
       "QQ        28\n",
       "QA         4\n",
       "ZZ         1\n",
       "DI         1\n",
       "Name: count, dtype: int64"
      ]
     },
     "execution_count": 21,
     "metadata": {},
     "output_type": "execute_result"
    }
   ],
   "source": [
    "df2['감사의견코드'].value_counts()"
   ]
  },
  {
   "cell_type": "code",
   "execution_count": 22,
   "metadata": {},
   "outputs": [],
   "source": [
    "df2['감사의견코드']=df2['감사의견코드'].map({\n",
    "    'AG':'부적정',\n",
    "    'DS':'의견거절',\n",
    "    'DI':'의견거절',\n",
    "    'DU':'의견거절',\n",
    "    'QA':'한정',\n",
    "    'QC':'한정',\n",
    "    'QG':'한정',\n",
    "    'QQ':'한정',\n",
    "    'QS':'한정',\n",
    "    'QU':'한정',\n",
    "    'UQ':'적정',\n",
    "    'ZZ':'ZZ'\n",
    "\n",
    "})"
   ]
  },
  {
   "cell_type": "code",
   "execution_count": 23,
   "metadata": {},
   "outputs": [],
   "source": [
    "df2['감사의견코드']=df2['감사의견코드'].map({\n",
    "    '적정':0,\n",
    "    '한정':1,\n",
    "    '부적정':1,\n",
    "    '의견거절':1\n",
    "\n",
    "})"
   ]
  },
  {
   "cell_type": "code",
   "execution_count": 24,
   "metadata": {},
   "outputs": [
    {
     "data": {
      "text/plain": [
       "감사의견코드\n",
       "0.0    236730\n",
       "1.0     23337\n",
       "Name: count, dtype: int64"
      ]
     },
     "execution_count": 24,
     "metadata": {},
     "output_type": "execute_result"
    }
   ],
   "source": [
    "df2['감사의견코드'].value_counts()"
   ]
  },
  {
   "cell_type": "code",
   "execution_count": 25,
   "metadata": {},
   "outputs": [
    {
     "data": {
      "text/html": [
       "<div>\n",
       "<style scoped>\n",
       "    .dataframe tbody tr th:only-of-type {\n",
       "        vertical-align: middle;\n",
       "    }\n",
       "\n",
       "    .dataframe tbody tr th {\n",
       "        vertical-align: top;\n",
       "    }\n",
       "\n",
       "    .dataframe thead th {\n",
       "        text-align: right;\n",
       "    }\n",
       "</style>\n",
       "<table border=\"1\" class=\"dataframe\">\n",
       "  <thead>\n",
       "    <tr style=\"text-align: right;\">\n",
       "      <th></th>\n",
       "      <th>거래소코드</th>\n",
       "      <th>회계년도</th>\n",
       "      <th>산업코드</th>\n",
       "      <th>산업명</th>\n",
       "      <th>설립일</th>\n",
       "      <th>상장일</th>\n",
       "      <th>기업규모코드</th>\n",
       "      <th>감사의견코드</th>\n",
       "    </tr>\n",
       "    <tr>\n",
       "      <th>회사명</th>\n",
       "      <th></th>\n",
       "      <th></th>\n",
       "      <th></th>\n",
       "      <th></th>\n",
       "      <th></th>\n",
       "      <th></th>\n",
       "      <th></th>\n",
       "      <th></th>\n",
       "    </tr>\n",
       "  </thead>\n",
       "  <tbody>\n",
       "    <tr>\n",
       "      <th>(주)KAL호텔네트워크</th>\n",
       "      <td>29255</td>\n",
       "      <td>2012/12</td>\n",
       "      <td>95501</td>\n",
       "      <td>숙박업</td>\n",
       "      <td>2001/05/16</td>\n",
       "      <td>0000/00/00</td>\n",
       "      <td>10.0</td>\n",
       "      <td>0.0</td>\n",
       "    </tr>\n",
       "    <tr>\n",
       "      <th>(주)KAL호텔네트워크</th>\n",
       "      <td>29255</td>\n",
       "      <td>2013/12</td>\n",
       "      <td>95501</td>\n",
       "      <td>숙박업</td>\n",
       "      <td>2001/05/16</td>\n",
       "      <td>0000/00/00</td>\n",
       "      <td>10.0</td>\n",
       "      <td>0.0</td>\n",
       "    </tr>\n",
       "    <tr>\n",
       "      <th>(주)KAL호텔네트워크</th>\n",
       "      <td>29255</td>\n",
       "      <td>2014/12</td>\n",
       "      <td>95501</td>\n",
       "      <td>숙박업</td>\n",
       "      <td>2001/05/16</td>\n",
       "      <td>0000/00/00</td>\n",
       "      <td>10.0</td>\n",
       "      <td>0.0</td>\n",
       "    </tr>\n",
       "    <tr>\n",
       "      <th>(주)KAL호텔네트워크</th>\n",
       "      <td>29255</td>\n",
       "      <td>2015/12</td>\n",
       "      <td>95501</td>\n",
       "      <td>숙박업</td>\n",
       "      <td>2001/05/16</td>\n",
       "      <td>0000/00/00</td>\n",
       "      <td>10.0</td>\n",
       "      <td>0.0</td>\n",
       "    </tr>\n",
       "    <tr>\n",
       "      <th>(주)KAL호텔네트워크</th>\n",
       "      <td>29255</td>\n",
       "      <td>2016/12</td>\n",
       "      <td>95501</td>\n",
       "      <td>숙박업</td>\n",
       "      <td>2001/05/16</td>\n",
       "      <td>0000/00/00</td>\n",
       "      <td>10.0</td>\n",
       "      <td>0.0</td>\n",
       "    </tr>\n",
       "    <tr>\n",
       "      <th>...</th>\n",
       "      <td>...</td>\n",
       "      <td>...</td>\n",
       "      <td>...</td>\n",
       "      <td>...</td>\n",
       "      <td>...</td>\n",
       "      <td>...</td>\n",
       "      <td>...</td>\n",
       "      <td>...</td>\n",
       "    </tr>\n",
       "    <tr>\n",
       "      <th>힐티코리아주식회사</th>\n",
       "      <td>10534</td>\n",
       "      <td>2018/12</td>\n",
       "      <td>74605</td>\n",
       "      <td>도매 및 상품 중개업</td>\n",
       "      <td>1986/07/10</td>\n",
       "      <td>0000/00/00</td>\n",
       "      <td>30.0</td>\n",
       "      <td>0.0</td>\n",
       "    </tr>\n",
       "    <tr>\n",
       "      <th>힐티코리아주식회사</th>\n",
       "      <td>10534</td>\n",
       "      <td>2019/12</td>\n",
       "      <td>74605</td>\n",
       "      <td>도매 및 상품 중개업</td>\n",
       "      <td>1986/07/10</td>\n",
       "      <td>0000/00/00</td>\n",
       "      <td>30.0</td>\n",
       "      <td>0.0</td>\n",
       "    </tr>\n",
       "    <tr>\n",
       "      <th>힐티코리아주식회사</th>\n",
       "      <td>10534</td>\n",
       "      <td>2020/12</td>\n",
       "      <td>74605</td>\n",
       "      <td>도매 및 상품 중개업</td>\n",
       "      <td>1986/07/10</td>\n",
       "      <td>0000/00/00</td>\n",
       "      <td>30.0</td>\n",
       "      <td>0.0</td>\n",
       "    </tr>\n",
       "    <tr>\n",
       "      <th>힐티코리아주식회사</th>\n",
       "      <td>10534</td>\n",
       "      <td>2021/12</td>\n",
       "      <td>74605</td>\n",
       "      <td>도매 및 상품 중개업</td>\n",
       "      <td>1986/07/10</td>\n",
       "      <td>0000/00/00</td>\n",
       "      <td>20.0</td>\n",
       "      <td>0.0</td>\n",
       "    </tr>\n",
       "    <tr>\n",
       "      <th>힐티코리아주식회사</th>\n",
       "      <td>10534</td>\n",
       "      <td>2022/12</td>\n",
       "      <td>74605</td>\n",
       "      <td>도매 및 상품 중개업</td>\n",
       "      <td>1986/07/10</td>\n",
       "      <td>0000/00/00</td>\n",
       "      <td>30.0</td>\n",
       "      <td>0.0</td>\n",
       "    </tr>\n",
       "  </tbody>\n",
       "</table>\n",
       "<p>294073 rows × 8 columns</p>\n",
       "</div>"
      ],
      "text/plain": [
       "              거래소코드     회계년도   산업코드            산업명         설립일         상장일   \n",
       "회사명                                                                          \n",
       "(주)KAL호텔네트워크  29255  2012/12  95501            숙박업  2001/05/16  0000/00/00  \\\n",
       "(주)KAL호텔네트워크  29255  2013/12  95501            숙박업  2001/05/16  0000/00/00   \n",
       "(주)KAL호텔네트워크  29255  2014/12  95501            숙박업  2001/05/16  0000/00/00   \n",
       "(주)KAL호텔네트워크  29255  2015/12  95501            숙박업  2001/05/16  0000/00/00   \n",
       "(주)KAL호텔네트워크  29255  2016/12  95501            숙박업  2001/05/16  0000/00/00   \n",
       "...             ...      ...    ...            ...         ...         ...   \n",
       "힐티코리아주식회사     10534  2018/12  74605    도매 및 상품 중개업  1986/07/10  0000/00/00   \n",
       "힐티코리아주식회사     10534  2019/12  74605    도매 및 상품 중개업  1986/07/10  0000/00/00   \n",
       "힐티코리아주식회사     10534  2020/12  74605    도매 및 상품 중개업  1986/07/10  0000/00/00   \n",
       "힐티코리아주식회사     10534  2021/12  74605    도매 및 상품 중개업  1986/07/10  0000/00/00   \n",
       "힐티코리아주식회사     10534  2022/12  74605    도매 및 상품 중개업  1986/07/10  0000/00/00   \n",
       "\n",
       "              기업규모코드  감사의견코드  \n",
       "회사명                           \n",
       "(주)KAL호텔네트워크    10.0     0.0  \n",
       "(주)KAL호텔네트워크    10.0     0.0  \n",
       "(주)KAL호텔네트워크    10.0     0.0  \n",
       "(주)KAL호텔네트워크    10.0     0.0  \n",
       "(주)KAL호텔네트워크    10.0     0.0  \n",
       "...              ...     ...  \n",
       "힐티코리아주식회사       30.0     0.0  \n",
       "힐티코리아주식회사       30.0     0.0  \n",
       "힐티코리아주식회사       30.0     0.0  \n",
       "힐티코리아주식회사       20.0     0.0  \n",
       "힐티코리아주식회사       30.0     0.0  \n",
       "\n",
       "[294073 rows x 8 columns]"
      ]
     },
     "execution_count": 25,
     "metadata": {},
     "output_type": "execute_result"
    }
   ],
   "source": [
    "df2"
   ]
  },
  {
   "cell_type": "code",
   "execution_count": 26,
   "metadata": {},
   "outputs": [
    {
     "data": {
      "text/plain": [
       "51261"
      ]
     },
     "execution_count": 26,
     "metadata": {},
     "output_type": "execute_result"
    }
   ],
   "source": [
    "len(df2.index.unique())"
   ]
  },
  {
   "cell_type": "code",
   "execution_count": 27,
   "metadata": {},
   "outputs": [
    {
     "data": {
      "text/plain": [
       "거래소코드         0\n",
       "회계년도          0\n",
       "산업코드          0\n",
       "산업명           0\n",
       "설립일         297\n",
       "상장일          12\n",
       "기업규모코드     2961\n",
       "감사의견코드    34006\n",
       "dtype: int64"
      ]
     },
     "execution_count": 27,
     "metadata": {},
     "output_type": "execute_result"
    }
   ],
   "source": [
    "df2.isna().sum()"
   ]
  },
  {
   "cell_type": "code",
   "execution_count": 28,
   "metadata": {},
   "outputs": [
    {
     "data": {
      "text/plain": [
       "16276"
      ]
     },
     "execution_count": 28,
     "metadata": {},
     "output_type": "execute_result"
    }
   ],
   "source": [
    "len(df2[df2['감사의견코드']==1].index.unique())"
   ]
  },
  {
   "cell_type": "code",
   "execution_count": 29,
   "metadata": {},
   "outputs": [
    {
     "data": {
      "text/plain": [
       "감사의견코드\n",
       "0.0    236730\n",
       "1.0     23337\n",
       "Name: count, dtype: int64"
      ]
     },
     "execution_count": 29,
     "metadata": {},
     "output_type": "execute_result"
    }
   ],
   "source": [
    "df2['감사의견코드'].value_counts()"
   ]
  },
  {
   "cell_type": "code",
   "execution_count": 30,
   "metadata": {},
   "outputs": [],
   "source": [
    "def 다음_행_인덱스_출력(dataframe):\n",
    "    for 인덱스, 행 in dataframe.iterrows():\n",
    "        try:\n",
    "            if int(인덱스) < len(dataframe.index) - 1:\n",
    "                다음_행 = dataframe.iloc[int(인덱스) + 1]\n",
    "                if not 행.equals(다음_행):\n",
    "                    return int(인덱스) + 1\n",
    "        except ValueError:\n",
    "            continue\n",
    "    return None\n",
    "\n",
    "\n"
   ]
  },
  {
   "cell_type": "markdown",
   "metadata": {},
   "source": [
    "### 부동산투자회사라고 끝나는 회사 : 792개\n",
    "### 금융투자주식회사라고 끝나는 회사 : 128개\n",
    "\n"
   ]
  },
  {
   "cell_type": "code",
   "execution_count": 33,
   "metadata": {},
   "outputs": [
    {
     "data": {
      "text/html": [
       "<div>\n",
       "<style scoped>\n",
       "    .dataframe tbody tr th:only-of-type {\n",
       "        vertical-align: middle;\n",
       "    }\n",
       "\n",
       "    .dataframe tbody tr th {\n",
       "        vertical-align: top;\n",
       "    }\n",
       "\n",
       "    .dataframe thead th {\n",
       "        text-align: right;\n",
       "    }\n",
       "</style>\n",
       "<table border=\"1\" class=\"dataframe\">\n",
       "  <thead>\n",
       "    <tr style=\"text-align: right;\">\n",
       "      <th></th>\n",
       "      <th>거래소코드</th>\n",
       "      <th>회계년도</th>\n",
       "      <th>산업코드</th>\n",
       "      <th>산업명</th>\n",
       "      <th>설립일</th>\n",
       "      <th>상장일</th>\n",
       "      <th>기업규모코드</th>\n",
       "      <th>감사의견코드</th>\n",
       "    </tr>\n",
       "    <tr>\n",
       "      <th>회사명</th>\n",
       "      <th></th>\n",
       "      <th></th>\n",
       "      <th></th>\n",
       "      <th></th>\n",
       "      <th></th>\n",
       "      <th></th>\n",
       "      <th></th>\n",
       "      <th></th>\n",
       "    </tr>\n",
       "  </thead>\n",
       "  <tbody>\n",
       "    <tr>\n",
       "      <th>(주)대림제5호천안원성동기업형임대위탁관리부동산투자회사</th>\n",
       "      <td>102627</td>\n",
       "      <td>2021/12</td>\n",
       "      <td>126801</td>\n",
       "      <td>부동산업</td>\n",
       "      <td>2016/12/15</td>\n",
       "      <td>0</td>\n",
       "      <td>20.0</td>\n",
       "      <td>NaN</td>\n",
       "    </tr>\n",
       "    <tr>\n",
       "      <th>(주)대림제5호천안원성동기업형임대위탁관리부동산투자회사</th>\n",
       "      <td>102627</td>\n",
       "      <td>2022/12</td>\n",
       "      <td>126801</td>\n",
       "      <td>부동산업</td>\n",
       "      <td>2016/12/15</td>\n",
       "      <td>0</td>\n",
       "      <td>10.0</td>\n",
       "      <td>0.0</td>\n",
       "    </tr>\n",
       "    <tr>\n",
       "      <th>(주)에이치디씨민간임대주택제1호위탁관리부동산투자회사</th>\n",
       "      <td>86903</td>\n",
       "      <td>2017/12</td>\n",
       "      <td>126800</td>\n",
       "      <td>부동산업</td>\n",
       "      <td>2017/07/19</td>\n",
       "      <td>0</td>\n",
       "      <td>30.0</td>\n",
       "      <td>NaN</td>\n",
       "    </tr>\n",
       "    <tr>\n",
       "      <th>(주)에이치디씨민간임대주택제1호위탁관리부동산투자회사</th>\n",
       "      <td>86903</td>\n",
       "      <td>2018/12</td>\n",
       "      <td>126800</td>\n",
       "      <td>부동산업</td>\n",
       "      <td>2017/07/19</td>\n",
       "      <td>0</td>\n",
       "      <td>10.0</td>\n",
       "      <td>0.0</td>\n",
       "    </tr>\n",
       "    <tr>\n",
       "      <th>(주)에이치디씨민간임대주택제1호위탁관리부동산투자회사</th>\n",
       "      <td>86903</td>\n",
       "      <td>2019/12</td>\n",
       "      <td>126800</td>\n",
       "      <td>부동산업</td>\n",
       "      <td>2017/07/19</td>\n",
       "      <td>0</td>\n",
       "      <td>10.0</td>\n",
       "      <td>0.0</td>\n",
       "    </tr>\n",
       "    <tr>\n",
       "      <th>...</th>\n",
       "      <td>...</td>\n",
       "      <td>...</td>\n",
       "      <td>...</td>\n",
       "      <td>...</td>\n",
       "      <td>...</td>\n",
       "      <td>...</td>\n",
       "      <td>...</td>\n",
       "      <td>...</td>\n",
       "    </tr>\n",
       "    <tr>\n",
       "      <th>케이알원기업구조조정부동산투자회사</th>\n",
       "      <td>52587</td>\n",
       "      <td>2015/12</td>\n",
       "      <td>126801</td>\n",
       "      <td>부동산업</td>\n",
       "      <td>2007/10/26</td>\n",
       "      <td>0</td>\n",
       "      <td>30.0</td>\n",
       "      <td>0.0</td>\n",
       "    </tr>\n",
       "    <tr>\n",
       "      <th>케이알원기업구조조정부동산투자회사</th>\n",
       "      <td>52587</td>\n",
       "      <td>2016/12</td>\n",
       "      <td>126801</td>\n",
       "      <td>부동산업</td>\n",
       "      <td>2007/10/26</td>\n",
       "      <td>0</td>\n",
       "      <td>30.0</td>\n",
       "      <td>0.0</td>\n",
       "    </tr>\n",
       "    <tr>\n",
       "      <th>케이알원기업구조조정부동산투자회사</th>\n",
       "      <td>52587</td>\n",
       "      <td>2017/12</td>\n",
       "      <td>126801</td>\n",
       "      <td>부동산업</td>\n",
       "      <td>2007/10/26</td>\n",
       "      <td>0</td>\n",
       "      <td>30.0</td>\n",
       "      <td>0.0</td>\n",
       "    </tr>\n",
       "    <tr>\n",
       "      <th>케이알원기업구조조정부동산투자회사</th>\n",
       "      <td>52587</td>\n",
       "      <td>2018/12</td>\n",
       "      <td>126801</td>\n",
       "      <td>부동산업</td>\n",
       "      <td>2007/10/26</td>\n",
       "      <td>0</td>\n",
       "      <td>30.0</td>\n",
       "      <td>0.0</td>\n",
       "    </tr>\n",
       "    <tr>\n",
       "      <th>플러스타제1호기업구조조정부동산투자회사</th>\n",
       "      <td>58215</td>\n",
       "      <td>2012/12</td>\n",
       "      <td>126801</td>\n",
       "      <td>부동산업</td>\n",
       "      <td>2009/02/22</td>\n",
       "      <td>0</td>\n",
       "      <td>30.0</td>\n",
       "      <td>0.0</td>\n",
       "    </tr>\n",
       "  </tbody>\n",
       "</table>\n",
       "<p>792 rows × 8 columns</p>\n",
       "</div>"
      ],
      "text/plain": [
       "                                거래소코드     회계년도    산업코드     산업명         설립일   \n",
       "회사명                                                                          \n",
       "(주)대림제5호천안원성동기업형임대위탁관리부동산투자회사  102627  2021/12  126801    부동산업  2016/12/15  \\\n",
       "(주)대림제5호천안원성동기업형임대위탁관리부동산투자회사  102627  2022/12  126801    부동산업  2016/12/15   \n",
       "(주)에이치디씨민간임대주택제1호위탁관리부동산투자회사    86903  2017/12  126800    부동산업  2017/07/19   \n",
       "(주)에이치디씨민간임대주택제1호위탁관리부동산투자회사    86903  2018/12  126800    부동산업  2017/07/19   \n",
       "(주)에이치디씨민간임대주택제1호위탁관리부동산투자회사    86903  2019/12  126800    부동산업  2017/07/19   \n",
       "...                               ...      ...     ...     ...         ...   \n",
       "케이알원기업구조조정부동산투자회사               52587  2015/12  126801    부동산업  2007/10/26   \n",
       "케이알원기업구조조정부동산투자회사               52587  2016/12  126801    부동산업  2007/10/26   \n",
       "케이알원기업구조조정부동산투자회사               52587  2017/12  126801    부동산업  2007/10/26   \n",
       "케이알원기업구조조정부동산투자회사               52587  2018/12  126801    부동산업  2007/10/26   \n",
       "플러스타제1호기업구조조정부동산투자회사            58215  2012/12  126801    부동산업  2009/02/22   \n",
       "\n",
       "                              상장일  기업규모코드  감사의견코드  \n",
       "회사명                                                \n",
       "(주)대림제5호천안원성동기업형임대위탁관리부동산투자회사   0    20.0     NaN  \n",
       "(주)대림제5호천안원성동기업형임대위탁관리부동산투자회사   0    10.0     0.0  \n",
       "(주)에이치디씨민간임대주택제1호위탁관리부동산투자회사    0    30.0     NaN  \n",
       "(주)에이치디씨민간임대주택제1호위탁관리부동산투자회사    0    10.0     0.0  \n",
       "(주)에이치디씨민간임대주택제1호위탁관리부동산투자회사    0    10.0     0.0  \n",
       "...                            ..     ...     ...  \n",
       "케이알원기업구조조정부동산투자회사               0    30.0     0.0  \n",
       "케이알원기업구조조정부동산투자회사               0    30.0     0.0  \n",
       "케이알원기업구조조정부동산투자회사               0    30.0     0.0  \n",
       "케이알원기업구조조정부동산투자회사               0    30.0     0.0  \n",
       "플러스타제1호기업구조조정부동산투자회사            0    30.0     0.0  \n",
       "\n",
       "[792 rows x 8 columns]"
      ]
     },
     "execution_count": 33,
     "metadata": {},
     "output_type": "execute_result"
    }
   ],
   "source": [
    "df2[df2.index.str.endswith('부동산투자회사')]"
   ]
  },
  {
   "cell_type": "code",
   "execution_count": 35,
   "metadata": {},
   "outputs": [
    {
     "data": {
      "text/html": [
       "<div>\n",
       "<style scoped>\n",
       "    .dataframe tbody tr th:only-of-type {\n",
       "        vertical-align: middle;\n",
       "    }\n",
       "\n",
       "    .dataframe tbody tr th {\n",
       "        vertical-align: top;\n",
       "    }\n",
       "\n",
       "    .dataframe thead th {\n",
       "        text-align: right;\n",
       "    }\n",
       "</style>\n",
       "<table border=\"1\" class=\"dataframe\">\n",
       "  <thead>\n",
       "    <tr style=\"text-align: right;\">\n",
       "      <th></th>\n",
       "      <th>거래소코드</th>\n",
       "      <th>회계년도</th>\n",
       "      <th>산업코드</th>\n",
       "      <th>산업명</th>\n",
       "      <th>설립일</th>\n",
       "      <th>상장일</th>\n",
       "      <th>기업규모코드</th>\n",
       "      <th>감사의견코드</th>\n",
       "    </tr>\n",
       "    <tr>\n",
       "      <th>회사명</th>\n",
       "      <th></th>\n",
       "      <th></th>\n",
       "      <th></th>\n",
       "      <th></th>\n",
       "      <th></th>\n",
       "      <th></th>\n",
       "      <th></th>\n",
       "      <th></th>\n",
       "    </tr>\n",
       "  </thead>\n",
       "  <tbody>\n",
       "    <tr>\n",
       "      <th>강동프로젝트금융투자주식회사</th>\n",
       "      <td>63775</td>\n",
       "      <td>2012/12</td>\n",
       "      <td>126802</td>\n",
       "      <td>부동산업</td>\n",
       "      <td>2011/04/25</td>\n",
       "      <td>0</td>\n",
       "      <td>20.0</td>\n",
       "      <td>0.0</td>\n",
       "    </tr>\n",
       "    <tr>\n",
       "      <th>강동프로젝트금융투자주식회사</th>\n",
       "      <td>63775</td>\n",
       "      <td>2013/12</td>\n",
       "      <td>126802</td>\n",
       "      <td>부동산업</td>\n",
       "      <td>2011/04/25</td>\n",
       "      <td>0</td>\n",
       "      <td>10.0</td>\n",
       "      <td>0.0</td>\n",
       "    </tr>\n",
       "    <tr>\n",
       "      <th>강동프로젝트금융투자주식회사</th>\n",
       "      <td>63775</td>\n",
       "      <td>2014/12</td>\n",
       "      <td>126802</td>\n",
       "      <td>부동산업</td>\n",
       "      <td>2011/04/25</td>\n",
       "      <td>0</td>\n",
       "      <td>10.0</td>\n",
       "      <td>0.0</td>\n",
       "    </tr>\n",
       "    <tr>\n",
       "      <th>강동프로젝트금융투자주식회사</th>\n",
       "      <td>63775</td>\n",
       "      <td>2015/12</td>\n",
       "      <td>126802</td>\n",
       "      <td>부동산업</td>\n",
       "      <td>2011/04/25</td>\n",
       "      <td>0</td>\n",
       "      <td>10.0</td>\n",
       "      <td>0.0</td>\n",
       "    </tr>\n",
       "    <tr>\n",
       "      <th>서울복합물류프로젝트금융투자주식회사</th>\n",
       "      <td>63015</td>\n",
       "      <td>2012/12</td>\n",
       "      <td>126801</td>\n",
       "      <td>부동산업</td>\n",
       "      <td>2011/08/01</td>\n",
       "      <td>0</td>\n",
       "      <td>10.0</td>\n",
       "      <td>0.0</td>\n",
       "    </tr>\n",
       "    <tr>\n",
       "      <th>...</th>\n",
       "      <td>...</td>\n",
       "      <td>...</td>\n",
       "      <td>...</td>\n",
       "      <td>...</td>\n",
       "      <td>...</td>\n",
       "      <td>...</td>\n",
       "      <td>...</td>\n",
       "      <td>...</td>\n",
       "    </tr>\n",
       "    <tr>\n",
       "      <th>와이이십이프로젝트금융투자주식회사</th>\n",
       "      <td>45382</td>\n",
       "      <td>2021/12</td>\n",
       "      <td>126801</td>\n",
       "      <td>부동산업</td>\n",
       "      <td>2005/04/28</td>\n",
       "      <td>0</td>\n",
       "      <td>30.0</td>\n",
       "      <td>0.0</td>\n",
       "    </tr>\n",
       "    <tr>\n",
       "      <th>와이이십이프로젝트금융투자주식회사</th>\n",
       "      <td>45382</td>\n",
       "      <td>2022/12</td>\n",
       "      <td>126801</td>\n",
       "      <td>부동산업</td>\n",
       "      <td>2005/04/28</td>\n",
       "      <td>0</td>\n",
       "      <td>30.0</td>\n",
       "      <td>0.0</td>\n",
       "    </tr>\n",
       "    <tr>\n",
       "      <th>인사동프로젝트금융투자주식회사</th>\n",
       "      <td>98028</td>\n",
       "      <td>2020/12</td>\n",
       "      <td>126800</td>\n",
       "      <td>부동산업</td>\n",
       "      <td>2017/03/06</td>\n",
       "      <td>0</td>\n",
       "      <td>20.0</td>\n",
       "      <td>NaN</td>\n",
       "    </tr>\n",
       "    <tr>\n",
       "      <th>인사동프로젝트금융투자주식회사</th>\n",
       "      <td>98028</td>\n",
       "      <td>2021/12</td>\n",
       "      <td>126800</td>\n",
       "      <td>부동산업</td>\n",
       "      <td>2017/03/06</td>\n",
       "      <td>0</td>\n",
       "      <td>30.0</td>\n",
       "      <td>0.0</td>\n",
       "    </tr>\n",
       "    <tr>\n",
       "      <th>인사동프로젝트금융투자주식회사</th>\n",
       "      <td>98028</td>\n",
       "      <td>2022/12</td>\n",
       "      <td>126800</td>\n",
       "      <td>부동산업</td>\n",
       "      <td>2017/03/06</td>\n",
       "      <td>0</td>\n",
       "      <td>30.0</td>\n",
       "      <td>0.0</td>\n",
       "    </tr>\n",
       "  </tbody>\n",
       "</table>\n",
       "<p>128 rows × 8 columns</p>\n",
       "</div>"
      ],
      "text/plain": [
       "                    거래소코드     회계년도    산업코드     산업명         설립일 상장일  기업규모코드   \n",
       "회사명                                                                          \n",
       "강동프로젝트금융투자주식회사      63775  2012/12  126802    부동산업  2011/04/25   0    20.0  \\\n",
       "강동프로젝트금융투자주식회사      63775  2013/12  126802    부동산업  2011/04/25   0    10.0   \n",
       "강동프로젝트금융투자주식회사      63775  2014/12  126802    부동산업  2011/04/25   0    10.0   \n",
       "강동프로젝트금융투자주식회사      63775  2015/12  126802    부동산업  2011/04/25   0    10.0   \n",
       "서울복합물류프로젝트금융투자주식회사  63015  2012/12  126801    부동산업  2011/08/01   0    10.0   \n",
       "...                   ...      ...     ...     ...         ...  ..     ...   \n",
       "와이이십이프로젝트금융투자주식회사   45382  2021/12  126801    부동산업  2005/04/28   0    30.0   \n",
       "와이이십이프로젝트금융투자주식회사   45382  2022/12  126801    부동산업  2005/04/28   0    30.0   \n",
       "인사동프로젝트금융투자주식회사     98028  2020/12  126800    부동산업  2017/03/06   0    20.0   \n",
       "인사동프로젝트금융투자주식회사     98028  2021/12  126800    부동산업  2017/03/06   0    30.0   \n",
       "인사동프로젝트금융투자주식회사     98028  2022/12  126800    부동산업  2017/03/06   0    30.0   \n",
       "\n",
       "                    감사의견코드  \n",
       "회사명                         \n",
       "강동프로젝트금융투자주식회사         0.0  \n",
       "강동프로젝트금융투자주식회사         0.0  \n",
       "강동프로젝트금융투자주식회사         0.0  \n",
       "강동프로젝트금융투자주식회사         0.0  \n",
       "서울복합물류프로젝트금융투자주식회사     0.0  \n",
       "...                    ...  \n",
       "와이이십이프로젝트금융투자주식회사      0.0  \n",
       "와이이십이프로젝트금융투자주식회사      0.0  \n",
       "인사동프로젝트금융투자주식회사        NaN  \n",
       "인사동프로젝트금융투자주식회사        0.0  \n",
       "인사동프로젝트금융투자주식회사        0.0  \n",
       "\n",
       "[128 rows x 8 columns]"
      ]
     },
     "execution_count": 35,
     "metadata": {},
     "output_type": "execute_result"
    }
   ],
   "source": [
    "df2[df2.index.str.endswith('금융투자주식회사')]"
   ]
  },
  {
   "cell_type": "code",
   "execution_count": 38,
   "metadata": {},
   "outputs": [],
   "source": [
    "# import numpy as np\n",
    "# mask = df.index == df.index.shift(-1)\n",
    "# df['return_rate'] = np.where(mask, df['column_name'] / df['column_name'].shift(-1) - 1, np.nan)"
   ]
  },
  {
   "cell_type": "code",
   "execution_count": null,
   "metadata": {},
   "outputs": [],
   "source": []
  }
 ],
 "metadata": {
  "kernelspec": {
   "display_name": "Python 3",
   "language": "python",
   "name": "python3"
  },
  "language_info": {
   "codemirror_mode": {
    "name": "ipython",
    "version": 3
   },
   "file_extension": ".py",
   "mimetype": "text/x-python",
   "name": "python",
   "nbconvert_exporter": "python",
   "pygments_lexer": "ipython3",
   "version": "3.10.9"
  },
  "orig_nbformat": 4
 },
 "nbformat": 4,
 "nbformat_minor": 2
}
