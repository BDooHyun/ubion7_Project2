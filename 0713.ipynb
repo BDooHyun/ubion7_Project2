{
 "cells": [
  {
   "cell_type": "markdown",
   "metadata": {},
   "source": [
    "## 데이터 EDA과정"
   ]
  },
  {
   "cell_type": "code",
   "execution_count": 56,
   "metadata": {},
   "outputs": [],
   "source": [
    "import pandas as pd"
   ]
  },
  {
   "cell_type": "code",
   "execution_count": 57,
   "metadata": {},
   "outputs": [
    {
     "data": {
      "text/html": [
       "<div>\n",
       "<style scoped>\n",
       "    .dataframe tbody tr th:only-of-type {\n",
       "        vertical-align: middle;\n",
       "    }\n",
       "\n",
       "    .dataframe tbody tr th {\n",
       "        vertical-align: top;\n",
       "    }\n",
       "\n",
       "    .dataframe thead th {\n",
       "        text-align: right;\n",
       "    }\n",
       "</style>\n",
       "<table border=\"1\" class=\"dataframe\">\n",
       "  <thead>\n",
       "    <tr style=\"text-align: right;\">\n",
       "      <th></th>\n",
       "      <th>거래소코드</th>\n",
       "      <th>회계년도</th>\n",
       "      <th>감사의견코드</th>\n",
       "    </tr>\n",
       "    <tr>\n",
       "      <th>회사명</th>\n",
       "      <th></th>\n",
       "      <th></th>\n",
       "      <th></th>\n",
       "    </tr>\n",
       "  </thead>\n",
       "  <tbody>\n",
       "    <tr>\n",
       "      <th>(유)그룹세브코리아</th>\n",
       "      <td>13171</td>\n",
       "      <td>2019/12</td>\n",
       "      <td>NaN</td>\n",
       "    </tr>\n",
       "    <tr>\n",
       "      <th>(유)그룹세브코리아</th>\n",
       "      <td>13171</td>\n",
       "      <td>2020/12</td>\n",
       "      <td>UQ</td>\n",
       "    </tr>\n",
       "    <tr>\n",
       "      <th>(유)그룹세브코리아</th>\n",
       "      <td>13171</td>\n",
       "      <td>2021/12</td>\n",
       "      <td>UQ</td>\n",
       "    </tr>\n",
       "    <tr>\n",
       "      <th>(유)그룹세브코리아</th>\n",
       "      <td>13171</td>\n",
       "      <td>2022/12</td>\n",
       "      <td>UQ</td>\n",
       "    </tr>\n",
       "    <tr>\n",
       "      <th>(유)디에스브이에어앤씨인터내셔널</th>\n",
       "      <td>104275</td>\n",
       "      <td>2021/12</td>\n",
       "      <td>NaN</td>\n",
       "    </tr>\n",
       "    <tr>\n",
       "      <th>...</th>\n",
       "      <td>...</td>\n",
       "      <td>...</td>\n",
       "      <td>...</td>\n",
       "    </tr>\n",
       "    <tr>\n",
       "      <th>힐중공업주식회사</th>\n",
       "      <td>82007</td>\n",
       "      <td>2017/12</td>\n",
       "      <td>QS</td>\n",
       "    </tr>\n",
       "    <tr>\n",
       "      <th>힐중공업주식회사</th>\n",
       "      <td>82007</td>\n",
       "      <td>2018/12</td>\n",
       "      <td>QU</td>\n",
       "    </tr>\n",
       "    <tr>\n",
       "      <th>（주）신미코스메틱</th>\n",
       "      <td>85105</td>\n",
       "      <td>2017/12</td>\n",
       "      <td>NaN</td>\n",
       "    </tr>\n",
       "    <tr>\n",
       "      <th>（주）신미코스메틱</th>\n",
       "      <td>85105</td>\n",
       "      <td>2018/12</td>\n",
       "      <td>UQ</td>\n",
       "    </tr>\n",
       "    <tr>\n",
       "      <th>（주）신미코스메틱</th>\n",
       "      <td>85105</td>\n",
       "      <td>2019/12</td>\n",
       "      <td>UQ</td>\n",
       "    </tr>\n",
       "  </tbody>\n",
       "</table>\n",
       "<p>294820 rows × 3 columns</p>\n",
       "</div>"
      ],
      "text/plain": [
       "                    거래소코드     회계년도 감사의견코드\n",
       "회사명                                      \n",
       "(유)그룹세브코리아          13171  2019/12    NaN\n",
       "(유)그룹세브코리아          13171  2020/12     UQ\n",
       "(유)그룹세브코리아          13171  2021/12     UQ\n",
       "(유)그룹세브코리아          13171  2022/12     UQ\n",
       "(유)디에스브이에어앤씨인터내셔널  104275  2021/12    NaN\n",
       "...                   ...      ...    ...\n",
       "힐중공업주식회사            82007  2017/12     QS\n",
       "힐중공업주식회사            82007  2018/12     QU\n",
       "（주）신미코스메틱           85105  2017/12    NaN\n",
       "（주）신미코스메틱           85105  2018/12     UQ\n",
       "（주）신미코스메틱           85105  2019/12     UQ\n",
       "\n",
       "[294820 rows x 3 columns]"
      ]
     },
     "execution_count": 57,
     "metadata": {},
     "output_type": "execute_result"
    }
   ],
   "source": [
    "df=pd.read_csv('./Dataset/mk_target.csv',encoding='euc-kr',index_col=0)\n",
    "df"
   ]
  },
  {
   "cell_type": "code",
   "execution_count": 58,
   "metadata": {},
   "outputs": [
    {
     "data": {
      "text/plain": [
       "거래소코드         0\n",
       "회계년도          0\n",
       "감사의견코드    32934\n",
       "dtype: int64"
      ]
     },
     "execution_count": 58,
     "metadata": {},
     "output_type": "execute_result"
    }
   ],
   "source": [
    "df.isna().sum()"
   ]
  },
  {
   "cell_type": "code",
   "execution_count": 59,
   "metadata": {},
   "outputs": [
    {
     "data": {
      "text/html": [
       "<div>\n",
       "<style scoped>\n",
       "    .dataframe tbody tr th:only-of-type {\n",
       "        vertical-align: middle;\n",
       "    }\n",
       "\n",
       "    .dataframe tbody tr th {\n",
       "        vertical-align: top;\n",
       "    }\n",
       "\n",
       "    .dataframe thead th {\n",
       "        text-align: right;\n",
       "    }\n",
       "</style>\n",
       "<table border=\"1\" class=\"dataframe\">\n",
       "  <thead>\n",
       "    <tr style=\"text-align: right;\">\n",
       "      <th></th>\n",
       "      <th>거래소코드</th>\n",
       "      <th>회계년도</th>\n",
       "      <th>감사의견코드</th>\n",
       "    </tr>\n",
       "    <tr>\n",
       "      <th>회사명</th>\n",
       "      <th></th>\n",
       "      <th></th>\n",
       "      <th></th>\n",
       "    </tr>\n",
       "  </thead>\n",
       "  <tbody>\n",
       "    <tr>\n",
       "      <th>(주)제이더블유엘</th>\n",
       "      <td>58276</td>\n",
       "      <td>2012/12</td>\n",
       "      <td>ZZ</td>\n",
       "    </tr>\n",
       "  </tbody>\n",
       "</table>\n",
       "</div>"
      ],
      "text/plain": [
       "           거래소코드     회계년도 감사의견코드\n",
       "회사명                             \n",
       "(주)제이더블유엘  58276  2012/12     ZZ"
      ]
     },
     "execution_count": 59,
     "metadata": {},
     "output_type": "execute_result"
    }
   ],
   "source": [
    "df[df['감사의견코드']=='ZZ']"
   ]
  },
  {
   "cell_type": "code",
   "execution_count": 60,
   "metadata": {},
   "outputs": [
    {
     "data": {
      "text/plain": [
       "감사의견코드\n",
       "UQ    239780\n",
       "QS     13023\n",
       "DU      3604\n",
       "DS      2559\n",
       "QG      1208\n",
       "QU      1152\n",
       "AG       527\n",
       "QQ        27\n",
       "QA         4\n",
       "ZZ         1\n",
       "DI         1\n",
       "Name: count, dtype: int64"
      ]
     },
     "execution_count": 60,
     "metadata": {},
     "output_type": "execute_result"
    }
   ],
   "source": [
    "df['감사의견코드'].value_counts()"
   ]
  },
  {
   "cell_type": "code",
   "execution_count": 61,
   "metadata": {},
   "outputs": [],
   "source": [
    "df['감사의견코드']=df['감사의견코드'].map({\n",
    "    'AG':'부적정',\n",
    "    'DS':'의견거절',\n",
    "    'DI':'의견거절',\n",
    "    'DU':'의견거절',\n",
    "    'QA':'한정',\n",
    "    'QC':'한정',\n",
    "    'QG':'한정',\n",
    "    'QQ':'한정',\n",
    "    'QS':'한정',\n",
    "    'QU':'한정',\n",
    "    'UQ':'적정',\n",
    "    'ZZ':'ZZ'\n",
    "\n",
    "})"
   ]
  },
  {
   "cell_type": "code",
   "execution_count": 62,
   "metadata": {},
   "outputs": [
    {
     "data": {
      "text/plain": [
       "32934"
      ]
     },
     "execution_count": 62,
     "metadata": {},
     "output_type": "execute_result"
    }
   ],
   "source": [
    "df['감사의견코드'].isna().sum()"
   ]
  },
  {
   "cell_type": "code",
   "execution_count": 63,
   "metadata": {},
   "outputs": [
    {
     "data": {
      "text/plain": [
       "감사의견코드\n",
       "적정      239780\n",
       "한정       15414\n",
       "의견거절      6164\n",
       "부적정        527\n",
       "ZZ           1\n",
       "Name: count, dtype: int64"
      ]
     },
     "execution_count": 63,
     "metadata": {},
     "output_type": "execute_result"
    }
   ],
   "source": [
    "df['감사의견코드'].value_counts()"
   ]
  },
  {
   "cell_type": "code",
   "execution_count": 64,
   "metadata": {},
   "outputs": [
    {
     "data": {
      "text/plain": [
       "0.09218867295020436"
      ]
     },
     "execution_count": 64,
     "metadata": {},
     "output_type": "execute_result"
    }
   ],
   "source": [
    "(15414+6164+527)/239780"
   ]
  },
  {
   "cell_type": "code",
   "execution_count": 65,
   "metadata": {},
   "outputs": [
    {
     "data": {
      "text/plain": [
       "22105"
      ]
     },
     "execution_count": 65,
     "metadata": {},
     "output_type": "execute_result"
    }
   ],
   "source": [
    "(15414+6164+527)"
   ]
  },
  {
   "cell_type": "code",
   "execution_count": 66,
   "metadata": {},
   "outputs": [
    {
     "data": {
      "text/plain": [
       "거래소코드         0\n",
       "회계년도          0\n",
       "감사의견코드    32934\n",
       "dtype: int64"
      ]
     },
     "execution_count": 66,
     "metadata": {},
     "output_type": "execute_result"
    }
   ],
   "source": [
    "df.isna().sum()"
   ]
  },
  {
   "cell_type": "markdown",
   "metadata": {},
   "source": [
    "* 감사의견 코드 ZZ가 뭘까?"
   ]
  },
  {
   "cell_type": "code",
   "execution_count": 67,
   "metadata": {},
   "outputs": [
    {
     "data": {
      "text/html": [
       "<div>\n",
       "<style scoped>\n",
       "    .dataframe tbody tr th:only-of-type {\n",
       "        vertical-align: middle;\n",
       "    }\n",
       "\n",
       "    .dataframe tbody tr th {\n",
       "        vertical-align: top;\n",
       "    }\n",
       "\n",
       "    .dataframe thead th {\n",
       "        text-align: right;\n",
       "    }\n",
       "</style>\n",
       "<table border=\"1\" class=\"dataframe\">\n",
       "  <thead>\n",
       "    <tr style=\"text-align: right;\">\n",
       "      <th></th>\n",
       "      <th>거래소코드</th>\n",
       "      <th>회계년도</th>\n",
       "      <th>감사의견코드</th>\n",
       "    </tr>\n",
       "    <tr>\n",
       "      <th>회사명</th>\n",
       "      <th></th>\n",
       "      <th></th>\n",
       "      <th></th>\n",
       "    </tr>\n",
       "  </thead>\n",
       "  <tbody>\n",
       "    <tr>\n",
       "      <th>(주)제이더블유엘</th>\n",
       "      <td>58276</td>\n",
       "      <td>2012/12</td>\n",
       "      <td>ZZ</td>\n",
       "    </tr>\n",
       "  </tbody>\n",
       "</table>\n",
       "</div>"
      ],
      "text/plain": [
       "           거래소코드     회계년도 감사의견코드\n",
       "회사명                             \n",
       "(주)제이더블유엘  58276  2012/12     ZZ"
      ]
     },
     "execution_count": 67,
     "metadata": {},
     "output_type": "execute_result"
    }
   ],
   "source": [
    "df[df['감사의견코드']=='ZZ']"
   ]
  },
  {
   "cell_type": "code",
   "execution_count": 68,
   "metadata": {},
   "outputs": [],
   "source": [
    "df['감사의견코드']=df['감사의견코드'].map({\n",
    "    '적정':0,\n",
    "    '한정':1,\n",
    "    '부적정':1,\n",
    "    '의견거절':1\n",
    "\n",
    "})"
   ]
  },
  {
   "cell_type": "code",
   "execution_count": 69,
   "metadata": {},
   "outputs": [
    {
     "data": {
      "text/plain": [
       "감사의견코드\n",
       "0.0    239780\n",
       "1.0     22105\n",
       "Name: count, dtype: int64"
      ]
     },
     "execution_count": 69,
     "metadata": {},
     "output_type": "execute_result"
    }
   ],
   "source": [
    "df['감사의견코드'].value_counts()"
   ]
  },
  {
   "cell_type": "code",
   "execution_count": 70,
   "metadata": {},
   "outputs": [
    {
     "data": {
      "text/plain": [
       "40775"
      ]
     },
     "execution_count": 70,
     "metadata": {},
     "output_type": "execute_result"
    }
   ],
   "source": [
    "len(df[df['감사의견코드']==0].index.unique())"
   ]
  },
  {
   "cell_type": "code",
   "execution_count": 71,
   "metadata": {},
   "outputs": [
    {
     "data": {
      "text/plain": [
       "14793"
      ]
     },
     "execution_count": 71,
     "metadata": {},
     "output_type": "execute_result"
    }
   ],
   "source": [
    "len(df[df['감사의견코드']==1].index.unique())"
   ]
  },
  {
   "cell_type": "code",
   "execution_count": 72,
   "metadata": {},
   "outputs": [],
   "source": [
    "df1=pd.read_csv('./Dataset/중견1.csv',encoding='euc-kr',index_col=0)\n",
    "df2=pd.read_csv('./Dataset/중견2.csv',encoding='euc-kr',index_col=0)\n",
    "df=pd.concat([df1,df2],axis=0)"
   ]
  },
  {
   "cell_type": "code",
   "execution_count": 73,
   "metadata": {},
   "outputs": [],
   "source": [
    "df.to_csv('중견기업.csv',encoding='euc-kr')"
   ]
  },
  {
   "cell_type": "code",
   "execution_count": 74,
   "metadata": {},
   "outputs": [
    {
     "data": {
      "text/plain": [
       "5568"
      ]
     },
     "execution_count": 74,
     "metadata": {},
     "output_type": "execute_result"
    }
   ],
   "source": [
    "len(df.index.unique())"
   ]
  },
  {
   "cell_type": "code",
   "execution_count": 75,
   "metadata": {},
   "outputs": [],
   "source": [
    "#########################################################################################################################################################"
   ]
  },
  {
   "cell_type": "code",
   "execution_count": 76,
   "metadata": {},
   "outputs": [],
   "source": [
    "df2=pd.read_csv('./Dataset/mk_target2.csv',encoding='euc-kr',index_col=0)"
   ]
  },
  {
   "cell_type": "code",
   "execution_count": 77,
   "metadata": {},
   "outputs": [
    {
     "data": {
      "text/plain": [
       "51261"
      ]
     },
     "execution_count": 77,
     "metadata": {},
     "output_type": "execute_result"
    }
   ],
   "source": [
    "len(df2.index.unique())"
   ]
  },
  {
   "cell_type": "code",
   "execution_count": 78,
   "metadata": {},
   "outputs": [
    {
     "data": {
      "text/plain": [
       "감사의견코드\n",
       "UQ    236730\n",
       "QS     13901\n",
       "DU      3772\n",
       "DS      2632\n",
       "QG      1272\n",
       "QU      1194\n",
       "AG       533\n",
       "QQ        28\n",
       "QA         4\n",
       "ZZ         1\n",
       "DI         1\n",
       "Name: count, dtype: int64"
      ]
     },
     "execution_count": 78,
     "metadata": {},
     "output_type": "execute_result"
    }
   ],
   "source": [
    "df2['감사의견코드'].value_counts()"
   ]
  },
  {
   "cell_type": "code",
   "execution_count": 79,
   "metadata": {},
   "outputs": [],
   "source": [
    "df2['감사의견코드']=df2['감사의견코드'].map({\n",
    "    'AG':'부적정',\n",
    "    'DS':'의견거절',\n",
    "    'DI':'의견거절',\n",
    "    'DU':'의견거절',\n",
    "    'QA':'한정',\n",
    "    'QC':'한정',\n",
    "    'QG':'한정',\n",
    "    'QQ':'한정',\n",
    "    'QS':'한정',\n",
    "    'QU':'한정',\n",
    "    'UQ':'적정',\n",
    "    'ZZ':'ZZ'\n",
    "\n",
    "})"
   ]
  },
  {
   "cell_type": "code",
   "execution_count": 80,
   "metadata": {},
   "outputs": [],
   "source": [
    "df2['감사의견코드']=df2['감사의견코드'].map({\n",
    "    '적정':0,\n",
    "    '한정':1,\n",
    "    '부적정':1,\n",
    "    '의견거절':1\n",
    "\n",
    "})"
   ]
  },
  {
   "cell_type": "code",
   "execution_count": 81,
   "metadata": {},
   "outputs": [
    {
     "data": {
      "text/plain": [
       "감사의견코드\n",
       "0.0    236730\n",
       "1.0     23337\n",
       "Name: count, dtype: int64"
      ]
     },
     "execution_count": 81,
     "metadata": {},
     "output_type": "execute_result"
    }
   ],
   "source": [
    "df2['감사의견코드'].value_counts()"
   ]
  },
  {
   "cell_type": "code",
   "execution_count": 82,
   "metadata": {},
   "outputs": [
    {
     "data": {
      "text/plain": [
       "45694"
      ]
     },
     "execution_count": 82,
     "metadata": {},
     "output_type": "execute_result"
    }
   ],
   "source": [
    "len(df2[df2['감사의견코드']==0].index.unique())"
   ]
  },
  {
   "cell_type": "code",
   "execution_count": 83,
   "metadata": {},
   "outputs": [
    {
     "data": {
      "text/plain": [
       "16276"
      ]
     },
     "execution_count": 83,
     "metadata": {},
     "output_type": "execute_result"
    }
   ],
   "source": [
    "len(df2[df2['감사의견코드']==1].index.unique())"
   ]
  },
  {
   "cell_type": "code",
   "execution_count": null,
   "metadata": {},
   "outputs": [],
   "source": []
  },
  {
   "cell_type": "code",
   "execution_count": 84,
   "metadata": {},
   "outputs": [
    {
     "data": {
      "text/plain": [
       "51261"
      ]
     },
     "execution_count": 84,
     "metadata": {},
     "output_type": "execute_result"
    }
   ],
   "source": [
    "len(df2.index.unique())"
   ]
  },
  {
   "cell_type": "code",
   "execution_count": 85,
   "metadata": {},
   "outputs": [
    {
     "data": {
      "text/plain": [
       "거래소코드         0\n",
       "회계년도          0\n",
       "산업코드          0\n",
       "산업명           0\n",
       "설립일         297\n",
       "상장일          12\n",
       "기업규모코드     2961\n",
       "감사의견코드    34006\n",
       "dtype: int64"
      ]
     },
     "execution_count": 85,
     "metadata": {},
     "output_type": "execute_result"
    }
   ],
   "source": [
    "df2.isna().sum()"
   ]
  },
  {
   "cell_type": "code",
   "execution_count": 86,
   "metadata": {},
   "outputs": [
    {
     "data": {
      "text/plain": [
       "16276"
      ]
     },
     "execution_count": 86,
     "metadata": {},
     "output_type": "execute_result"
    }
   ],
   "source": [
    "len(df2[df2['감사의견코드']==1].index.unique())"
   ]
  },
  {
   "cell_type": "code",
   "execution_count": 87,
   "metadata": {},
   "outputs": [
    {
     "data": {
      "text/plain": [
       "감사의견코드\n",
       "0.0    236730\n",
       "1.0     23337\n",
       "Name: count, dtype: int64"
      ]
     },
     "execution_count": 87,
     "metadata": {},
     "output_type": "execute_result"
    }
   ],
   "source": [
    "df2['감사의견코드'].value_counts()"
   ]
  },
  {
   "cell_type": "code",
   "execution_count": 88,
   "metadata": {},
   "outputs": [],
   "source": [
    "def 다음_행_인덱스_출력(dataframe):\n",
    "    for 인덱스, 행 in dataframe.iterrows():\n",
    "        try:\n",
    "            if int(인덱스) < len(dataframe.index) - 1:\n",
    "                다음_행 = dataframe.iloc[int(인덱스) + 1]\n",
    "                if not 행.equals(다음_행):\n",
    "                    return int(인덱스) + 1\n",
    "        except ValueError:\n",
    "            continue\n",
    "    return None\n",
    "\n",
    "\n"
   ]
  },
  {
   "cell_type": "markdown",
   "metadata": {},
   "source": [
    "### 부동산투자회사라고 끝나는 회사 : 792개\n",
    "### 금융투자주식회사라고 끝나는 회사 : 128개\n",
    "\n"
   ]
  },
  {
   "cell_type": "code",
   "execution_count": 89,
   "metadata": {},
   "outputs": [],
   "source": [
    "df2.index = df2.index.astype(str)\n",
    "df2.drop(df2.index[df2.index.str.endswith('부동산투자회사')], axis=0, inplace=True)\n",
    "df2.drop(df2.index[df2.index.str.endswith('금융투자주식회사')], axis=0, inplace=True)\n",
    "df2.drop(df2.index[df2.index.str.contains('리츠')], axis=0, inplace=True)\n"
   ]
  },
  {
   "cell_type": "code",
   "execution_count": 90,
   "metadata": {},
   "outputs": [
    {
     "data": {
      "text/html": [
       "<div>\n",
       "<style scoped>\n",
       "    .dataframe tbody tr th:only-of-type {\n",
       "        vertical-align: middle;\n",
       "    }\n",
       "\n",
       "    .dataframe tbody tr th {\n",
       "        vertical-align: top;\n",
       "    }\n",
       "\n",
       "    .dataframe thead th {\n",
       "        text-align: right;\n",
       "    }\n",
       "</style>\n",
       "<table border=\"1\" class=\"dataframe\">\n",
       "  <thead>\n",
       "    <tr style=\"text-align: right;\">\n",
       "      <th></th>\n",
       "      <th>거래소코드</th>\n",
       "      <th>회계년도</th>\n",
       "      <th>산업코드</th>\n",
       "      <th>산업명</th>\n",
       "      <th>설립일</th>\n",
       "      <th>상장일</th>\n",
       "      <th>기업규모코드</th>\n",
       "      <th>감사의견코드</th>\n",
       "    </tr>\n",
       "    <tr>\n",
       "      <th>회사명</th>\n",
       "      <th></th>\n",
       "      <th></th>\n",
       "      <th></th>\n",
       "      <th></th>\n",
       "      <th></th>\n",
       "      <th></th>\n",
       "      <th></th>\n",
       "      <th></th>\n",
       "    </tr>\n",
       "  </thead>\n",
       "  <tbody>\n",
       "    <tr>\n",
       "      <th>(주)라힘컴퍼니</th>\n",
       "      <td>96136</td>\n",
       "      <td>2019/12</td>\n",
       "      <td>126801</td>\n",
       "      <td>부동산업</td>\n",
       "      <td>2019/04/01</td>\n",
       "      <td>0</td>\n",
       "      <td>20.0</td>\n",
       "      <td>NaN</td>\n",
       "    </tr>\n",
       "    <tr>\n",
       "      <th>(주)라힘컴퍼니</th>\n",
       "      <td>96136</td>\n",
       "      <td>2020/12</td>\n",
       "      <td>126801</td>\n",
       "      <td>부동산업</td>\n",
       "      <td>2019/04/01</td>\n",
       "      <td>0</td>\n",
       "      <td>20.0</td>\n",
       "      <td>1.0</td>\n",
       "    </tr>\n",
       "    <tr>\n",
       "      <th>(주)라힘컴퍼니</th>\n",
       "      <td>96136</td>\n",
       "      <td>2021/12</td>\n",
       "      <td>126801</td>\n",
       "      <td>부동산업</td>\n",
       "      <td>2019/04/01</td>\n",
       "      <td>0</td>\n",
       "      <td>20.0</td>\n",
       "      <td>0.0</td>\n",
       "    </tr>\n",
       "    <tr>\n",
       "      <th>주식회사힘찬개발</th>\n",
       "      <td>96328</td>\n",
       "      <td>2019/12</td>\n",
       "      <td>126801</td>\n",
       "      <td>부동산업</td>\n",
       "      <td>2018/09/13</td>\n",
       "      <td>0</td>\n",
       "      <td>20.0</td>\n",
       "      <td>NaN</td>\n",
       "    </tr>\n",
       "    <tr>\n",
       "      <th>주식회사힘찬개발</th>\n",
       "      <td>96328</td>\n",
       "      <td>2020/12</td>\n",
       "      <td>126801</td>\n",
       "      <td>부동산업</td>\n",
       "      <td>2018/09/13</td>\n",
       "      <td>0</td>\n",
       "      <td>20.0</td>\n",
       "      <td>0.0</td>\n",
       "    </tr>\n",
       "    <tr>\n",
       "      <th>...</th>\n",
       "      <td>...</td>\n",
       "      <td>...</td>\n",
       "      <td>...</td>\n",
       "      <td>...</td>\n",
       "      <td>...</td>\n",
       "      <td>...</td>\n",
       "      <td>...</td>\n",
       "      <td>...</td>\n",
       "    </tr>\n",
       "    <tr>\n",
       "      <th>현대힘스주식회사</th>\n",
       "      <td>54829</td>\n",
       "      <td>2018/12</td>\n",
       "      <td>33101</td>\n",
       "      <td>기타 운송장비 제조업</td>\n",
       "      <td>2008/04/25</td>\n",
       "      <td>0</td>\n",
       "      <td>10.0</td>\n",
       "      <td>0.0</td>\n",
       "    </tr>\n",
       "    <tr>\n",
       "      <th>현대힘스주식회사</th>\n",
       "      <td>54829</td>\n",
       "      <td>2019/12</td>\n",
       "      <td>33101</td>\n",
       "      <td>기타 운송장비 제조업</td>\n",
       "      <td>2008/04/25</td>\n",
       "      <td>0</td>\n",
       "      <td>30.0</td>\n",
       "      <td>0.0</td>\n",
       "    </tr>\n",
       "    <tr>\n",
       "      <th>현대힘스주식회사</th>\n",
       "      <td>54829</td>\n",
       "      <td>2020/12</td>\n",
       "      <td>33101</td>\n",
       "      <td>기타 운송장비 제조업</td>\n",
       "      <td>2008/04/25</td>\n",
       "      <td>0</td>\n",
       "      <td>30.0</td>\n",
       "      <td>0.0</td>\n",
       "    </tr>\n",
       "    <tr>\n",
       "      <th>현대힘스주식회사</th>\n",
       "      <td>54829</td>\n",
       "      <td>2021/12</td>\n",
       "      <td>33101</td>\n",
       "      <td>기타 운송장비 제조업</td>\n",
       "      <td>2008/04/25</td>\n",
       "      <td>0</td>\n",
       "      <td>30.0</td>\n",
       "      <td>0.0</td>\n",
       "    </tr>\n",
       "    <tr>\n",
       "      <th>현대힘스주식회사</th>\n",
       "      <td>54829</td>\n",
       "      <td>2022/12</td>\n",
       "      <td>33101</td>\n",
       "      <td>기타 운송장비 제조업</td>\n",
       "      <td>2008/04/25</td>\n",
       "      <td>0</td>\n",
       "      <td>30.0</td>\n",
       "      <td>0.0</td>\n",
       "    </tr>\n",
       "  </tbody>\n",
       "</table>\n",
       "<p>73 rows × 8 columns</p>\n",
       "</div>"
      ],
      "text/plain": [
       "          거래소코드     회계년도    산업코드            산업명         설립일 상장일  기업규모코드   \n",
       "회사명                                                                       \n",
       "(주)라힘컴퍼니  96136  2019/12  126801           부동산업  2019/04/01   0    20.0  \\\n",
       "(주)라힘컴퍼니  96136  2020/12  126801           부동산업  2019/04/01   0    20.0   \n",
       "(주)라힘컴퍼니  96136  2021/12  126801           부동산업  2019/04/01   0    20.0   \n",
       "주식회사힘찬개발  96328  2019/12  126801           부동산업  2018/09/13   0    20.0   \n",
       "주식회사힘찬개발  96328  2020/12  126801           부동산업  2018/09/13   0    20.0   \n",
       "...         ...      ...     ...            ...         ...  ..     ...   \n",
       "현대힘스주식회사  54829  2018/12   33101    기타 운송장비 제조업  2008/04/25   0    10.0   \n",
       "현대힘스주식회사  54829  2019/12   33101    기타 운송장비 제조업  2008/04/25   0    30.0   \n",
       "현대힘스주식회사  54829  2020/12   33101    기타 운송장비 제조업  2008/04/25   0    30.0   \n",
       "현대힘스주식회사  54829  2021/12   33101    기타 운송장비 제조업  2008/04/25   0    30.0   \n",
       "현대힘스주식회사  54829  2022/12   33101    기타 운송장비 제조업  2008/04/25   0    30.0   \n",
       "\n",
       "          감사의견코드  \n",
       "회사명               \n",
       "(주)라힘컴퍼니     NaN  \n",
       "(주)라힘컴퍼니     1.0  \n",
       "(주)라힘컴퍼니     0.0  \n",
       "주식회사힘찬개발     NaN  \n",
       "주식회사힘찬개발     0.0  \n",
       "...          ...  \n",
       "현대힘스주식회사     0.0  \n",
       "현대힘스주식회사     0.0  \n",
       "현대힘스주식회사     0.0  \n",
       "현대힘스주식회사     0.0  \n",
       "현대힘스주식회사     0.0  \n",
       "\n",
       "[73 rows x 8 columns]"
      ]
     },
     "execution_count": 90,
     "metadata": {},
     "output_type": "execute_result"
    }
   ],
   "source": [
    "df2[df2.index.str.contains('힘')]"
   ]
  },
  {
   "cell_type": "code",
   "execution_count": 91,
   "metadata": {},
   "outputs": [],
   "source": [
    "# df2[df2.index.str.endswith('금융투자주식회사')]"
   ]
  },
  {
   "cell_type": "code",
   "execution_count": 92,
   "metadata": {},
   "outputs": [],
   "source": [
    "# df2[df2.index.str.contains('리츠')]"
   ]
  },
  {
   "cell_type": "code",
   "execution_count": 103,
   "metadata": {},
   "outputs": [],
   "source": [
    "# df2[df2.index.str.contains('카카오')]"
   ]
  },
  {
   "cell_type": "code",
   "execution_count": 37,
   "metadata": {},
   "outputs": [],
   "source": [
    "# import numpy as np\n",
    "# mask = df.index == df.index.shift(-1)\n",
    "# df['return_rate'] = np.where(mask, df['column_name'] / df['column_name'].shift(-1) - 1, np.nan)"
   ]
  },
  {
   "cell_type": "code",
   "execution_count": 38,
   "metadata": {},
   "outputs": [
    {
     "data": {
      "text/html": [
       "<div>\n",
       "<style scoped>\n",
       "    .dataframe tbody tr th:only-of-type {\n",
       "        vertical-align: middle;\n",
       "    }\n",
       "\n",
       "    .dataframe tbody tr th {\n",
       "        vertical-align: top;\n",
       "    }\n",
       "\n",
       "    .dataframe thead th {\n",
       "        text-align: right;\n",
       "    }\n",
       "</style>\n",
       "<table border=\"1\" class=\"dataframe\">\n",
       "  <thead>\n",
       "    <tr style=\"text-align: right;\">\n",
       "      <th></th>\n",
       "      <th>거래소코드</th>\n",
       "      <th>회계년도</th>\n",
       "      <th>산업코드</th>\n",
       "      <th>설립일</th>\n",
       "      <th>상장일</th>\n",
       "      <th>기업규모코드</th>\n",
       "      <th>감사의견코드</th>\n",
       "    </tr>\n",
       "    <tr>\n",
       "      <th>산업명</th>\n",
       "      <th></th>\n",
       "      <th></th>\n",
       "      <th></th>\n",
       "      <th></th>\n",
       "      <th></th>\n",
       "      <th></th>\n",
       "      <th></th>\n",
       "    </tr>\n",
       "  </thead>\n",
       "  <tbody>\n",
       "    <tr>\n",
       "      <th>1차 금속 제조업</th>\n",
       "      <td>7746</td>\n",
       "      <td>7746</td>\n",
       "      <td>7746</td>\n",
       "      <td>7735</td>\n",
       "      <td>7746</td>\n",
       "      <td>7706</td>\n",
       "      <td>7214</td>\n",
       "    </tr>\n",
       "    <tr>\n",
       "      <th>가구 제조업</th>\n",
       "      <td>760</td>\n",
       "      <td>760</td>\n",
       "      <td>760</td>\n",
       "      <td>760</td>\n",
       "      <td>760</td>\n",
       "      <td>749</td>\n",
       "      <td>661</td>\n",
       "    </tr>\n",
       "    <tr>\n",
       "      <th>가죽, 가방 및 신발 제조업</th>\n",
       "      <td>1035</td>\n",
       "      <td>1035</td>\n",
       "      <td>1035</td>\n",
       "      <td>1024</td>\n",
       "      <td>1035</td>\n",
       "      <td>1024</td>\n",
       "      <td>935</td>\n",
       "    </tr>\n",
       "    <tr>\n",
       "      <th>개인 및 소비용품 수리업</th>\n",
       "      <td>342</td>\n",
       "      <td>342</td>\n",
       "      <td>342</td>\n",
       "      <td>342</td>\n",
       "      <td>342</td>\n",
       "      <td>336</td>\n",
       "      <td>291</td>\n",
       "    </tr>\n",
       "    <tr>\n",
       "      <th>건축기술, 엔지니어링 및 기타 과학기술 서비스업</th>\n",
       "      <td>2897</td>\n",
       "      <td>2897</td>\n",
       "      <td>2897</td>\n",
       "      <td>2879</td>\n",
       "      <td>2897</td>\n",
       "      <td>2874</td>\n",
       "      <td>2591</td>\n",
       "    </tr>\n",
       "    <tr>\n",
       "      <th>...</th>\n",
       "      <td>...</td>\n",
       "      <td>...</td>\n",
       "      <td>...</td>\n",
       "      <td>...</td>\n",
       "      <td>...</td>\n",
       "      <td>...</td>\n",
       "      <td>...</td>\n",
       "    </tr>\n",
       "    <tr>\n",
       "      <th>하수, 폐수 및 분뇨 처리업</th>\n",
       "      <td>782</td>\n",
       "      <td>782</td>\n",
       "      <td>782</td>\n",
       "      <td>782</td>\n",
       "      <td>782</td>\n",
       "      <td>779</td>\n",
       "      <td>737</td>\n",
       "    </tr>\n",
       "    <tr>\n",
       "      <th>항공 운송업</th>\n",
       "      <td>166</td>\n",
       "      <td>166</td>\n",
       "      <td>166</td>\n",
       "      <td>155</td>\n",
       "      <td>166</td>\n",
       "      <td>164</td>\n",
       "      <td>149</td>\n",
       "    </tr>\n",
       "    <tr>\n",
       "      <th>협회 및 단체</th>\n",
       "      <td>241</td>\n",
       "      <td>241</td>\n",
       "      <td>241</td>\n",
       "      <td>230</td>\n",
       "      <td>241</td>\n",
       "      <td>225</td>\n",
       "      <td>181</td>\n",
       "    </tr>\n",
       "    <tr>\n",
       "      <th>화학물질 및 화학제품 제조업; 의약품 제외</th>\n",
       "      <td>8771</td>\n",
       "      <td>8771</td>\n",
       "      <td>8771</td>\n",
       "      <td>8771</td>\n",
       "      <td>8771</td>\n",
       "      <td>8708</td>\n",
       "      <td>8065</td>\n",
       "    </tr>\n",
       "    <tr>\n",
       "      <th>환경 정화 및 복원업</th>\n",
       "      <td>81</td>\n",
       "      <td>81</td>\n",
       "      <td>81</td>\n",
       "      <td>81</td>\n",
       "      <td>81</td>\n",
       "      <td>81</td>\n",
       "      <td>74</td>\n",
       "    </tr>\n",
       "  </tbody>\n",
       "</table>\n",
       "<p>72 rows × 7 columns</p>\n",
       "</div>"
      ],
      "text/plain": [
       "                              거래소코드  회계년도  산업코드   설립일   상장일  기업규모코드  감사의견코드\n",
       "산업명                                                                        \n",
       "  1차 금속 제조업                    7746  7746  7746  7735  7746    7706    7214\n",
       "  가구 제조업                        760   760   760   760   760     749     661\n",
       "  가죽, 가방 및 신발 제조업              1035  1035  1035  1024  1035    1024     935\n",
       "  개인 및 소비용품 수리업                 342   342   342   342   342     336     291\n",
       "  건축기술, 엔지니어링 및 기타 과학기술 서비스업   2897  2897  2897  2879  2897    2874    2591\n",
       "...                             ...   ...   ...   ...   ...     ...     ...\n",
       "  하수, 폐수 및 분뇨 처리업               782   782   782   782   782     779     737\n",
       "  항공 운송업                        166   166   166   155   166     164     149\n",
       "  협회 및 단체                       241   241   241   230   241     225     181\n",
       "  화학물질 및 화학제품 제조업; 의약품 제외      8771  8771  8771  8771  8771    8708    8065\n",
       "  환경 정화 및 복원업                    81    81    81    81    81      81      74\n",
       "\n",
       "[72 rows x 7 columns]"
      ]
     },
     "execution_count": 38,
     "metadata": {},
     "output_type": "execute_result"
    }
   ],
   "source": [
    "df2.groupby(df2['산업명']).count()"
   ]
  },
  {
   "cell_type": "code",
   "execution_count": 39,
   "metadata": {},
   "outputs": [
    {
     "data": {
      "text/plain": [
       "45459"
      ]
     },
     "execution_count": 39,
     "metadata": {},
     "output_type": "execute_result"
    }
   ],
   "source": [
    "len(df2[df2['감사의견코드']==0].index.unique())"
   ]
  },
  {
   "cell_type": "code",
   "execution_count": 40,
   "metadata": {},
   "outputs": [
    {
     "data": {
      "text/plain": [
       "16264"
      ]
     },
     "execution_count": 40,
     "metadata": {},
     "output_type": "execute_result"
    }
   ],
   "source": [
    "len(df2[df2['감사의견코드']==1].index.unique())"
   ]
  },
  {
   "cell_type": "code",
   "execution_count": 41,
   "metadata": {},
   "outputs": [
    {
     "data": {
      "text/plain": [
       "Index(['(주)더클래식씨씨', '(주)동주피앤지', '(주)선진햄', '(주)순천에코트랜스', '(주)아름덴티스트리',\n",
       "       '(주)아트서비스', '(주)에코비트에너지경주', '(주)일성', '(주)크리오텍', '(주)텐바이텐',\n",
       "       ...\n",
       "       '한양개발(주)', '한양기초개발주식회사', '한욱테크노글라스(주)', '한울정보기술주식회사', '한유주택주식회사',\n",
       "       '한일건설(주)', '한일전기씨에스주식회사', '현일산업주식회사', '화인디피아(주)', '휴젤파마(주)'],\n",
       "      dtype='object', name='회사명', length=16264)"
      ]
     },
     "execution_count": 41,
     "metadata": {},
     "output_type": "execute_result"
    }
   ],
   "source": [
    "df2[df2['감사의견코드']==1].index.unique()"
   ]
  },
  {
   "cell_type": "code",
   "execution_count": 42,
   "metadata": {},
   "outputs": [
    {
     "data": {
      "text/plain": [
       "감사의견코드\n",
       "0.0    235933\n",
       "1.0     23313\n",
       "Name: count, dtype: int64"
      ]
     },
     "execution_count": 42,
     "metadata": {},
     "output_type": "execute_result"
    }
   ],
   "source": [
    "df2['감사의견코드'].value_counts()"
   ]
  },
  {
   "cell_type": "code",
   "execution_count": 43,
   "metadata": {},
   "outputs": [],
   "source": [
    "###########################################################################################################################################################3"
   ]
  },
  {
   "cell_type": "code",
   "execution_count": 44,
   "metadata": {},
   "outputs": [],
   "source": [
    "df2=pd.read_csv('./Dataset/mk_target2.csv',encoding='euc-kr')"
   ]
  },
  {
   "cell_type": "code",
   "execution_count": 45,
   "metadata": {},
   "outputs": [],
   "source": [
    "# df2['감사의견코드']=df2['감사의견코드'].map({\n",
    "#     'AG':'부적정',\n",
    "#     'DS':'의견거절',\n",
    "#     'DI':'의견거절',\n",
    "#     'DU':'의견거절',\n",
    "#     'QA':'한정',\n",
    "#     'QC':'한정',\n",
    "#     'QG':'한정',\n",
    "#     'QQ':'한정',\n",
    "#     'QS':'한정',\n",
    "#     'QU':'한정',\n",
    "#     'UQ':'적정',\n",
    "#     'ZZ':'ZZ'\n",
    "\n",
    "# })"
   ]
  },
  {
   "cell_type": "code",
   "execution_count": 46,
   "metadata": {},
   "outputs": [],
   "source": [
    "df2['감사의견코드']=df2['감사의견코드'].map({\n",
    "    'AG': 1,\n",
    "    'DS':1,\n",
    "    'DI':1,\n",
    "    'DU':1,\n",
    "    'QA':0,\n",
    "    'QC':0,\n",
    "    'QG':0,\n",
    "    'QQ':0,\n",
    "    'QS':1,\n",
    "    'QU':0,\n",
    "    'UQ':0,\n",
    "    'ZZ':1\n",
    "\n",
    "})"
   ]
  },
  {
   "cell_type": "code",
   "execution_count": 47,
   "metadata": {},
   "outputs": [
    {
     "data": {
      "text/plain": [
       "감사의견코드\n",
       "0.0    239228\n",
       "1.0     20840\n",
       "Name: count, dtype: int64"
      ]
     },
     "execution_count": 47,
     "metadata": {},
     "output_type": "execute_result"
    }
   ],
   "source": [
    "df2['감사의견코드'].value_counts()"
   ]
  },
  {
   "cell_type": "code",
   "execution_count": 48,
   "metadata": {},
   "outputs": [
    {
     "data": {
      "text/html": [
       "<div>\n",
       "<style scoped>\n",
       "    .dataframe tbody tr th:only-of-type {\n",
       "        vertical-align: middle;\n",
       "    }\n",
       "\n",
       "    .dataframe tbody tr th {\n",
       "        vertical-align: top;\n",
       "    }\n",
       "\n",
       "    .dataframe thead th {\n",
       "        text-align: right;\n",
       "    }\n",
       "</style>\n",
       "<table border=\"1\" class=\"dataframe\">\n",
       "  <thead>\n",
       "    <tr style=\"text-align: right;\">\n",
       "      <th></th>\n",
       "      <th>회사명</th>\n",
       "      <th>거래소코드</th>\n",
       "      <th>회계년도</th>\n",
       "      <th>산업코드</th>\n",
       "      <th>산업명</th>\n",
       "      <th>설립일</th>\n",
       "      <th>상장일</th>\n",
       "      <th>기업규모코드</th>\n",
       "      <th>감사의견코드</th>\n",
       "    </tr>\n",
       "  </thead>\n",
       "  <tbody>\n",
       "    <tr>\n",
       "      <th>0</th>\n",
       "      <td>(주)KAL호텔네트워크</td>\n",
       "      <td>29255</td>\n",
       "      <td>2012/12</td>\n",
       "      <td>95501</td>\n",
       "      <td>숙박업</td>\n",
       "      <td>2001/05/16</td>\n",
       "      <td>0000/00/00</td>\n",
       "      <td>10.0</td>\n",
       "      <td>0.0</td>\n",
       "    </tr>\n",
       "    <tr>\n",
       "      <th>1</th>\n",
       "      <td>(주)KAL호텔네트워크</td>\n",
       "      <td>29255</td>\n",
       "      <td>2013/12</td>\n",
       "      <td>95501</td>\n",
       "      <td>숙박업</td>\n",
       "      <td>2001/05/16</td>\n",
       "      <td>0000/00/00</td>\n",
       "      <td>10.0</td>\n",
       "      <td>0.0</td>\n",
       "    </tr>\n",
       "    <tr>\n",
       "      <th>2</th>\n",
       "      <td>(주)KAL호텔네트워크</td>\n",
       "      <td>29255</td>\n",
       "      <td>2014/12</td>\n",
       "      <td>95501</td>\n",
       "      <td>숙박업</td>\n",
       "      <td>2001/05/16</td>\n",
       "      <td>0000/00/00</td>\n",
       "      <td>10.0</td>\n",
       "      <td>0.0</td>\n",
       "    </tr>\n",
       "    <tr>\n",
       "      <th>3</th>\n",
       "      <td>(주)KAL호텔네트워크</td>\n",
       "      <td>29255</td>\n",
       "      <td>2015/12</td>\n",
       "      <td>95501</td>\n",
       "      <td>숙박업</td>\n",
       "      <td>2001/05/16</td>\n",
       "      <td>0000/00/00</td>\n",
       "      <td>10.0</td>\n",
       "      <td>0.0</td>\n",
       "    </tr>\n",
       "    <tr>\n",
       "      <th>4</th>\n",
       "      <td>(주)KAL호텔네트워크</td>\n",
       "      <td>29255</td>\n",
       "      <td>2016/12</td>\n",
       "      <td>95501</td>\n",
       "      <td>숙박업</td>\n",
       "      <td>2001/05/16</td>\n",
       "      <td>0000/00/00</td>\n",
       "      <td>10.0</td>\n",
       "      <td>0.0</td>\n",
       "    </tr>\n",
       "    <tr>\n",
       "      <th>...</th>\n",
       "      <td>...</td>\n",
       "      <td>...</td>\n",
       "      <td>...</td>\n",
       "      <td>...</td>\n",
       "      <td>...</td>\n",
       "      <td>...</td>\n",
       "      <td>...</td>\n",
       "      <td>...</td>\n",
       "      <td>...</td>\n",
       "    </tr>\n",
       "    <tr>\n",
       "      <th>294068</th>\n",
       "      <td>힐티코리아주식회사</td>\n",
       "      <td>10534</td>\n",
       "      <td>2018/12</td>\n",
       "      <td>74605</td>\n",
       "      <td>도매 및 상품 중개업</td>\n",
       "      <td>1986/07/10</td>\n",
       "      <td>0000/00/00</td>\n",
       "      <td>30.0</td>\n",
       "      <td>0.0</td>\n",
       "    </tr>\n",
       "    <tr>\n",
       "      <th>294069</th>\n",
       "      <td>힐티코리아주식회사</td>\n",
       "      <td>10534</td>\n",
       "      <td>2019/12</td>\n",
       "      <td>74605</td>\n",
       "      <td>도매 및 상품 중개업</td>\n",
       "      <td>1986/07/10</td>\n",
       "      <td>0000/00/00</td>\n",
       "      <td>30.0</td>\n",
       "      <td>0.0</td>\n",
       "    </tr>\n",
       "    <tr>\n",
       "      <th>294070</th>\n",
       "      <td>힐티코리아주식회사</td>\n",
       "      <td>10534</td>\n",
       "      <td>2020/12</td>\n",
       "      <td>74605</td>\n",
       "      <td>도매 및 상품 중개업</td>\n",
       "      <td>1986/07/10</td>\n",
       "      <td>0000/00/00</td>\n",
       "      <td>30.0</td>\n",
       "      <td>0.0</td>\n",
       "    </tr>\n",
       "    <tr>\n",
       "      <th>294071</th>\n",
       "      <td>힐티코리아주식회사</td>\n",
       "      <td>10534</td>\n",
       "      <td>2021/12</td>\n",
       "      <td>74605</td>\n",
       "      <td>도매 및 상품 중개업</td>\n",
       "      <td>1986/07/10</td>\n",
       "      <td>0000/00/00</td>\n",
       "      <td>20.0</td>\n",
       "      <td>0.0</td>\n",
       "    </tr>\n",
       "    <tr>\n",
       "      <th>294072</th>\n",
       "      <td>힐티코리아주식회사</td>\n",
       "      <td>10534</td>\n",
       "      <td>2022/12</td>\n",
       "      <td>74605</td>\n",
       "      <td>도매 및 상품 중개업</td>\n",
       "      <td>1986/07/10</td>\n",
       "      <td>0000/00/00</td>\n",
       "      <td>30.0</td>\n",
       "      <td>0.0</td>\n",
       "    </tr>\n",
       "  </tbody>\n",
       "</table>\n",
       "<p>294073 rows × 9 columns</p>\n",
       "</div>"
      ],
      "text/plain": [
       "                 회사명  거래소코드     회계년도   산업코드            산업명         설립일   \n",
       "0       (주)KAL호텔네트워크  29255  2012/12  95501            숙박업  2001/05/16  \\\n",
       "1       (주)KAL호텔네트워크  29255  2013/12  95501            숙박업  2001/05/16   \n",
       "2       (주)KAL호텔네트워크  29255  2014/12  95501            숙박업  2001/05/16   \n",
       "3       (주)KAL호텔네트워크  29255  2015/12  95501            숙박업  2001/05/16   \n",
       "4       (주)KAL호텔네트워크  29255  2016/12  95501            숙박업  2001/05/16   \n",
       "...              ...    ...      ...    ...            ...         ...   \n",
       "294068     힐티코리아주식회사  10534  2018/12  74605    도매 및 상품 중개업  1986/07/10   \n",
       "294069     힐티코리아주식회사  10534  2019/12  74605    도매 및 상품 중개업  1986/07/10   \n",
       "294070     힐티코리아주식회사  10534  2020/12  74605    도매 및 상품 중개업  1986/07/10   \n",
       "294071     힐티코리아주식회사  10534  2021/12  74605    도매 및 상품 중개업  1986/07/10   \n",
       "294072     힐티코리아주식회사  10534  2022/12  74605    도매 및 상품 중개업  1986/07/10   \n",
       "\n",
       "               상장일  기업규모코드  감사의견코드  \n",
       "0       0000/00/00    10.0     0.0  \n",
       "1       0000/00/00    10.0     0.0  \n",
       "2       0000/00/00    10.0     0.0  \n",
       "3       0000/00/00    10.0     0.0  \n",
       "4       0000/00/00    10.0     0.0  \n",
       "...            ...     ...     ...  \n",
       "294068  0000/00/00    30.0     0.0  \n",
       "294069  0000/00/00    30.0     0.0  \n",
       "294070  0000/00/00    30.0     0.0  \n",
       "294071  0000/00/00    20.0     0.0  \n",
       "294072  0000/00/00    30.0     0.0  \n",
       "\n",
       "[294073 rows x 9 columns]"
      ]
     },
     "execution_count": 48,
     "metadata": {},
     "output_type": "execute_result"
    }
   ],
   "source": [
    "df2"
   ]
  },
  {
   "cell_type": "code",
   "execution_count": 136,
   "metadata": {},
   "outputs": [
    {
     "data": {
      "text/html": [
       "<div>\n",
       "<style scoped>\n",
       "    .dataframe tbody tr th:only-of-type {\n",
       "        vertical-align: middle;\n",
       "    }\n",
       "\n",
       "    .dataframe tbody tr th {\n",
       "        vertical-align: top;\n",
       "    }\n",
       "\n",
       "    .dataframe thead th {\n",
       "        text-align: right;\n",
       "    }\n",
       "</style>\n",
       "<table border=\"1\" class=\"dataframe\">\n",
       "  <thead>\n",
       "    <tr style=\"text-align: right;\">\n",
       "      <th></th>\n",
       "      <th>거래소코드</th>\n",
       "      <th>회계년도</th>\n",
       "      <th>산업코드</th>\n",
       "      <th>산업명</th>\n",
       "      <th>설립일</th>\n",
       "      <th>상장일</th>\n",
       "      <th>기업규모코드</th>\n",
       "      <th>감사의견코드</th>\n",
       "    </tr>\n",
       "    <tr>\n",
       "      <th>회사명</th>\n",
       "      <th></th>\n",
       "      <th></th>\n",
       "      <th></th>\n",
       "      <th></th>\n",
       "      <th></th>\n",
       "      <th></th>\n",
       "      <th></th>\n",
       "      <th></th>\n",
       "    </tr>\n",
       "  </thead>\n",
       "  <tbody>\n",
       "    <tr>\n",
       "      <th>이삭엔지니어링(주)</th>\n",
       "      <td>76535</td>\n",
       "      <td>2015/12</td>\n",
       "      <td>106201</td>\n",
       "      <td>컴퓨터 프로그래밍, 시스템 통합 및 관리업</td>\n",
       "      <td>2007/01/01</td>\n",
       "      <td>0</td>\n",
       "      <td>20.0</td>\n",
       "      <td>NaN</td>\n",
       "    </tr>\n",
       "    <tr>\n",
       "      <th>이삭엔지니어링(주)</th>\n",
       "      <td>76535</td>\n",
       "      <td>2016/12</td>\n",
       "      <td>106201</td>\n",
       "      <td>컴퓨터 프로그래밍, 시스템 통합 및 관리업</td>\n",
       "      <td>2007/01/01</td>\n",
       "      <td>0</td>\n",
       "      <td>20.0</td>\n",
       "      <td>0.0</td>\n",
       "    </tr>\n",
       "    <tr>\n",
       "      <th>이삭엔지니어링(주)</th>\n",
       "      <td>76535</td>\n",
       "      <td>2017/12</td>\n",
       "      <td>106201</td>\n",
       "      <td>컴퓨터 프로그래밍, 시스템 통합 및 관리업</td>\n",
       "      <td>2007/01/01</td>\n",
       "      <td>0</td>\n",
       "      <td>20.0</td>\n",
       "      <td>0.0</td>\n",
       "    </tr>\n",
       "    <tr>\n",
       "      <th>이삭엔지니어링(주)</th>\n",
       "      <td>76535</td>\n",
       "      <td>2018/12</td>\n",
       "      <td>106201</td>\n",
       "      <td>컴퓨터 프로그래밍, 시스템 통합 및 관리업</td>\n",
       "      <td>2007/01/01</td>\n",
       "      <td>0</td>\n",
       "      <td>20.0</td>\n",
       "      <td>0.0</td>\n",
       "    </tr>\n",
       "    <tr>\n",
       "      <th>이삭엔지니어링(주)</th>\n",
       "      <td>76535</td>\n",
       "      <td>2019/12</td>\n",
       "      <td>106201</td>\n",
       "      <td>컴퓨터 프로그래밍, 시스템 통합 및 관리업</td>\n",
       "      <td>2007/01/01</td>\n",
       "      <td>0</td>\n",
       "      <td>20.0</td>\n",
       "      <td>0.0</td>\n",
       "    </tr>\n",
       "    <tr>\n",
       "      <th>이삭엔지니어링(주)</th>\n",
       "      <td>76535</td>\n",
       "      <td>2020/12</td>\n",
       "      <td>106201</td>\n",
       "      <td>컴퓨터 프로그래밍, 시스템 통합 및 관리업</td>\n",
       "      <td>2007/01/01</td>\n",
       "      <td>0</td>\n",
       "      <td>20.0</td>\n",
       "      <td>0.0</td>\n",
       "    </tr>\n",
       "  </tbody>\n",
       "</table>\n",
       "</div>"
      ],
      "text/plain": [
       "            거래소코드     회계년도    산업코드                        산업명         설립일 상장일   \n",
       "회사명                                                                             \n",
       "이삭엔지니어링(주)  76535  2015/12  106201    컴퓨터 프로그래밍, 시스템 통합 및 관리업  2007/01/01   0  \\\n",
       "이삭엔지니어링(주)  76535  2016/12  106201    컴퓨터 프로그래밍, 시스템 통합 및 관리업  2007/01/01   0   \n",
       "이삭엔지니어링(주)  76535  2017/12  106201    컴퓨터 프로그래밍, 시스템 통합 및 관리업  2007/01/01   0   \n",
       "이삭엔지니어링(주)  76535  2018/12  106201    컴퓨터 프로그래밍, 시스템 통합 및 관리업  2007/01/01   0   \n",
       "이삭엔지니어링(주)  76535  2019/12  106201    컴퓨터 프로그래밍, 시스템 통합 및 관리업  2007/01/01   0   \n",
       "이삭엔지니어링(주)  76535  2020/12  106201    컴퓨터 프로그래밍, 시스템 통합 및 관리업  2007/01/01   0   \n",
       "\n",
       "            기업규모코드  감사의견코드  \n",
       "회사명                         \n",
       "이삭엔지니어링(주)    20.0     NaN  \n",
       "이삭엔지니어링(주)    20.0     0.0  \n",
       "이삭엔지니어링(주)    20.0     0.0  \n",
       "이삭엔지니어링(주)    20.0     0.0  \n",
       "이삭엔지니어링(주)    20.0     0.0  \n",
       "이삭엔지니어링(주)    20.0     0.0  "
      ]
     },
     "execution_count": 136,
     "metadata": {},
     "output_type": "execute_result"
    }
   ],
   "source": [
    "df2[df2.index.str.contains('이삭엔지')].head(20)\n"
   ]
  },
  {
   "cell_type": "markdown",
   "metadata": {},
   "source": [
    "> 밑에는 감사의견코드 0 -> 1로 바꾸는 코드 / 회생절차 신청 및 파산신청"
   ]
  },
  {
   "cell_type": "code",
   "execution_count": 50,
   "metadata": {},
   "outputs": [],
   "source": [
    "df2.iloc[261945,8] =1.0"
   ]
  },
  {
   "cell_type": "code",
   "execution_count": null,
   "metadata": {},
   "outputs": [],
   "source": []
  },
  {
   "cell_type": "code",
   "execution_count": null,
   "metadata": {},
   "outputs": [],
   "source": []
  }
 ],
 "metadata": {
  "kernelspec": {
   "display_name": "Python 3",
   "language": "python",
   "name": "python3"
  },
  "language_info": {
   "codemirror_mode": {
    "name": "ipython",
    "version": 3
   },
   "file_extension": ".py",
   "mimetype": "text/x-python",
   "name": "python",
   "nbconvert_exporter": "python",
   "pygments_lexer": "ipython3",
   "version": "3.10.9"
  },
  "orig_nbformat": 4
 },
 "nbformat": 4,
 "nbformat_minor": 2
}
