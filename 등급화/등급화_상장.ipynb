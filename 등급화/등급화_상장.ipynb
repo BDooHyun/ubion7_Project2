{
 "cells": [
  {
   "cell_type": "code",
   "execution_count": 1,
   "metadata": {},
   "outputs": [],
   "source": [
    "import pandas as pd\n",
    "import numpy as np"
   ]
  },
  {
   "cell_type": "code",
   "execution_count": 2,
   "metadata": {},
   "outputs": [],
   "source": [
    "df=pd.read_excel('./Dataset/kospi+kodaq_dp(등급).xls')"
   ]
  },
  {
   "cell_type": "code",
   "execution_count": 7,
   "metadata": {},
   "outputs": [],
   "source": [
    "df.columns=['Kis','거래소코드','회사이름','신용평점']"
   ]
  },
  {
   "cell_type": "code",
   "execution_count": 10,
   "metadata": {},
   "outputs": [],
   "source": [
    "df=df.drop(0,axis=0)"
   ]
  },
  {
   "cell_type": "code",
   "execution_count": 14,
   "metadata": {},
   "outputs": [
    {
     "data": {
      "text/html": [
       "<div>\n",
       "<style scoped>\n",
       "    .dataframe tbody tr th:only-of-type {\n",
       "        vertical-align: middle;\n",
       "    }\n",
       "\n",
       "    .dataframe tbody tr th {\n",
       "        vertical-align: top;\n",
       "    }\n",
       "\n",
       "    .dataframe thead th {\n",
       "        text-align: right;\n",
       "    }\n",
       "</style>\n",
       "<table border=\"1\" class=\"dataframe\">\n",
       "  <thead>\n",
       "    <tr style=\"text-align: right;\">\n",
       "      <th></th>\n",
       "      <th>Kis</th>\n",
       "      <th>거래소코드</th>\n",
       "      <th>회사이름</th>\n",
       "      <th>신용평점</th>\n",
       "    </tr>\n",
       "  </thead>\n",
       "  <tbody>\n",
       "    <tr>\n",
       "      <th>1898</th>\n",
       "      <td>C55334</td>\n",
       "      <td>133750</td>\n",
       "      <td>메가엠디(주)</td>\n",
       "      <td>A</td>\n",
       "    </tr>\n",
       "    <tr>\n",
       "      <th>444</th>\n",
       "      <td>381543</td>\n",
       "      <td>015230</td>\n",
       "      <td>대창단조(주)</td>\n",
       "      <td>A</td>\n",
       "    </tr>\n",
       "    <tr>\n",
       "      <th>1026</th>\n",
       "      <td>123840</td>\n",
       "      <td>051160</td>\n",
       "      <td>(주)지어소프트</td>\n",
       "      <td>A</td>\n",
       "    </tr>\n",
       "    <tr>\n",
       "      <th>1762</th>\n",
       "      <td>667269</td>\n",
       "      <td>053160</td>\n",
       "      <td>(주)프리엠스</td>\n",
       "      <td>A</td>\n",
       "    </tr>\n",
       "    <tr>\n",
       "      <th>1760</th>\n",
       "      <td>661538</td>\n",
       "      <td>031980</td>\n",
       "      <td>피에스케이홀딩스(주)</td>\n",
       "      <td>A</td>\n",
       "    </tr>\n",
       "    <tr>\n",
       "      <th>...</th>\n",
       "      <td>...</td>\n",
       "      <td>...</td>\n",
       "      <td>...</td>\n",
       "      <td>...</td>\n",
       "    </tr>\n",
       "    <tr>\n",
       "      <th>1926</th>\n",
       "      <td>CD4883</td>\n",
       "      <td>215090</td>\n",
       "      <td>(주)휴센텍</td>\n",
       "      <td>D</td>\n",
       "    </tr>\n",
       "    <tr>\n",
       "      <th>2172</th>\n",
       "      <td>J18071</td>\n",
       "      <td>299910</td>\n",
       "      <td>(주)베스파</td>\n",
       "      <td>D</td>\n",
       "    </tr>\n",
       "    <tr>\n",
       "      <th>1342</th>\n",
       "      <td>218590</td>\n",
       "      <td>138690</td>\n",
       "      <td>(주)엘아이에스</td>\n",
       "      <td>D</td>\n",
       "    </tr>\n",
       "    <tr>\n",
       "      <th>591</th>\n",
       "      <td>662500</td>\n",
       "      <td>033180</td>\n",
       "      <td>케이에이치필룩스(주)</td>\n",
       "      <td>D</td>\n",
       "    </tr>\n",
       "    <tr>\n",
       "      <th>1059</th>\n",
       "      <td>129611</td>\n",
       "      <td>219750</td>\n",
       "      <td>(주)지티지웰니스</td>\n",
       "      <td>D</td>\n",
       "    </tr>\n",
       "  </tbody>\n",
       "</table>\n",
       "<p>2338 rows × 4 columns</p>\n",
       "</div>"
      ],
      "text/plain": [
       "         Kis   거래소코드         회사이름 신용평점\n",
       "1898  C55334  133750      메가엠디(주)    A\n",
       "444   381543  015230      대창단조(주)    A\n",
       "1026  123840  051160     (주)지어소프트    A\n",
       "1762  667269  053160      (주)프리엠스    A\n",
       "1760  661538  031980  피에스케이홀딩스(주)    A\n",
       "...      ...     ...          ...  ...\n",
       "1926  CD4883  215090       (주)휴센텍    D\n",
       "2172  J18071  299910       (주)베스파    D\n",
       "1342  218590  138690     (주)엘아이에스    D\n",
       "591   662500  033180  케이에이치필룩스(주)    D\n",
       "1059  129611  219750    (주)지티지웰니스    D\n",
       "\n",
       "[2338 rows x 4 columns]"
      ]
     },
     "execution_count": 14,
     "metadata": {},
     "output_type": "execute_result"
    }
   ],
   "source": [
    "pd.reset_option('display.max_rows',None)\n",
    "df.sort_values('신용평점',ascending=True)"
   ]
  },
  {
   "cell_type": "code",
   "execution_count": null,
   "metadata": {},
   "outputs": [],
   "source": []
  }
 ],
 "metadata": {
  "kernelspec": {
   "display_name": "Python 3",
   "language": "python",
   "name": "python3"
  },
  "language_info": {
   "codemirror_mode": {
    "name": "ipython",
    "version": 3
   },
   "file_extension": ".py",
   "mimetype": "text/x-python",
   "name": "python",
   "nbconvert_exporter": "python",
   "pygments_lexer": "ipython3",
   "version": "3.10.9"
  },
  "orig_nbformat": 4
 },
 "nbformat": 4,
 "nbformat_minor": 2
}
