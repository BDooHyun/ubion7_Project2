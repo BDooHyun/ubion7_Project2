{
 "cells": [
  {
   "cell_type": "code",
   "execution_count": 131,
   "metadata": {},
   "outputs": [],
   "source": [
    "import pandas as pd\n",
    "import numpy as np"
   ]
  },
  {
   "cell_type": "code",
   "execution_count": 132,
   "metadata": {},
   "outputs": [],
   "source": [
    "df_외감=pd.read_excel('./Dataset/외감_dp(등급).xls')\n",
    "df_외감.columns = ['KIS','Stock','회사명','신용평점']"
   ]
  },
  {
   "cell_type": "code",
   "execution_count": 133,
   "metadata": {},
   "outputs": [
    {
     "name": "stderr",
     "output_type": "stream",
     "text": [
      "c:\\Users\\dgh06\\AppData\\Local\\Programs\\Python\\Python310\\lib\\site-packages\\pandas\\core\\arraylike.py:402: RuntimeWarning: divide by zero encountered in log\n",
      "  result = getattr(ufunc, method)(*inputs, **kwargs)\n"
     ]
    }
   ],
   "source": [
    "df=pd.read_csv('../외감기업/Dataset/외감raw3.csv',encoding='euc-kr')\n",
    "df['Year']= df['회계년도'].replace('/','').astype(str).str[:4].astype(int)\n",
    "df=df[df['Year']==2022]\n",
    "df['자산(*)(IFRS연결)(천원)'] = df['자산(*)(IFRS연결)(천원)'] * 1000\n",
    "df['log자산총계'] = np.log(df['자산(*)(IFRS연결)(천원)'])\n",
    "df['잉여현금흐름(FCF)']=df['영업활동으로 인한 현금흐름(간접법)(*)(IFRS연결)(천원)']-df['투자활동으로 인한 현금흐름(*)(IFRS연결)(천원)']\n",
    "df['전체현금흐름(천원)']=df['영업활동으로 인한 현금흐름(간접법)(*)(IFRS연결)(천원)']+df['투자활동으로 인한 현금흐름(*)(IFRS연결)(천원)']+df['재무활동으로 인한 현금흐름(*)(IFRS연결)(천원)']\n",
    "df['총자산대비잉여현금흐름'] = df['잉여현금흐름(FCF)']/df['자산(*)(IFRS연결)(천원)']\n",
    "df['총자산대비현금흐름'] = df['전체현금흐름(천원)'] / df['자산(*)(IFRS연결)(천원)']\n",
    "df=df[['회사명', '거래소코드','유동자산회전률', '총자산대비잉여현금흐름','자기자본구성비율', 'log자산총계','자기자본회전률', '순운전자본회전률', '자기자본증가율', '총자본증가율', '총자산대비현금흐름', '총자본투자효율']]"
   ]
  },
  {
   "cell_type": "code",
   "execution_count": 134,
   "metadata": {},
   "outputs": [],
   "source": [
    "df_등급화=pd.merge(df,df_외감,how='inner',on='회사명')"
   ]
  },
  {
   "cell_type": "code",
   "execution_count": 135,
   "metadata": {},
   "outputs": [],
   "source": [
    "df_등급화['신용평점']=df_등급화['신용평점'].map({\n",
    "    'AAA' : 'AA',\n",
    "    'AA':'AA',\n",
    "    'A':'A',\n",
    "    'BBB':'BBB',\n",
    "    'BB':'BB',\n",
    "    'B':'B',\n",
    "    'CCC':'CCC',\n",
    "    'CC':'CC',\n",
    "    'C': 'D',\n",
    "    'D':'D'\n",
    "\n",
    "})"
   ]
  },
  {
   "cell_type": "code",
   "execution_count": 136,
   "metadata": {},
   "outputs": [
    {
     "data": {
      "text/plain": [
       "회사명                0\n",
       "거래소코드              0\n",
       "유동자산회전률            3\n",
       "총자산대비잉여현금흐름        3\n",
       "자기자본구성비율           2\n",
       "log자산총계            2\n",
       "자기자본회전률            3\n",
       "순운전자본회전률           3\n",
       "자기자본증가율            2\n",
       "총자본증가율             2\n",
       "총자산대비현금흐름          3\n",
       "총자본투자효율            2\n",
       "KIS                0\n",
       "Stock          14540\n",
       "신용평점               0\n",
       "dtype: int64"
      ]
     },
     "execution_count": 136,
     "metadata": {},
     "output_type": "execute_result"
    }
   ],
   "source": [
    "df_등급화.isna().sum()"
   ]
  },
  {
   "cell_type": "code",
   "execution_count": 137,
   "metadata": {},
   "outputs": [],
   "source": [
    "df_등급화=df_등급화.dropna()\n",
    "df_등급화 = df_등급화[(df_등급화 != 0).all(axis=1)]\n",
    "df_등급화 = df_등급화.replace([np.inf, -np.inf], np.nan)  # inf 값을 NaN으로 대체\n",
    "df_등급화 = df_등급화.dropna()  # NaN이 있는 행 삭제"
   ]
  },
  {
   "cell_type": "code",
   "execution_count": 138,
   "metadata": {},
   "outputs": [],
   "source": [
    "import numpy as np\n",
    "\n",
    "# O-Score의 계수\n",
    "coefficients = {\n",
    "    '유동자산회전률':0.47765086,                    # 높아야 좋다\n",
    "    '총자산대비잉여현금흐름':0.53785436,            # 높아야 좋다\n",
    "    '자기자본구성비율':0.49360789,                  # 높아야 좋다\n",
    "    'log자산총계':0.94238478,                      # 높아야 좋다\n",
    "    '자기자본회전률':-0.08646556,                   # 높아야 좋다\n",
    "    '순운전자본회전률':-0.98107367,                 # 높아야 좋다\n",
    "    '자기자본증가율':0.19544705,                    # 높아야 좋다\n",
    "    '총자본증가율':0.44094258,                      # 높아야 좋다\n",
    "    '총자산대비현금흐름':-0.37036301,               # 높아야 좋다\n",
    "    '총자본투자효율':0.26458857,                    # 높아야 좋다\n",
    "\n",
    "    'constant': 0.90495308\n",
    "}\n",
    "\n",
    "# O-Score 계산\n",
    "df_등급화['dp_score'] = coefficients['constant']\n",
    "df_등급화['dp_score'] += coefficients['유동자산회전률'] * df_등급화['유동자산회전률']\n",
    "df_등급화['dp_score'] += coefficients['총자산대비잉여현금흐름'] * df_등급화['총자산대비잉여현금흐름']\n",
    "df_등급화['dp_score'] += coefficients['자기자본구성비율'] * df_등급화['자기자본구성비율']\n",
    "df_등급화['dp_score'] += coefficients['log자산총계'] * df_등급화['log자산총계']\n",
    "df_등급화['dp_score'] += coefficients['자기자본회전률'] * df_등급화['자기자본회전률']\n",
    "df_등급화['dp_score'] += coefficients['순운전자본회전률'] * df_등급화['순운전자본회전률']\n",
    "df_등급화['dp_score'] += coefficients['자기자본증가율'] * df_등급화['자기자본증가율']\n",
    "df_등급화['dp_score'] += coefficients['총자본증가율'] * df_등급화['총자본증가율']\n",
    "df_등급화['dp_score'] += coefficients['총자산대비현금흐름'] * df_등급화['총자산대비현금흐름']\n",
    "df_등급화['dp_score'] += coefficients['총자본투자효율'] * df_등급화['총자본투자효율']\n",
    "\n",
    "# 로지스틱 함수를 이용해 부도 확률 계산\n",
    "df_등급화['default_probability'] = 1 / (1 + np.exp(-df_등급화['dp_score']))"
   ]
  },
  {
   "cell_type": "code",
   "execution_count": 139,
   "metadata": {},
   "outputs": [],
   "source": [
    "lower_bound = df_등급화['dp_score'].quantile(0.01)\n",
    "upper_bound = df_등급화['dp_score'].quantile(0.97)\n",
    "df_등급화_filtered = df_등급화[(df_등급화['dp_score'] >= lower_bound) & (df_등급화['dp_score'] <= upper_bound)]\n"
   ]
  },
  {
   "cell_type": "code",
   "execution_count": 140,
   "metadata": {},
   "outputs": [
    {
     "data": {
      "text/html": [
       "<div>\n",
       "<style scoped>\n",
       "    .dataframe tbody tr th:only-of-type {\n",
       "        vertical-align: middle;\n",
       "    }\n",
       "\n",
       "    .dataframe tbody tr th {\n",
       "        vertical-align: top;\n",
       "    }\n",
       "\n",
       "    .dataframe thead tr th {\n",
       "        text-align: left;\n",
       "    }\n",
       "\n",
       "    .dataframe thead tr:last-of-type th {\n",
       "        text-align: right;\n",
       "    }\n",
       "</style>\n",
       "<table border=\"1\" class=\"dataframe\">\n",
       "  <thead>\n",
       "    <tr>\n",
       "      <th></th>\n",
       "      <th colspan=\"4\" halign=\"left\">dp_score</th>\n",
       "    </tr>\n",
       "    <tr>\n",
       "      <th></th>\n",
       "      <th>mean</th>\n",
       "      <th>&lt;lambda_0&gt;</th>\n",
       "      <th>&lt;lambda_1&gt;</th>\n",
       "      <th>&lt;lambda_2&gt;</th>\n",
       "    </tr>\n",
       "    <tr>\n",
       "      <th>신용평점</th>\n",
       "      <th></th>\n",
       "      <th></th>\n",
       "      <th></th>\n",
       "      <th></th>\n",
       "    </tr>\n",
       "  </thead>\n",
       "  <tbody>\n",
       "    <tr>\n",
       "      <th>A</th>\n",
       "      <td>66.789312</td>\n",
       "      <td>54.000230</td>\n",
       "      <td>67.836619</td>\n",
       "      <td>81.421737</td>\n",
       "    </tr>\n",
       "    <tr>\n",
       "      <th>AA</th>\n",
       "      <td>69.826705</td>\n",
       "      <td>66.610527</td>\n",
       "      <td>72.144788</td>\n",
       "      <td>78.929001</td>\n",
       "    </tr>\n",
       "    <tr>\n",
       "      <th>B</th>\n",
       "      <td>53.369724</td>\n",
       "      <td>44.491386</td>\n",
       "      <td>50.829527</td>\n",
       "      <td>62.240600</td>\n",
       "    </tr>\n",
       "    <tr>\n",
       "      <th>BB</th>\n",
       "      <td>66.110675</td>\n",
       "      <td>51.359222</td>\n",
       "      <td>60.893620</td>\n",
       "      <td>68.251813</td>\n",
       "    </tr>\n",
       "    <tr>\n",
       "      <th>BBB</th>\n",
       "      <td>62.453246</td>\n",
       "      <td>49.688593</td>\n",
       "      <td>59.825249</td>\n",
       "      <td>73.730508</td>\n",
       "    </tr>\n",
       "    <tr>\n",
       "      <th>CC</th>\n",
       "      <td>42.225740</td>\n",
       "      <td>25.388495</td>\n",
       "      <td>41.296266</td>\n",
       "      <td>53.304356</td>\n",
       "    </tr>\n",
       "    <tr>\n",
       "      <th>CCC</th>\n",
       "      <td>49.269174</td>\n",
       "      <td>35.486912</td>\n",
       "      <td>42.682812</td>\n",
       "      <td>59.758256</td>\n",
       "    </tr>\n",
       "    <tr>\n",
       "      <th>D</th>\n",
       "      <td>83.952231</td>\n",
       "      <td>24.550289</td>\n",
       "      <td>34.637690</td>\n",
       "      <td>94.039632</td>\n",
       "    </tr>\n",
       "  </tbody>\n",
       "</table>\n",
       "</div>"
      ],
      "text/plain": [
       "       dp_score                                 \n",
       "           mean <lambda_0> <lambda_1> <lambda_2>\n",
       "신용평점                                            \n",
       "A     66.789312  54.000230  67.836619  81.421737\n",
       "AA    69.826705  66.610527  72.144788  78.929001\n",
       "B     53.369724  44.491386  50.829527  62.240600\n",
       "BB    66.110675  51.359222  60.893620  68.251813\n",
       "BBB   62.453246  49.688593  59.825249  73.730508\n",
       "CC    42.225740  25.388495  41.296266  53.304356\n",
       "CCC   49.269174  35.486912  42.682812  59.758256\n",
       "D     83.952231  24.550289  34.637690  94.039632"
      ]
     },
     "execution_count": 140,
     "metadata": {},
     "output_type": "execute_result"
    }
   ],
   "source": [
    "df_등급화[['dp_score','신용평점']].groupby('신용평점').agg(['mean', lambda x: x.quantile(0.25), lambda x: x.quantile(0.5), lambda x: x.quantile(0.75)])"
   ]
  },
  {
   "cell_type": "code",
   "execution_count": 141,
   "metadata": {},
   "outputs": [
    {
     "data": {
      "text/html": [
       "<div>\n",
       "<style scoped>\n",
       "    .dataframe tbody tr th:only-of-type {\n",
       "        vertical-align: middle;\n",
       "    }\n",
       "\n",
       "    .dataframe tbody tr th {\n",
       "        vertical-align: top;\n",
       "    }\n",
       "\n",
       "    .dataframe thead th {\n",
       "        text-align: right;\n",
       "    }\n",
       "</style>\n",
       "<table border=\"1\" class=\"dataframe\">\n",
       "  <thead>\n",
       "    <tr style=\"text-align: right;\">\n",
       "      <th></th>\n",
       "      <th>dp_score</th>\n",
       "    </tr>\n",
       "    <tr>\n",
       "      <th>신용평점</th>\n",
       "      <th></th>\n",
       "    </tr>\n",
       "  </thead>\n",
       "  <tbody>\n",
       "    <tr>\n",
       "      <th>A</th>\n",
       "      <td>67.025568</td>\n",
       "    </tr>\n",
       "    <tr>\n",
       "      <th>AA</th>\n",
       "      <td>69.826705</td>\n",
       "    </tr>\n",
       "    <tr>\n",
       "      <th>B</th>\n",
       "      <td>53.369724</td>\n",
       "    </tr>\n",
       "    <tr>\n",
       "      <th>BB</th>\n",
       "      <td>57.360487</td>\n",
       "    </tr>\n",
       "    <tr>\n",
       "      <th>BBB</th>\n",
       "      <td>60.007862</td>\n",
       "    </tr>\n",
       "    <tr>\n",
       "      <th>CC</th>\n",
       "      <td>42.225740</td>\n",
       "    </tr>\n",
       "    <tr>\n",
       "      <th>CCC</th>\n",
       "      <td>49.269174</td>\n",
       "    </tr>\n",
       "    <tr>\n",
       "      <th>D</th>\n",
       "      <td>30.959408</td>\n",
       "    </tr>\n",
       "  </tbody>\n",
       "</table>\n",
       "</div>"
      ],
      "text/plain": [
       "       dp_score\n",
       "신용평점           \n",
       "A     67.025568\n",
       "AA    69.826705\n",
       "B     53.369724\n",
       "BB    57.360487\n",
       "BBB   60.007862\n",
       "CC    42.225740\n",
       "CCC   49.269174\n",
       "D     30.959408"
      ]
     },
     "execution_count": 141,
     "metadata": {},
     "output_type": "execute_result"
    }
   ],
   "source": [
    "df_등급화_filtered[['dp_score','신용평점']].groupby('신용평점').mean()"
   ]
  },
  {
   "cell_type": "code",
   "execution_count": 142,
   "metadata": {},
   "outputs": [
    {
     "data": {
      "text/html": [
       "<div>\n",
       "<style scoped>\n",
       "    .dataframe tbody tr th:only-of-type {\n",
       "        vertical-align: middle;\n",
       "    }\n",
       "\n",
       "    .dataframe tbody tr th {\n",
       "        vertical-align: top;\n",
       "    }\n",
       "\n",
       "    .dataframe thead tr th {\n",
       "        text-align: left;\n",
       "    }\n",
       "\n",
       "    .dataframe thead tr:last-of-type th {\n",
       "        text-align: right;\n",
       "    }\n",
       "</style>\n",
       "<table border=\"1\" class=\"dataframe\">\n",
       "  <thead>\n",
       "    <tr>\n",
       "      <th></th>\n",
       "      <th colspan=\"4\" halign=\"left\">dp_score</th>\n",
       "    </tr>\n",
       "    <tr>\n",
       "      <th></th>\n",
       "      <th>mean</th>\n",
       "      <th>&lt;lambda_0&gt;</th>\n",
       "      <th>&lt;lambda_1&gt;</th>\n",
       "      <th>&lt;lambda_2&gt;</th>\n",
       "    </tr>\n",
       "    <tr>\n",
       "      <th>신용평점</th>\n",
       "      <th></th>\n",
       "      <th></th>\n",
       "      <th></th>\n",
       "      <th></th>\n",
       "    </tr>\n",
       "  </thead>\n",
       "  <tbody>\n",
       "    <tr>\n",
       "      <th>A</th>\n",
       "      <td>67.025568</td>\n",
       "      <td>57.298478</td>\n",
       "      <td>67.836619</td>\n",
       "      <td>79.702960</td>\n",
       "    </tr>\n",
       "    <tr>\n",
       "      <th>AA</th>\n",
       "      <td>69.826705</td>\n",
       "      <td>66.610527</td>\n",
       "      <td>72.144788</td>\n",
       "      <td>78.929001</td>\n",
       "    </tr>\n",
       "    <tr>\n",
       "      <th>B</th>\n",
       "      <td>53.369724</td>\n",
       "      <td>44.491386</td>\n",
       "      <td>50.829527</td>\n",
       "      <td>62.240600</td>\n",
       "    </tr>\n",
       "    <tr>\n",
       "      <th>BB</th>\n",
       "      <td>57.360487</td>\n",
       "      <td>50.219126</td>\n",
       "      <td>59.434068</td>\n",
       "      <td>65.316051</td>\n",
       "    </tr>\n",
       "    <tr>\n",
       "      <th>BBB</th>\n",
       "      <td>60.007862</td>\n",
       "      <td>51.619720</td>\n",
       "      <td>59.825249</td>\n",
       "      <td>73.410525</td>\n",
       "    </tr>\n",
       "    <tr>\n",
       "      <th>CC</th>\n",
       "      <td>42.225740</td>\n",
       "      <td>25.388495</td>\n",
       "      <td>41.296266</td>\n",
       "      <td>53.304356</td>\n",
       "    </tr>\n",
       "    <tr>\n",
       "      <th>CCC</th>\n",
       "      <td>49.269174</td>\n",
       "      <td>35.486912</td>\n",
       "      <td>42.682812</td>\n",
       "      <td>59.758256</td>\n",
       "    </tr>\n",
       "    <tr>\n",
       "      <th>D</th>\n",
       "      <td>30.959408</td>\n",
       "      <td>24.234474</td>\n",
       "      <td>24.866103</td>\n",
       "      <td>34.637690</td>\n",
       "    </tr>\n",
       "  </tbody>\n",
       "</table>\n",
       "</div>"
      ],
      "text/plain": [
       "       dp_score                                 \n",
       "           mean <lambda_0> <lambda_1> <lambda_2>\n",
       "신용평점                                            \n",
       "A     67.025568  57.298478  67.836619  79.702960\n",
       "AA    69.826705  66.610527  72.144788  78.929001\n",
       "B     53.369724  44.491386  50.829527  62.240600\n",
       "BB    57.360487  50.219126  59.434068  65.316051\n",
       "BBB   60.007862  51.619720  59.825249  73.410525\n",
       "CC    42.225740  25.388495  41.296266  53.304356\n",
       "CCC   49.269174  35.486912  42.682812  59.758256\n",
       "D     30.959408  24.234474  24.866103  34.637690"
      ]
     },
     "execution_count": 142,
     "metadata": {},
     "output_type": "execute_result"
    }
   ],
   "source": [
    "df_등급화_filtered[['dp_score','신용평점']].groupby('신용평점').agg(['mean', lambda x: x.quantile(0.25), lambda x: x.quantile(0.5), lambda x: x.quantile(0.75)])"
   ]
  },
  {
   "cell_type": "markdown",
   "metadata": {},
   "source": [
    "---"
   ]
  },
  {
   "cell_type": "markdown",
   "metadata": {},
   "source": [
    "- 원본데이터 dp_score기준으로 분포 보기"
   ]
  },
  {
   "cell_type": "code",
   "execution_count": 143,
   "metadata": {},
   "outputs": [],
   "source": [
    "df=df.dropna()\n",
    "df = df[(df != 0).all(axis=1)]\n",
    "df = df.replace([np.inf, -np.inf], np.nan)  # inf 값을 NaN으로 대체\n",
    "df = df.dropna()  # NaN이 있는 행 삭제"
   ]
  },
  {
   "cell_type": "code",
   "execution_count": 144,
   "metadata": {},
   "outputs": [],
   "source": [
    "import numpy as np\n",
    "\n",
    "# O-Score의 계수\n",
    "coefficients = {\n",
    "    '유동자산회전률':0.47765086,                    # 높아야 좋다\n",
    "    '총자산대비잉여현금흐름':0.53785436,            # 높아야 좋다\n",
    "    '자기자본구성비율':0.49360789,                  # 높아야 좋다\n",
    "    'log자산총계':0.94238478,                      # 높아야 좋다\n",
    "    '자기자본회전률':-0.08646556,                   # 높아야 좋다\n",
    "    '순운전자본회전률':-0.98107367,                 # 높아야 좋다\n",
    "    '자기자본증가율':0.19544705,                    # 높아야 좋다\n",
    "    '총자본증가율':0.44094258,                      # 높아야 좋다\n",
    "    '총자산대비현금흐름':-0.37036301,               # 높아야 좋다\n",
    "    '총자본투자효율':0.26458857,                    # 높아야 좋다\n",
    "\n",
    "    'constant': 0.90495308\n",
    "}\n",
    "\n",
    "# O-Score 계산\n",
    "df['dp_score'] = coefficients['constant']\n",
    "df['dp_score'] += coefficients['유동자산회전률'] * df['유동자산회전률']\n",
    "df['dp_score'] += coefficients['총자산대비잉여현금흐름'] * df['총자산대비잉여현금흐름']\n",
    "df['dp_score'] += coefficients['자기자본구성비율'] * df['자기자본구성비율']\n",
    "df['dp_score'] += coefficients['log자산총계'] * df['log자산총계']\n",
    "df['dp_score'] += coefficients['자기자본회전률'] * df['자기자본회전률']\n",
    "df['dp_score'] += coefficients['순운전자본회전률'] * df['순운전자본회전률']\n",
    "df['dp_score'] += coefficients['자기자본증가율'] * df['자기자본증가율']\n",
    "df['dp_score'] += coefficients['총자본증가율'] * df['총자본증가율']\n",
    "df['dp_score'] += coefficients['총자산대비현금흐름'] * df['총자산대비현금흐름']\n",
    "df['dp_score'] += coefficients['총자본투자효율'] * df['총자본투자효율']\n",
    "\n",
    "# # 로지스틱 함수를 이용해 부도 확률 계산\n",
    "# df['default_probability'] = 1 / (1 + np.exp(-df['dp_score']))"
   ]
  },
  {
   "cell_type": "code",
   "execution_count": 145,
   "metadata": {},
   "outputs": [
    {
     "data": {
      "text/plain": [
       "7         23.642365\n",
       "11        75.511303\n",
       "13        45.782341\n",
       "18        43.859493\n",
       "25        66.392830\n",
       "            ...    \n",
       "295907    65.661929\n",
       "295918    65.626712\n",
       "295942    90.164992\n",
       "295955    48.528378\n",
       "295971    81.322909\n",
       "Name: dp_score, Length: 25515, dtype: float64"
      ]
     },
     "execution_count": 145,
     "metadata": {},
     "output_type": "execute_result"
    }
   ],
   "source": [
    "df['dp_score']"
   ]
  },
  {
   "cell_type": "code",
   "execution_count": 146,
   "metadata": {},
   "outputs": [],
   "source": [
    "# 'dp_score'에 따라 'dp등급' 컬럼을 생성하는 함수\n",
    "def get_dp등급(score):\n",
    "    if score >= 69.83:\n",
    "        return 'AA'\n",
    "    elif score >= 66.07:\n",
    "        return 'A'\n",
    "    elif score >= 61.68:\n",
    "        return 'BBB'\n",
    "    elif score >= 56.56:\n",
    "        return 'BB'\n",
    "    elif score >= 51.32:\n",
    "        return 'B'\n",
    "    elif score >= 45.75:\n",
    "        return 'CCC'\n",
    "    elif score >= 36.60:\n",
    "        return 'CC'\n",
    "    else:\n",
    "        return 'D'\n",
    "\n",
    "# 'dp_score'를 기반으로 'dp등급' 컬럼 생성\n",
    "df['dp등급'] = df['dp_score'].apply(get_dp등급)\n"
   ]
  },
  {
   "cell_type": "code",
   "execution_count": 147,
   "metadata": {},
   "outputs": [
    {
     "data": {
      "text/plain": [
       "AA     6294\n",
       "D      4086\n",
       "CC     3823\n",
       "CCC    2804\n",
       "B      2586\n",
       "BB     2423\n",
       "BBB    1955\n",
       "A      1544\n",
       "Name: dp등급, dtype: int64"
      ]
     },
     "execution_count": 147,
     "metadata": {},
     "output_type": "execute_result"
    }
   ],
   "source": [
    "df['dp등급'].value_counts()"
   ]
  },
  {
   "cell_type": "code",
   "execution_count": null,
   "metadata": {},
   "outputs": [],
   "source": []
  }
 ],
 "metadata": {
  "kernelspec": {
   "display_name": "Python 3",
   "language": "python",
   "name": "python3"
  },
  "language_info": {
   "codemirror_mode": {
    "name": "ipython",
    "version": 3
   },
   "file_extension": ".py",
   "mimetype": "text/x-python",
   "name": "python",
   "nbconvert_exporter": "python",
   "pygments_lexer": "ipython3",
   "version": "3.10.9"
  },
  "orig_nbformat": 4
 },
 "nbformat": 4,
 "nbformat_minor": 2
}
