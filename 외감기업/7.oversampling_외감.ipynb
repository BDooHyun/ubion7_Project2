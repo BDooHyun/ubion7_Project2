{
 "cells": [
  {
   "cell_type": "code",
   "execution_count": 4,
   "metadata": {},
   "outputs": [],
   "source": [
    "import pandas as pd\n",
    "import numpy as np\n",
    "import matplotlib.pyplot as plt\n",
    "import matplotlib.ticker as ticker\n",
    "import seaborn as sns\n",
    "from datetime import datetime\n",
    "import time\n",
    "import warnings\n",
    "warnings.filterwarnings(\"ignore\")\n",
    "\n",
    "from sklearn.preprocessing import MinMaxScaler, StandardScaler, RobustScaler\n",
    "from sklearn.metrics import accuracy_score,f1_score,recall_score,precision_score,confusion_matrix,ConfusionMatrixDisplay,roc_curve,roc_auc_score,precision_recall_curve\n",
    "from sklearn.ensemble import RandomForestClassifier , StackingClassifier\n",
    "from sklearn.svm import SVC\n",
    "from sklearn.discriminant_analysis import LinearDiscriminantAnalysis\n",
    "from xgboost import XGBClassifier\n",
    "from sklearn.ensemble import GradientBoostingClassifier\n",
    "from lightgbm import LGBMClassifier\n",
    "from sklearn.neighbors import KNeighborsClassifier\n",
    "from sklearn.linear_model import LogisticRegression,Lasso\n",
    "from sklearn.preprocessing import Binarizer\n",
    "from sklearn.model_selection import cross_val_score,GridSearchCV\n",
    "\n",
    "# 한글 깨짐 방지\n",
    "import matplotlib.pyplot as plt\n",
    "plt.rcParams['font.family'] = 'malgun Gothic'"
   ]
  },
  {
   "cell_type": "code",
   "execution_count": 5,
   "metadata": {},
   "outputs": [],
   "source": [
    "train=pd.read_csv('./Dataset/train_Winsorization.csv',encoding='euc-kr')\n",
    "test=pd.read_csv('./Dataset/test.csv',encoding='euc-kr')"
   ]
  },
  {
   "cell_type": "code",
   "execution_count": 6,
   "metadata": {},
   "outputs": [],
   "source": [
    "train['기업수명주기'] = train['기업수명주기'].map({\n",
    "    '도입기' : 1,\n",
    "    '성장기' : 2,\n",
    "    '성숙기' : 3,\n",
    "    '수축기' : 4,\n",
    "    '쇠퇴기' : 5\n",
    "}).astype('category')\n",
    "\n",
    "test['기업수명주기'] = test['기업수명주기'].map({\n",
    "    '도입기' : 1,\n",
    "    '성장기' : 2,\n",
    "    '성숙기' : 3,\n",
    "    '수축기' : 4,\n",
    "    '쇠퇴기' : 5\n",
    "}).astype('category')"
   ]
  },
  {
   "cell_type": "code",
   "execution_count": 7,
   "metadata": {},
   "outputs": [],
   "source": [
    "train['파부비초과여부']=train['파부비초과여부'].astype('category')\n",
    "test['파부비초과여부']=test['파부비초과여부'].astype('category')\n",
    "train['파차의초과여부']=train['파차의초과여부'].astype('category')\n",
    "test['파차의초과여부']=test['파차의초과여부'].astype('category')"
   ]
  },
  {
   "cell_type": "code",
   "execution_count": 8,
   "metadata": {},
   "outputs": [],
   "source": [
    "train=train[['총자본증가율',\n",
    "'총자산대비잉여현금흐름',\n",
    "'당좌자산회전률',\n",
    "'순운전자본회전률',\n",
    "'자기자본회전률',\n",
    "'log자산총계',\n",
    "'자기자본증가율',\n",
    "'기업수명주기',\n",
    "'유동자산회전률',\n",
    "'총자산대비현금흐름',\n",
    "'매출액대비잉여현금흐름',\n",
    "'총자본투자효율',\n",
    "'총자본순이익률',\n",
    "'파부비초과여부',\n",
    "'파차의초과여부','t-1감사의견코드']]\n",
    "\n",
    "test=test[['총자본증가율',\n",
    "'총자산대비잉여현금흐름',\n",
    "'당좌자산회전률',\n",
    "'순운전자본회전률',\n",
    "'자기자본회전률',\n",
    "'log자산총계',\n",
    "'자기자본증가율',\n",
    "'기업수명주기',\n",
    "'유동자산회전률',\n",
    "'총자산대비현금흐름',\n",
    "'매출액대비잉여현금흐름',\n",
    "'총자본투자효율',\n",
    "'총자본순이익률',\n",
    "'파부비초과여부',\n",
    "'파차의초과여부','t-1감사의견코드']]"
   ]
  },
  {
   "cell_type": "code",
   "execution_count": 9,
   "metadata": {},
   "outputs": [],
   "source": [
    "X_train = train.drop('t-1감사의견코드',axis=1)\n",
    "y_train = train[['t-1감사의견코드']]\n",
    "X_test = test.drop('t-1감사의견코드',axis=1)\n",
    "y_test = test[['t-1감사의견코드']]"
   ]
  },
  {
   "cell_type": "code",
   "execution_count": 10,
   "metadata": {},
   "outputs": [],
   "source": [
    "from imblearn.over_sampling import SMOTENC\n",
    "\n",
    "# 카테고리형 변수의 인덱스를 지정 (예: 7번, 13번, 14번 컬럼이 카테고리형 변수인 경우)\n",
    "categorical_features_indices = [7, 13, 14]\n",
    "\n",
    "# SMOTENC 객체 생성\n",
    "smote_nc = SMOTENC(categorical_features=categorical_features_indices, sampling_strategy=0.3)\n",
    "\n",
    "# 데이터셋과 타겟을 넣고 샘플링\n",
    "X_resampled, y_resampled = smote_nc.fit_resample(X_train, y_train)\n"
   ]
  },
  {
   "cell_type": "code",
   "execution_count": 11,
   "metadata": {},
   "outputs": [],
   "source": [
    "from imblearn.over_sampling import SMOTENC\n",
    "\n",
    "# 카테고리형 변수의 인덱스를 지정 (예: 7번, 13번, 14번 컬럼이 카테고리형 변수인 경우)\n",
    "categorical_features_indices = [7, 13, 14]\n",
    "\n",
    "# SMOTENC 객체 생성\n",
    "smote_nc = SMOTENC(categorical_features=categorical_features_indices, sampling_strategy=0.3)\n",
    "\n",
    "# 데이터셋과 타겟을 넣고 샘플링\n",
    "X_resampled2, y_resampled2 = smote_nc.fit_resample(X_test, y_test)"
   ]
  },
  {
   "cell_type": "code",
   "execution_count": 22,
   "metadata": {},
   "outputs": [],
   "source": [
    "def model_basic(x_train, y_train, x_test, y_test): \n",
    "    models = [\n",
    "        LogisticRegression(C=0.01,penalty='l2',random_state=0),\n",
    "        RandomForestClassifier(random_state=0),\n",
    "        # XGBClassifier(random_state=0,enable_categorical=True ),\n",
    "        LGBMClassifier(random_state=0)\n",
    "    ]\n",
    "\n",
    "    rdict={'model':[],'acc_train':[], 'auc_train':[], 'acc_test':[],'precision':[],'recall':[],'f1_score':[], 'AUC_test':[]}\n",
    "\n",
    "\n",
    "    for clf in models:\n",
    "        clf = clf.fit(x_train, y_train)\n",
    "    #1열:Train\n",
    "        y_hat = clf.predict(x_train)\n",
    "        results_train  = (round(accuracy_score(y_train,y_hat),4),round(roc_auc_score(y_train,y_hat),4))\n",
    "    #2열:Test\n",
    "        y_hat = clf.predict(x_test)\n",
    "        results = (round(accuracy_score(y_test,y_hat),4),\n",
    "                        round(precision_score(y_test,y_hat),4),\n",
    "                        round(recall_score(y_test,y_hat),4),\n",
    "                        round(f1_score(y_test,y_hat),4),\n",
    "                        round(roc_auc_score(y_test,y_hat),4))\n",
    "\n",
    "        rdict['model'].append(clf); \n",
    "        rdict['acc_train'].append(results_train[0])\n",
    "        rdict['auc_train'].append(results_train[1])\n",
    "        \n",
    "        rdict['acc_test'].append(results[0])\n",
    "        rdict['precision'].append(results[1])\n",
    "        rdict['recall'].append(results[2])\n",
    "        rdict['f1_score'].append(results[3])\n",
    "        rdict['AUC_test'].append(results[4])   \n",
    "\n",
    "        confusion = confusion_matrix(y_test, y_hat)\n",
    "\n",
    "        print(confusion)\n",
    "\n",
    "    rdf_final = pd.DataFrame(data=rdict)\n",
    "    return rdf_final"
   ]
  },
  {
   "cell_type": "code",
   "execution_count": 23,
   "metadata": {},
   "outputs": [
    {
     "data": {
      "text/plain": [
       "(49734, 15)"
      ]
     },
     "execution_count": 23,
     "metadata": {},
     "output_type": "execute_result"
    }
   ],
   "source": [
    "X_resampled2.shape"
   ]
  },
  {
   "cell_type": "code",
   "execution_count": 24,
   "metadata": {},
   "outputs": [
    {
     "data": {
      "text/plain": [
       "(166498, 1)"
      ]
     },
     "execution_count": 24,
     "metadata": {},
     "output_type": "execute_result"
    }
   ],
   "source": [
    "y_resampled.shape"
   ]
  },
  {
   "cell_type": "code",
   "execution_count": 25,
   "metadata": {},
   "outputs": [
    {
     "data": {
      "text/plain": [
       "(49734, 1)"
      ]
     },
     "execution_count": 25,
     "metadata": {},
     "output_type": "execute_result"
    }
   ],
   "source": [
    "y_resampled2.shape"
   ]
  },
  {
   "cell_type": "code",
   "execution_count": 26,
   "metadata": {},
   "outputs": [
    {
     "name": "stdout",
     "output_type": "stream",
     "text": [
      "[[36499  1758]\n",
      " [ 7039  4438]]\n",
      "[[36626  1631]\n",
      " [ 3569  7908]]\n",
      "[[36028  2229]\n",
      " [ 2904  8573]]\n"
     ]
    },
    {
     "data": {
      "text/html": [
       "<div>\n",
       "<style scoped>\n",
       "    .dataframe tbody tr th:only-of-type {\n",
       "        vertical-align: middle;\n",
       "    }\n",
       "\n",
       "    .dataframe tbody tr th {\n",
       "        vertical-align: top;\n",
       "    }\n",
       "\n",
       "    .dataframe thead th {\n",
       "        text-align: right;\n",
       "    }\n",
       "</style>\n",
       "<table border=\"1\" class=\"dataframe\">\n",
       "  <thead>\n",
       "    <tr style=\"text-align: right;\">\n",
       "      <th></th>\n",
       "      <th>model</th>\n",
       "      <th>acc_train</th>\n",
       "      <th>auc_train</th>\n",
       "      <th>acc_test</th>\n",
       "      <th>precision</th>\n",
       "      <th>recall</th>\n",
       "      <th>f1_score</th>\n",
       "      <th>AUC_test</th>\n",
       "    </tr>\n",
       "  </thead>\n",
       "  <tbody>\n",
       "    <tr>\n",
       "      <th>0</th>\n",
       "      <td>LogisticRegression(C=0.01, random_state=0)</td>\n",
       "      <td>0.8267</td>\n",
       "      <td>0.6764</td>\n",
       "      <td>0.8231</td>\n",
       "      <td>0.7163</td>\n",
       "      <td>0.3867</td>\n",
       "      <td>0.5022</td>\n",
       "      <td>0.6704</td>\n",
       "    </tr>\n",
       "    <tr>\n",
       "      <th>1</th>\n",
       "      <td>(DecisionTreeClassifier(max_features='sqrt', r...</td>\n",
       "      <td>1.0000</td>\n",
       "      <td>1.0000</td>\n",
       "      <td>0.8954</td>\n",
       "      <td>0.8290</td>\n",
       "      <td>0.6890</td>\n",
       "      <td>0.7526</td>\n",
       "      <td>0.8232</td>\n",
       "    </tr>\n",
       "    <tr>\n",
       "      <th>2</th>\n",
       "      <td>LGBMClassifier(random_state=0)</td>\n",
       "      <td>0.9091</td>\n",
       "      <td>0.8652</td>\n",
       "      <td>0.8968</td>\n",
       "      <td>0.7936</td>\n",
       "      <td>0.7470</td>\n",
       "      <td>0.7696</td>\n",
       "      <td>0.8444</td>\n",
       "    </tr>\n",
       "  </tbody>\n",
       "</table>\n",
       "</div>"
      ],
      "text/plain": [
       "                                               model  acc_train  auc_train   \n",
       "0         LogisticRegression(C=0.01, random_state=0)     0.8267     0.6764  \\\n",
       "1  (DecisionTreeClassifier(max_features='sqrt', r...     1.0000     1.0000   \n",
       "2                     LGBMClassifier(random_state=0)     0.9091     0.8652   \n",
       "\n",
       "   acc_test  precision  recall  f1_score  AUC_test  \n",
       "0    0.8231     0.7163  0.3867    0.5022    0.6704  \n",
       "1    0.8954     0.8290  0.6890    0.7526    0.8232  \n",
       "2    0.8968     0.7936  0.7470    0.7696    0.8444  "
      ]
     },
     "execution_count": 26,
     "metadata": {},
     "output_type": "execute_result"
    }
   ],
   "source": [
    "model_basic(X_resampled, y_resampled ,X_resampled2, y_resampled2)"
   ]
  },
  {
   "cell_type": "code",
   "execution_count": null,
   "metadata": {},
   "outputs": [],
   "source": []
  }
 ],
 "metadata": {
  "kernelspec": {
   "display_name": "Python 3",
   "language": "python",
   "name": "python3"
  },
  "language_info": {
   "codemirror_mode": {
    "name": "ipython",
    "version": 3
   },
   "file_extension": ".py",
   "mimetype": "text/x-python",
   "name": "python",
   "nbconvert_exporter": "python",
   "pygments_lexer": "ipython3",
   "version": "3.10.9"
  },
  "orig_nbformat": 4
 },
 "nbformat": 4,
 "nbformat_minor": 2
}
