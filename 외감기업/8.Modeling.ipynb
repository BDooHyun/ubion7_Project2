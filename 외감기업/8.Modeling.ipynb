{
 "cells": [
  {
   "cell_type": "code",
   "execution_count": 1,
   "metadata": {},
   "outputs": [],
   "source": [
    "import pandas as pd\n",
    "import numpy as np\n",
    "import matplotlib.pyplot as plt\n",
    "import matplotlib.ticker as ticker\n",
    "import seaborn as sns\n",
    "from datetime import datetime\n",
    "import time\n",
    "import warnings\n",
    "warnings.filterwarnings(\"ignore\")\n",
    "\n",
    "from sklearn.preprocessing import MinMaxScaler, StandardScaler, RobustScaler\n",
    "from sklearn.metrics import accuracy_score,f1_score,recall_score,precision_score,confusion_matrix,ConfusionMatrixDisplay,roc_curve,roc_auc_score,precision_recall_curve\n",
    "from sklearn.ensemble import RandomForestClassifier , StackingClassifier\n",
    "from sklearn.svm import SVC\n",
    "from sklearn.discriminant_analysis import LinearDiscriminantAnalysis\n",
    "from xgboost import XGBClassifier\n",
    "from lightgbm import LGBMClassifier\n",
    "from sklearn.neighbors import KNeighborsClassifier\n",
    "from sklearn.linear_model import LogisticRegression,Lasso\n",
    "from sklearn.preprocessing import Binarizer\n",
    "from sklearn.model_selection import cross_val_score,GridSearchCV\n",
    "\n",
    "# 한글 깨짐 방지\n",
    "import matplotlib.pyplot as plt\n",
    "plt.rcParams['font.family'] = 'malgun Gothic'"
   ]
  },
  {
   "cell_type": "markdown",
   "metadata": {},
   "source": [
    "---\n",
    "## 1.feature selection된 데이터 불러오기"
   ]
  },
  {
   "cell_type": "code",
   "execution_count": 2,
   "metadata": {},
   "outputs": [],
   "source": [
    "train=pd.read_csv('./Dataset/train_Winsorization.csv',encoding='euc-kr')\n",
    "test=pd.read_csv('./Dataset/test.csv',encoding='euc-kr')"
   ]
  },
  {
   "cell_type": "code",
   "execution_count": 3,
   "metadata": {},
   "outputs": [],
   "source": [
    "train['기업수명주기'] = train['기업수명주기'].map({\n",
    "    '도입기' : 1,\n",
    "    '성장기' : 2,\n",
    "    '성숙기' : 3,\n",
    "    '수축기' : 4,\n",
    "    '쇠퇴기' : 5\n",
    "}).astype('category')\n",
    "\n",
    "test['기업수명주기'] = test['기업수명주기'].map({\n",
    "    '도입기' : 1,\n",
    "    '성장기' : 2,\n",
    "    '성숙기' : 3,\n",
    "    '수축기' : 4,\n",
    "    '쇠퇴기' : 5\n",
    "}).astype('category')\n",
    "\n",
    "train['파부비초과여부']=train['파부비초과여부'].astype('category')\n",
    "test['파부비초과여부']=test['파부비초과여부'].astype('category')\n",
    "train['파차의초과여부']=train['파차의초과여부'].astype('category')\n",
    "test['파차의초과여부']=test['파차의초과여부'].astype('category')"
   ]
  },
  {
   "cell_type": "code",
   "execution_count": 4,
   "metadata": {},
   "outputs": [],
   "source": [
    "train=train[['총자본증가율',\n",
    "'총자산대비잉여현금흐름',\n",
    "'당좌자산회전률',\n",
    "'순운전자본회전률',\n",
    "'자기자본회전률',\n",
    "'log자산총계',\n",
    "'자기자본증가율',\n",
    "'기업수명주기',\n",
    "'유동자산회전률',\n",
    "'총자산대비현금흐름',\n",
    "'매출액대비잉여현금흐름',\n",
    "'총자본투자효율',\n",
    "'총자본순이익률',\n",
    "'파부비초과여부',\n",
    "'파차의초과여부','t-1감사의견코드']]\n",
    "\n",
    "test=test[['총자본증가율',\n",
    "'총자산대비잉여현금흐름',\n",
    "'당좌자산회전률',\n",
    "'순운전자본회전률',\n",
    "'자기자본회전률',\n",
    "'log자산총계',\n",
    "'자기자본증가율',\n",
    "'기업수명주기',\n",
    "'유동자산회전률',\n",
    "'총자산대비현금흐름',\n",
    "'매출액대비잉여현금흐름',\n",
    "'총자본투자효율',\n",
    "'총자본순이익률',\n",
    "'파부비초과여부',\n",
    "'파차의초과여부','t-1감사의견코드']]\n"
   ]
  },
  {
   "cell_type": "code",
   "execution_count": 5,
   "metadata": {},
   "outputs": [],
   "source": [
    "X_train = train.drop('t-1감사의견코드',axis=1)\n",
    "X_train = X_train.iloc[:,3:]\n",
    "y_train = train[['t-1감사의견코드']]\n",
    "X_test = test.drop('t-1감사의견코드',axis=1)\n",
    "X_test = X_test.iloc[:,3:]\n",
    "y_test = test[['t-1감사의견코드']]"
   ]
  },
  {
   "cell_type": "code",
   "execution_count": 6,
   "metadata": {},
   "outputs": [],
   "source": [
    "scaler = StandardScaler()\n",
    "train_sc = scaler.fit_transform(X_train)\n",
    "test_sc = scaler.transform(X_test)"
   ]
  },
  {
   "cell_type": "markdown",
   "metadata": {},
   "source": [
    "---\n",
    "## 2. 리셈플링 X"
   ]
  },
  {
   "cell_type": "code",
   "execution_count": 45,
   "metadata": {},
   "outputs": [],
   "source": [
    "def model_basic(x_train, y_train, x_test, y_test): \n",
    "    models = [\n",
    "        LogisticRegression(C=1,penalty='l2',random_state=0)\n",
    "        # ,\n",
    "        # RandomForestClassifier(random_state=0),\n",
    "        # XGBClassifier(random_state=0),\n",
    "        # LGBMClassifier(random_state=0)\n",
    "    ]\n",
    "\n",
    "    rdict={'model':[],'acc_train':[], 'auc_train':[], 'acc_test':[],'precision':[],'recall':[],'f1_score':[], 'AUC_test':[]}\n",
    "\n",
    "\n",
    "    for clf in models:\n",
    "        clf = clf.fit(x_train, y_train)\n",
    "    #1열:Train\n",
    "        y_hat = clf.predict(x_train)\n",
    "        results_train  = (round(accuracy_score(y_train,y_hat),4),round(roc_auc_score(y_train,y_hat),4))\n",
    "    #2열:Test\n",
    "        y_hat = clf.predict(x_test)\n",
    "        results = (round(accuracy_score(y_test,y_hat),4),\n",
    "                        round(precision_score(y_test,y_hat),4),\n",
    "                        round(recall_score(y_test,y_hat),4),\n",
    "                        round(f1_score(y_test,y_hat),4),\n",
    "                        round(roc_auc_score(y_test,y_hat),4))\n",
    "\n",
    "        rdict['model'].append(clf); \n",
    "        rdict['acc_train'].append(results_train[0])\n",
    "        rdict['auc_train'].append(results_train[1])\n",
    "        \n",
    "        rdict['acc_test'].append(results[0])\n",
    "        rdict['precision'].append(results[1])\n",
    "        rdict['recall'].append(results[2])\n",
    "        rdict['f1_score'].append(results[3])\n",
    "        rdict['AUC_test'].append(results[4])   \n",
    "\n",
    "        confusion = confusion_matrix(y_test, y_hat)\n",
    "\n",
    "        print(confusion)\n",
    "\n",
    "    rdf_final = pd.DataFrame(data=rdict)\n",
    "    return rdf_final"
   ]
  },
  {
   "cell_type": "code",
   "execution_count": 46,
   "metadata": {},
   "outputs": [
    {
     "name": "stdout",
     "output_type": "stream",
     "text": [
      "[[37906   351]\n",
      " [ 2629   239]]\n"
     ]
    },
    {
     "data": {
      "text/html": [
       "<div>\n",
       "<style scoped>\n",
       "    .dataframe tbody tr th:only-of-type {\n",
       "        vertical-align: middle;\n",
       "    }\n",
       "\n",
       "    .dataframe tbody tr th {\n",
       "        vertical-align: top;\n",
       "    }\n",
       "\n",
       "    .dataframe thead th {\n",
       "        text-align: right;\n",
       "    }\n",
       "</style>\n",
       "<table border=\"1\" class=\"dataframe\">\n",
       "  <thead>\n",
       "    <tr style=\"text-align: right;\">\n",
       "      <th></th>\n",
       "      <th>model</th>\n",
       "      <th>acc_train</th>\n",
       "      <th>auc_train</th>\n",
       "      <th>acc_test</th>\n",
       "      <th>precision</th>\n",
       "      <th>recall</th>\n",
       "      <th>f1_score</th>\n",
       "      <th>AUC_test</th>\n",
       "    </tr>\n",
       "  </thead>\n",
       "  <tbody>\n",
       "    <tr>\n",
       "      <th>0</th>\n",
       "      <td>LogisticRegression(C=1, random_state=0)</td>\n",
       "      <td>0.9283</td>\n",
       "      <td>0.5361</td>\n",
       "      <td>0.9275</td>\n",
       "      <td>0.4051</td>\n",
       "      <td>0.0833</td>\n",
       "      <td>0.1382</td>\n",
       "      <td>0.5371</td>\n",
       "    </tr>\n",
       "  </tbody>\n",
       "</table>\n",
       "</div>"
      ],
      "text/plain": [
       "                                     model  acc_train  auc_train  acc_test   \n",
       "0  LogisticRegression(C=1, random_state=0)     0.9283     0.5361    0.9275  \\\n",
       "\n",
       "   precision  recall  f1_score  AUC_test  \n",
       "0     0.4051  0.0833    0.1382    0.5371  "
      ]
     },
     "execution_count": 46,
     "metadata": {},
     "output_type": "execute_result"
    }
   ],
   "source": [
    "model_basic(train_sc, y_train, test_sc, y_test)"
   ]
  },
  {
   "cell_type": "code",
   "execution_count": null,
   "metadata": {},
   "outputs": [],
   "source": []
  },
  {
   "cell_type": "code",
   "execution_count": null,
   "metadata": {},
   "outputs": [],
   "source": []
  },
  {
   "cell_type": "markdown",
   "metadata": {},
   "source": [
    "---\n",
    "# 3. 리샘플링 O"
   ]
  },
  {
   "cell_type": "code",
   "execution_count": null,
   "metadata": {},
   "outputs": [],
   "source": []
  }
 ],
 "metadata": {
  "kernelspec": {
   "display_name": "Python 3",
   "language": "python",
   "name": "python3"
  },
  "language_info": {
   "codemirror_mode": {
    "name": "ipython",
    "version": 3
   },
   "file_extension": ".py",
   "mimetype": "text/x-python",
   "name": "python",
   "nbconvert_exporter": "python",
   "pygments_lexer": "ipython3",
   "version": "3.10.9"
  },
  "orig_nbformat": 4
 },
 "nbformat": 4,
 "nbformat_minor": 2
}
