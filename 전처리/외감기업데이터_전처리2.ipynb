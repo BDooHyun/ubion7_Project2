{
 "cells": [
  {
   "cell_type": "markdown",
   "metadata": {},
   "source": [
    "---\n",
    "- 07/23"
   ]
  },
  {
   "cell_type": "code",
   "execution_count": 128,
   "metadata": {},
   "outputs": [],
   "source": [
    "import pandas as pd\n",
    "import numpy as np\n",
    "\n",
    "#워닝 메시지\n",
    "import warnings\n",
    "warnings.filterwarnings('ignore')"
   ]
  },
  {
   "cell_type": "code",
   "execution_count": 129,
   "metadata": {},
   "outputs": [],
   "source": [
    "df_외감=pd.read_csv('./Dataset/외감raw3.csv',encoding='euc-kr')\n",
    "df_외감.drop(['회사명.1','회계년도.1'],axis=1,inplace=True)"
   ]
  },
  {
   "cell_type": "code",
   "execution_count": 130,
   "metadata": {},
   "outputs": [
    {
     "data": {
      "text/plain": [
       "(295975, 54)"
      ]
     },
     "execution_count": 130,
     "metadata": {},
     "output_type": "execute_result"
    }
   ],
   "source": [
    "df_외감.shape"
   ]
  },
  {
   "cell_type": "code",
   "execution_count": 131,
   "metadata": {},
   "outputs": [
    {
     "data": {
      "text/plain": [
       "51667"
      ]
     },
     "execution_count": 131,
     "metadata": {},
     "output_type": "execute_result"
    }
   ],
   "source": [
    "len(df_외감['회사명'].unique())"
   ]
  },
  {
   "cell_type": "markdown",
   "metadata": {},
   "source": [
    "- shape : (295975,54) /  기업수 : 51667개\n",
    "---"
   ]
  },
  {
   "cell_type": "code",
   "execution_count": 132,
   "metadata": {},
   "outputs": [],
   "source": [
    "list=['SK리츠운용주식회사', '굿모닝대신리츠주식회사', '(주)동방리츠', '대영리츠건설(주)', '드림리츠(주)',\n",
    "       '(주)리츠라인', '(주)리츠산업', '(주)리츠홀딩스', '(주)블리츠웨이', '메리츠건설(주)',\n",
    "       '(주)서울리츠임대주택제2호위탁관리부동산투자회사', '신한리츠운용주식회사',\n",
    "       '엔에이치농협리츠운용주식회사', '영신리츠팜주식회사', '(주)제이알리츠', '월드리츠개발주식회사',\n",
    "       '주식회사경기리츠공공임대제1호위탁관리부동산투자회사', '주식회사경성리츠', '주식회사글리츠리츠',\n",
    "       '주식회사대신케이리츠물류1호위탁관리부동산투자회사', '주식회사리츠파크', '주식회사무등리츠', '주식회사비앤에스리츠',\n",
    "       '주식회사서울리츠임대주택제1호위탁관리부동산투자회사', '주식회사서울리츠임대주택제3호위탁관리부동산투자회사',\n",
    "       '주식회사서울리츠임대주택제4호위탁관리부동산투자회사', '주식회사아이에이치큐리츠', '주식회사와이에스리츠',\n",
    "       '주식회사제로에너지임대리츠2호위탁관리부동산투자회사', '주식회사조일리츠', \n",
    "       '주식회사토지지원리츠제1호위탁관리부동산투자회사', '주식회사토지지원리츠제2호위탁관리부동산투자회사', '주식회사평안리츠',\n",
    "       '주식회사플리츠', '주식회사하우리츠', '주식회사힘내라리츠', '(주)청리츠앤파트너스',\n",
    "       '(주)케이리츠투자운용', '케이리츠주식회사', '켄달스퀘어리츠운용주식회사', '한국리츠주식회사']\n",
    "for i in list:\n",
    "       df_외감 = df_외감[~df_외감['회사명'].str.contains(i)]\n"
   ]
  },
  {
   "cell_type": "code",
   "execution_count": 133,
   "metadata": {},
   "outputs": [],
   "source": [
    "list =['HSBC펀드서비스(주)', '주식회사어니스트펀드','주식회사인천투자펀드2', '주식회사피플펀드컴퍼니']\n",
    "\n",
    "for i in list:\n",
    "    df_외감 = df_외감[~df_외감['회사명'].str.contains(i)]\n",
    "    "
   ]
  },
  {
   "cell_type": "code",
   "execution_count": 134,
   "metadata": {},
   "outputs": [],
   "source": [
    "list=['(주)건설투자', '(주)국제선박투자운용','(유)비티투자','스마트투자파트너스주식회사', '(주)에스와이투자자문', '신동해투자일호피에프브이(주)',\n",
    "       '아이비투자검단(주)', '아이비투자을지로주식회사', '에이스투자(주)', '에이치티투자금융주식회사',\n",
    "       '엠제이투자시스템주식회사', '유한회사한일자산관리앤투자', '인터씨티개발투자(주)', '일조투자디앤씨(주)',\n",
    "       '주식회사건인투자', '주식회사드림부동산투자연구소', '주식회사세원투자건업', '주식회사세원투자산업',\n",
    "       '주식회사아프로투자', '주식회사에이디투자', '주식회사에이치엠지기술투자',\n",
    "       '주식회사이상투자그룹', '주식회사제이에스투자원', '주식회사케이티투자운용',\n",
    "       '주식회사테라투자파트너스', '주식회사한국민간인프라투자', '주식회사한우즈벡실린더투자', '주식회사화신투자',\n",
    "       '(주)투자가이드', '케이디기술투자(주)', '케이엔씨개발투자컨설팅', '코레이트투자운용주식회사', '(주)한진정석투자',\n",
    "       '(주)현대부동산지분투자', '포항프라이머스프로젝트투자금융주식회사', '한원광장프로젝트투자금융주식회사']\n",
    "for i in list:\n",
    "    df_외감 = df_외감[~df_외감['회사명'].str.contains(i)]\n",
    "    "
   ]
  },
  {
   "cell_type": "code",
   "execution_count": 135,
   "metadata": {},
   "outputs": [],
   "source": [
    "df_외감 = df_외감[~df_외감['회사명'].str.contains('부동산투자회사')]\n",
    "df_외감 = df_외감[~df_외감['회사명'].str.contains('금융투자주식회사')]\n",
    "df_외감 = df_외감[~df_외감['회사명'].str.contains('선박투자회사')]\n",
    "df_외감 = df_외감[~df_외감['회사명'].str.contains('투자회사')]\n",
    "df_외감 = df_외감[~df_외감['회사명'].str.contains('투자주식회사')]\n",
    "df_외감 = df_외감[~df_외감['회사명'].str.contains('투자개발')]\n",
    "df_외감 = df_외감[~df_외감['회사명'].str.contains('부동산투지회사')]\n",
    "df_외감 = df_외감[~df_외감['회사명'].str.contains('금융투자')]"
   ]
  },
  {
   "cell_type": "code",
   "execution_count": 136,
   "metadata": {},
   "outputs": [
    {
     "data": {
      "text/plain": [
       "회사명                                       0\n",
       "거래소코드                                     0\n",
       "회계년도                                      0\n",
       "통계청 한국표준산업분류 코드 10차(대분류)                  0\n",
       "부채비율                                     80\n",
       "당좌비율                                     80\n",
       "유동비율                                     80\n",
       "이자보상배율(이자비용)                             80\n",
       "영업활동으로 인한 현금흐름(간접법)(*)(IFRS연결)(천원)       69\n",
       "이자비용(IFRS연결)(천원)                         69\n",
       "차입금의존도                                   80\n",
       "자기자본구성비율                                 80\n",
       "당기순이익(손실)(IFRS연결)(천원)                    69\n",
       "감가상각비(백만원)                             2000\n",
       "금융비용(백만원)                               300\n",
       "단기차입금(*)(IFRS연결)(천원)                     69\n",
       "유동성장기부채(*)(IFRS연결)(천원)                   69\n",
       "장기차입금(*)(IFRS연결)(천원)                     69\n",
       "법인세비용차감전(계속사업)손익(백만원)                   103\n",
       "매출액영업이익률                                 87\n",
       "자기자본순이익률                                 87\n",
       "총자본순이익률                                  87\n",
       "매출액(수익)(*)(IFRS연결)(천원)                   69\n",
       "총자본회전률                                   79\n",
       "자기자본회전률                                  79\n",
       "운전자본회전률                                  79\n",
       "순운전자본회전률                                 79\n",
       "재고자산회전률                                  79\n",
       "당좌자산회전률                                  79\n",
       "유동자산회전률                                  79\n",
       "매출액증가율                                   78\n",
       "총자본증가율                                   78\n",
       "자기자본증가율                                  78\n",
       "순이익증가율                                   78\n",
       "유형자산증가율                                  78\n",
       "유동자산증가율                                  78\n",
       "재고자산증가율                                  78\n",
       "영업이익증가율                                  78\n",
       "총자본투자효율                                  92\n",
       "부가가치율                                    92\n",
       "노동소득분배율                                  92\n",
       "자본분배율                                    92\n",
       "이윤분배율                                    92\n",
       "투자활동으로 인한 현금흐름(*)(IFRS연결)(천원)            69\n",
       "재무활동으로 인한 현금흐름(*)(IFRS연결)(천원)            69\n",
       "자산(*)(IFRS연결)(천원)                        69\n",
       "부채(*)(IFRS연결)(천원)                        69\n",
       "자본(*)(IFRS연결)(천원)                        69\n",
       "연구개발비(IFRS연결)(천원)                        73\n",
       "감사의견코드                                33972\n",
       "통계청 한국표준산업분류 10차(대분류)                     0\n",
       "자본금(*)(IFRS연결)(천원)                       69\n",
       "* (정상)영업손익(보고서기재)(IFRS연결)(천원)            69\n",
       "연구개발비(천원)                                69\n",
       "dtype: int64"
      ]
     },
     "execution_count": 136,
     "metadata": {},
     "output_type": "execute_result"
    }
   ],
   "source": [
    "df_외감.isna().sum()"
   ]
  },
  {
   "cell_type": "markdown",
   "metadata": {},
   "source": [
    "---\n",
    "# traget 레이블링   \n",
    "    - 감사의견 코드\n",
    "    - 자본잠식률\n",
    "    - 회생절차 기업\n",
    "    \n",
    "1. 감사의견코드"
   ]
  },
  {
   "cell_type": "code",
   "execution_count": 137,
   "metadata": {},
   "outputs": [],
   "source": [
    "df_외감['감사의견코드']=df_외감['감사의견코드'].map({\n",
    "    'AG': 1,\n",
    "    'DS':1,\n",
    "    'DI':1,\n",
    "    'DU':1,\n",
    "    'QA':0,\n",
    "    'QC':0,\n",
    "    'QG':0,\n",
    "    'QQ':0,\n",
    "    'QS':1,\n",
    "    'QU':0,\n",
    "    'UQ':0,\n",
    "    'ZZ':1\n",
    "})"
   ]
  },
  {
   "cell_type": "markdown",
   "metadata": {},
   "source": [
    " 2. 자본잠식  \n",
    "    - 컬럼을 하나 만듬\n",
    "    - 조건에 따라 레이블링\n",
    "    "
   ]
  },
  {
   "cell_type": "code",
   "execution_count": 138,
   "metadata": {},
   "outputs": [],
   "source": [
    "df_외감['자본잠식률']=(df_외감['자본금(*)(IFRS연결)(천원)'] - df_외감['자본(*)(IFRS연결)(천원)'])/df_외감['자본금(*)(IFRS연결)(천원)']"
   ]
  },
  {
   "cell_type": "code",
   "execution_count": 139,
   "metadata": {},
   "outputs": [],
   "source": [
    "mask = (df_외감['거래소코드'] == df_외감['거래소코드'].shift(-1)) & (df_외감['자본잠식률'] >= 50)"
   ]
  },
  {
   "cell_type": "code",
   "execution_count": 140,
   "metadata": {},
   "outputs": [
    {
     "data": {
      "text/plain": [
       "감사의견코드\n",
       "0.0    239093\n",
       "1.0     20893\n",
       "Name: count, dtype: int64"
      ]
     },
     "execution_count": 140,
     "metadata": {},
     "output_type": "execute_result"
    }
   ],
   "source": [
    "df_외감['감사의견코드'].value_counts()"
   ]
  },
  {
   "cell_type": "code",
   "execution_count": 141,
   "metadata": {},
   "outputs": [],
   "source": [
    "df_외감.loc[mask, '감사의견코드'] = 1.0"
   ]
  },
  {
   "cell_type": "code",
   "execution_count": 142,
   "metadata": {},
   "outputs": [
    {
     "data": {
      "text/plain": [
       "False    289149\n",
       "True       4809\n",
       "Name: count, dtype: int64"
      ]
     },
     "execution_count": 142,
     "metadata": {},
     "output_type": "execute_result"
    }
   ],
   "source": [
    "mask.value_counts()"
   ]
  },
  {
   "cell_type": "code",
   "execution_count": 143,
   "metadata": {},
   "outputs": [
    {
     "data": {
      "text/plain": [
       "감사의견코드\n",
       "0.0    236292\n",
       "1.0     24748\n",
       "Name: count, dtype: int64"
      ]
     },
     "execution_count": 143,
     "metadata": {},
     "output_type": "execute_result"
    }
   ],
   "source": [
    "df_외감['감사의견코드'].value_counts()"
   ]
  },
  {
   "cell_type": "code",
   "execution_count": 144,
   "metadata": {},
   "outputs": [
    {
     "data": {
      "text/plain": [
       "3855"
      ]
     },
     "execution_count": 144,
     "metadata": {},
     "output_type": "execute_result"
    }
   ],
   "source": [
    "24748 - 20893"
   ]
  },
  {
   "cell_type": "markdown",
   "metadata": {},
   "source": [
    "- 자본잠식 > 50인 3855개가 0에서 1로 레이블링 변경"
   ]
  },
  {
   "cell_type": "markdown",
   "metadata": {},
   "source": [
    "3. 회생절차 기업 확인하기!"
   ]
  },
  {
   "cell_type": "code",
   "execution_count": 145,
   "metadata": {},
   "outputs": [],
   "source": [
    "# 회생절차 개시신청\n",
    "df_외감.loc[132330,'감사의견코드']=1.0\n",
    "df_외감.loc[12111,'감사의견코드']=1.0\n",
    "df_외감.loc[16614,'감사의견코드']=1.0\n",
    "df_외감.loc[77037,'감사의견코드']=1.0\n",
    "df_외감.loc[191585,'감사의견코드']=1.0\n",
    "df_외감.loc[77037,'감사의견코드']=1.0\n",
    "df_외감.loc[211114,'감사의견코드']=1.0\n",
    "df_외감.loc[228410,'감사의견코드']=1.0\n",
    "df_외감.loc[256817,'감사의견코드']=1.0\n",
    "df_외감.loc[280187,'감사의견코드']=1.0\n",
    "df_외감.loc[288076,'감사의견코드']=1.0\n",
    "# 해산사유 발생\n",
    "# 77485 (주)세실 2017년 파산  ->2016년 레이블링 1.0으로 수정 필요\n"
   ]
  },
  {
   "cell_type": "code",
   "execution_count": 146,
   "metadata": {},
   "outputs": [
    {
     "data": {
      "text/plain": [
       "감사의견코드\n",
       "0.0    236282\n",
       "1.0     24758\n",
       "Name: count, dtype: int64"
      ]
     },
     "execution_count": 146,
     "metadata": {},
     "output_type": "execute_result"
    }
   ],
   "source": [
    "df_외감['감사의견코드'].value_counts()"
   ]
  },
  {
   "cell_type": "code",
   "execution_count": 147,
   "metadata": {},
   "outputs": [
    {
     "data": {
      "text/plain": [
       "32918"
      ]
     },
     "execution_count": 147,
     "metadata": {},
     "output_type": "execute_result"
    }
   ],
   "source": [
    "df_외감['감사의견코드'].isna().sum()"
   ]
  },
  {
   "cell_type": "markdown",
   "metadata": {},
   "source": [
    "- 0.0 : 236282\n",
    "- 1.0 : 24758\n",
    "- 결측치 : 32918"
   ]
  },
  {
   "cell_type": "markdown",
   "metadata": {},
   "source": [
    "---"
   ]
  },
  {
   "cell_type": "markdown",
   "metadata": {},
   "source": [
    "> 오름차순으로 정렬 회사명, 거래소 코드로"
   ]
  },
  {
   "cell_type": "code",
   "execution_count": 148,
   "metadata": {},
   "outputs": [],
   "source": [
    "df_외감.sort_values(by=['회사명','거래소코드'], ascending=True,inplace=True)"
   ]
  },
  {
   "cell_type": "markdown",
   "metadata": {},
   "source": [
    "> 회사명이 한개인 기업들 삭제\n",
    "    - 2369개 삭제"
   ]
  },
  {
   "cell_type": "code",
   "execution_count": 149,
   "metadata": {},
   "outputs": [
    {
     "data": {
      "text/plain": [
       "2369"
      ]
     },
     "execution_count": 149,
     "metadata": {},
     "output_type": "execute_result"
    }
   ],
   "source": [
    "len(df_외감[df_외감['거래소코드'].map(df_외감['거래소코드'].value_counts()) == 1])\n"
   ]
  },
  {
   "cell_type": "code",
   "execution_count": 150,
   "metadata": {},
   "outputs": [],
   "source": [
    "df_외감=df_외감[df_외감['거래소코드'].map(df_외감['거래소코드'].value_counts()) != 1]\n"
   ]
  },
  {
   "cell_type": "code",
   "execution_count": 151,
   "metadata": {},
   "outputs": [
    {
     "data": {
      "text/plain": [
       "감사의견코드\n",
       "0.0    234559\n",
       "1.0     24140\n",
       "Name: count, dtype: int64"
      ]
     },
     "execution_count": 151,
     "metadata": {},
     "output_type": "execute_result"
    }
   ],
   "source": [
    "df_외감['감사의견코드'].value_counts()"
   ]
  },
  {
   "cell_type": "markdown",
   "metadata": {},
   "source": [
    "> 파생변수 : Year 만들기"
   ]
  },
  {
   "cell_type": "code",
   "execution_count": 152,
   "metadata": {},
   "outputs": [],
   "source": [
    "df_외감['Year']= df_외감['회계년도'].replace('/','').astype(str).str[:4].astype(int)"
   ]
  },
  {
   "cell_type": "code",
   "execution_count": 153,
   "metadata": {},
   "outputs": [],
   "source": [
    "# pd.reset_option('display.max_rows', None)\n",
    "# df_외감[(df_외감['거래소코드'] == df_외감['거래소코드'].shift(-1)) & (df_외감['Year'].diff(-1) != -1) &(df_외감['감사의견코드'] ==1) &(df_외감['Year'] !=2012)]"
   ]
  },
  {
   "cell_type": "markdown",
   "metadata": {},
   "source": [
    "> 회사 이름이 같고, 연도 차이가 일년만 나는 데이터프레임 확인!"
   ]
  },
  {
   "cell_type": "markdown",
   "metadata": {},
   "source": [
    "> 만약 2017년에 부실징후 포착 -> 2016년에 레이블링을 해야하는데 , 2017전년도 데이터가 2014년 같이 불연속인경우 고려"
   ]
  },
  {
   "cell_type": "code",
   "execution_count": 154,
   "metadata": {},
   "outputs": [
    {
     "data": {
      "text/plain": [
       "감사의견코드\n",
       "0.0    231716\n",
       "1.0     23583\n",
       "Name: count, dtype: int64"
      ]
     },
     "execution_count": 154,
     "metadata": {},
     "output_type": "execute_result"
    }
   ],
   "source": [
    "df_외감[~(df_외감['회사명'] == df_외감['회사명'].shift(-1)) | (abs(df_외감['Year']-df_외감['Year'].shift(-1)) == 1)]['감사의견코드'].value_counts()"
   ]
  },
  {
   "cell_type": "code",
   "execution_count": 155,
   "metadata": {},
   "outputs": [],
   "source": [
    "# df_외감.to_csv('t시점_외감.csv',index=False,encoding='euc-kr')"
   ]
  },
  {
   "cell_type": "markdown",
   "metadata": {},
   "source": [
    "----\n"
   ]
  },
  {
   "cell_type": "markdown",
   "metadata": {},
   "source": [
    "- df_외감 : (291589,55)\n",
    "- 감사의견코드 결측치 : 32890\n",
    "- 감사의견코드 value_counts\n",
    "    - true  : 234559\n",
    "    - false : 24140"
   ]
  },
  {
   "cell_type": "markdown",
   "metadata": {},
   "source": [
    "---"
   ]
  },
  {
   "cell_type": "markdown",
   "metadata": {},
   "source": [
    "* 기업의 target : 0 이면 --> 그 기업 데이터 모두 유지\n",
    "* 기업의 target : 1 이면 --> 그 기업 1 이전 데이터 유지 & 1 이후 데이터 삭제"
   ]
  },
  {
   "cell_type": "code",
   "execution_count": 156,
   "metadata": {},
   "outputs": [],
   "source": [
    "import pandas as pd\n",
    "\n",
    "# 거래소코드로 그룹화하여 처리하는 함수\n",
    "def process_group(group):\n",
    "    # 빈 그룹인 경우 그대로 반환\n",
    "    if group.empty:\n",
    "        return group\n",
    "    \n",
    "    # 거래소코드 그룹별로 처리\n",
    "    if 1 in group['감사의견코드'].values:\n",
    "        # 1이 처음으로 나오는 인덱스 찾기\n",
    "        first_index = group.index[group['감사의견코드'] == 1][0]\n",
    "        \n",
    "        # 처음으로 1이 나오는 행의 아래 행들 삭제\n",
    "        group = group.loc[:first_index]\n",
    "    else:\n",
    "        # 1이 없는 경우 그룹 그대로 유지\n",
    "        pass\n",
    "    \n",
    "    return group\n",
    "\n"
   ]
  },
  {
   "cell_type": "code",
   "execution_count": 157,
   "metadata": {},
   "outputs": [],
   "source": [
    "# '거래소코드'로 그룹화하여 함수를 적용하고 다시 합치기\n",
    "processed_df = df_외감.groupby('거래소코드').apply(process_group)"
   ]
  },
  {
   "cell_type": "code",
   "execution_count": 158,
   "metadata": {},
   "outputs": [
    {
     "data": {
      "text/plain": [
       "(247790, 56)"
      ]
     },
     "execution_count": 158,
     "metadata": {},
     "output_type": "execute_result"
    }
   ],
   "source": [
    "processed_df.shape"
   ]
  },
  {
   "cell_type": "code",
   "execution_count": 159,
   "metadata": {},
   "outputs": [
    {
     "data": {
      "text/plain": [
       "감사의견코드\n",
       "0.0    199447\n",
       "1.0     16452\n",
       "Name: count, dtype: int64"
      ]
     },
     "execution_count": 159,
     "metadata": {},
     "output_type": "execute_result"
    }
   ],
   "source": [
    "processed_df['감사의견코드'].value_counts()"
   ]
  },
  {
   "cell_type": "code",
   "execution_count": 160,
   "metadata": {},
   "outputs": [
    {
     "data": {
      "text/plain": [
       "31891"
      ]
     },
     "execution_count": 160,
     "metadata": {},
     "output_type": "execute_result"
    }
   ],
   "source": [
    "processed_df['감사의견코드'].isna().sum()"
   ]
  },
  {
   "cell_type": "markdown",
   "metadata": {},
   "source": [
    "- 기업의 처음 1이 나온 이후의 데이터 삭제!\n",
    "    - shape(247790,56)\n",
    "    - 0.0 : 199447\n",
    "    - 1.0 : 16452\n",
    "    - 결측치 : 31891"
   ]
  },
  {
   "cell_type": "markdown",
   "metadata": {},
   "source": [
    "* 기업의 개수가 1개인 기업은 drop!"
   ]
  },
  {
   "cell_type": "code",
   "execution_count": 176,
   "metadata": {},
   "outputs": [],
   "source": [
    "processed_df=processed_df[processed_df['거래소코드'].map(processed_df['거래소코드'].value_counts()) != 1]\n"
   ]
  },
  {
   "cell_type": "code",
   "execution_count": 179,
   "metadata": {},
   "outputs": [
    {
     "data": {
      "text/plain": [
       "(244823, 56)"
      ]
     },
     "execution_count": 179,
     "metadata": {},
     "output_type": "execute_result"
    }
   ],
   "source": [
    "processed_df.shape"
   ]
  },
  {
   "cell_type": "code",
   "execution_count": 180,
   "metadata": {},
   "outputs": [
    {
     "data": {
      "text/plain": [
       "감사의견코드\n",
       "0.0    199447\n",
       "1.0     13485\n",
       "Name: count, dtype: int64"
      ]
     },
     "execution_count": 180,
     "metadata": {},
     "output_type": "execute_result"
    }
   ],
   "source": [
    "processed_df['감사의견코드'].value_counts()"
   ]
  },
  {
   "cell_type": "code",
   "execution_count": 182,
   "metadata": {},
   "outputs": [
    {
     "data": {
      "text/plain": [
       "31891"
      ]
     },
     "execution_count": 182,
     "metadata": {},
     "output_type": "execute_result"
    }
   ],
   "source": [
    "processed_df['감사의견코드'].isna().sum()"
   ]
  },
  {
   "cell_type": "markdown",
   "metadata": {},
   "source": [
    "- 0.0 : 199447\n",
    "- 1.0 : 13485\n",
    "- 결측치 : 30891\n",
    "- 총 2967개 감소"
   ]
  },
  {
   "cell_type": "markdown",
   "metadata": {},
   "source": [
    "---"
   ]
  },
  {
   "cell_type": "markdown",
   "metadata": {},
   "source": [
    "#### 거래소 코드가 같은 회사라면, t-1감사의견코드라는 행에 다음년도 감사의견코드 대입"
   ]
  },
  {
   "cell_type": "code",
   "execution_count": 183,
   "metadata": {},
   "outputs": [],
   "source": [
    "mask = processed_df['거래소코드'] == processed_df['거래소코드'].shift(-1)\n",
    "processed_df['t-1감사의견코드'] = np.where(mask,processed_df['감사의견코드'].shift(-1), np.nan)"
   ]
  },
  {
   "cell_type": "code",
   "execution_count": 184,
   "metadata": {},
   "outputs": [
    {
     "data": {
      "text/plain": [
       "t-1감사의견코드\n",
       "0.0    182115\n",
       "1.0     13485\n",
       "Name: count, dtype: int64"
      ]
     },
     "execution_count": 184,
     "metadata": {},
     "output_type": "execute_result"
    }
   ],
   "source": [
    "processed_df['t-1감사의견코드'].value_counts()"
   ]
  },
  {
   "cell_type": "code",
   "execution_count": 185,
   "metadata": {},
   "outputs": [],
   "source": [
    "processed_df.dropna(subset='t-1감사의견코드',axis=0,inplace=True)"
   ]
  },
  {
   "cell_type": "code",
   "execution_count": 186,
   "metadata": {},
   "outputs": [],
   "source": [
    "processed_df.drop(columns='감사의견코드',axis=1,inplace=True)"
   ]
  },
  {
   "cell_type": "code",
   "execution_count": 187,
   "metadata": {},
   "outputs": [
    {
     "data": {
      "text/plain": [
       "회사명                                      0\n",
       "거래소코드                                    0\n",
       "회계년도                                     0\n",
       "통계청 한국표준산업분류 코드 10차(대분류)                 0\n",
       "부채비율                                    60\n",
       "당좌비율                                    60\n",
       "유동비율                                    60\n",
       "이자보상배율(이자비용)                            60\n",
       "영업활동으로 인한 현금흐름(간접법)(*)(IFRS연결)(천원)      58\n",
       "이자비용(IFRS연결)(천원)                        58\n",
       "차입금의존도                                  60\n",
       "자기자본구성비율                                60\n",
       "당기순이익(손실)(IFRS연결)(천원)                   58\n",
       "감가상각비(백만원)                            1385\n",
       "금융비용(백만원)                              204\n",
       "단기차입금(*)(IFRS연결)(천원)                    58\n",
       "유동성장기부채(*)(IFRS연결)(천원)                  58\n",
       "장기차입금(*)(IFRS연결)(천원)                    58\n",
       "법인세비용차감전(계속사업)손익(백만원)                   75\n",
       "매출액영업이익률                                60\n",
       "자기자본순이익률                                60\n",
       "총자본순이익률                                 60\n",
       "매출액(수익)(*)(IFRS연결)(천원)                  58\n",
       "총자본회전률                                  60\n",
       "자기자본회전률                                 60\n",
       "운전자본회전률                                 60\n",
       "순운전자본회전률                                60\n",
       "재고자산회전률                                 60\n",
       "당좌자산회전률                                 60\n",
       "유동자산회전률                                 60\n",
       "매출액증가율                                  59\n",
       "총자본증가율                                  59\n",
       "자기자본증가율                                 59\n",
       "순이익증가율                                  59\n",
       "유형자산증가율                                 59\n",
       "유동자산증가율                                 59\n",
       "재고자산증가율                                 59\n",
       "영업이익증가율                                 59\n",
       "총자본투자효율                                 69\n",
       "부가가치율                                   69\n",
       "노동소득분배율                                 69\n",
       "자본분배율                                   69\n",
       "이윤분배율                                   69\n",
       "투자활동으로 인한 현금흐름(*)(IFRS연결)(천원)           58\n",
       "재무활동으로 인한 현금흐름(*)(IFRS연결)(천원)           58\n",
       "자산(*)(IFRS연결)(천원)                       58\n",
       "부채(*)(IFRS연결)(천원)                       58\n",
       "자본(*)(IFRS연결)(천원)                       58\n",
       "연구개발비(IFRS연결)(천원)                       62\n",
       "통계청 한국표준산업분류 10차(대분류)                    0\n",
       "자본금(*)(IFRS연결)(천원)                      58\n",
       "* (정상)영업손익(보고서기재)(IFRS연결)(천원)           58\n",
       "연구개발비(천원)                               58\n",
       "자본잠식률                                   67\n",
       "Year                                     0\n",
       "t-1감사의견코드                                0\n",
       "dtype: int64"
      ]
     },
     "execution_count": 187,
     "metadata": {},
     "output_type": "execute_result"
    }
   ],
   "source": [
    "processed_df.isna().sum()"
   ]
  },
  {
   "cell_type": "code",
   "execution_count": 189,
   "metadata": {},
   "outputs": [],
   "source": [
    "processed_df.drop('연구개발비(IFRS연결)(천원)',axis=1,inplace=True)"
   ]
  },
  {
   "cell_type": "code",
   "execution_count": 190,
   "metadata": {},
   "outputs": [],
   "source": [
    "processed_df.columns=['회사명','거래소코드', '회계년도', '산업분류코드', '부채비율', '당좌비율', '유동비율',\n",
    "       '이자보상배율', 'OCF(천원)','이자비용(천원)', '차입금의존도', '자기자본구성비율', '당기순이익(천원)',\n",
    "       '감가상각비(백만원)', '금융비용(백만원)', '단기차입금(천원)','유동성장기부채(천원)', '장기차입금(천원)',\n",
    "       '법인세비용차감전손익(백만원)', '매출액영업이익률', '자기자본순이익률', '총자본순이익률',\n",
    "       '매출액(천원)', '총자본회전률', '자기자본회전률', '운전자본회전률', '순운전자본회전률',\n",
    "       '재고자산회전률', '당좌자산회전률', '유동자산회전률', '매출액증가율', '총자본증가율', '자기자본증가율',\n",
    "       '순이익증가율', '유형자산증가율', '유동자산증가율', '재고자산증가율', '영업이익증가율', '총자본투자효율',\n",
    "       '부가가치율', '노동소득분배율', '자본분배율', '이윤분배율', 'ICF(천원)','FCF(천원)', '자산총계(천원)',\n",
    "       '부채총계(천원)', '자본총계(천원)', \n",
    "       '산업분류', '자본금(천원)','영업손익(천원)','연구개발비(천원)','자본잠식률', 'Year', 't-1감사의견코드']"
   ]
  },
  {
   "cell_type": "code",
   "execution_count": 451,
   "metadata": {},
   "outputs": [],
   "source": [
    "# processed_df.to_csv('t-1_raw_외감.csv',index=False,encoding='euc-kr')"
   ]
  },
  {
   "cell_type": "markdown",
   "metadata": {},
   "source": [
    "---\n",
    "- t-2 시점"
   ]
  },
  {
   "cell_type": "code",
   "execution_count": 191,
   "metadata": {},
   "outputs": [],
   "source": [
    "processed_df2=processed_df[~(((processed_df['거래소코드']) ==1) & (processed_df['거래소코드'].value_counts()) == 1)]\n",
    "\n",
    "mask = processed_df2['거래소코드'] == processed_df2['거래소코드'].shift(-1)\n",
    "processed_df2['t-2감사의견코드'] = np.where(mask,processed_df2['t-1감사의견코드'].shift(-1), np.nan)"
   ]
  },
  {
   "cell_type": "code",
   "execution_count": 192,
   "metadata": {},
   "outputs": [
    {
     "data": {
      "text/plain": [
       "t-2감사의견코드\n",
       "0.0    146139\n",
       "1.0      2298\n",
       "Name: count, dtype: int64"
      ]
     },
     "execution_count": 192,
     "metadata": {},
     "output_type": "execute_result"
    }
   ],
   "source": [
    "processed_df2['t-2감사의견코드'].value_counts()"
   ]
  },
  {
   "cell_type": "code",
   "execution_count": 193,
   "metadata": {},
   "outputs": [],
   "source": [
    "processed_df2.dropna(subset='t-2감사의견코드',axis=0,inplace=True)"
   ]
  },
  {
   "cell_type": "code",
   "execution_count": 455,
   "metadata": {},
   "outputs": [],
   "source": [
    "# processed_df.to_csv('t-2_raw_외감.csv',index=False,encoding='euc-kr')"
   ]
  },
  {
   "cell_type": "code",
   "execution_count": null,
   "metadata": {},
   "outputs": [],
   "source": []
  }
 ],
 "metadata": {
  "kernelspec": {
   "display_name": "Python 3",
   "language": "python",
   "name": "python3"
  },
  "language_info": {
   "codemirror_mode": {
    "name": "ipython",
    "version": 3
   },
   "file_extension": ".py",
   "mimetype": "text/x-python",
   "name": "python",
   "nbconvert_exporter": "python",
   "pygments_lexer": "ipython3",
   "version": "3.10.9"
  },
  "orig_nbformat": 4
 },
 "nbformat": 4,
 "nbformat_minor": 2
}
