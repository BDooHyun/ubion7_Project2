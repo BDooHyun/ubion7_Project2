{
 "cells": [
  {
   "cell_type": "code",
   "execution_count": 71,
   "metadata": {},
   "outputs": [],
   "source": [
    "import pandas as pd\n",
    "import numpy as np"
   ]
  },
  {
   "cell_type": "code",
   "execution_count": 72,
   "metadata": {},
   "outputs": [],
   "source": [
    "df_외감=pd.read_csv('./Dataset/외감raw2.csv',encoding='euc-kr')"
   ]
  },
  {
   "cell_type": "code",
   "execution_count": 73,
   "metadata": {},
   "outputs": [],
   "source": [
    "df_외감.drop(df_외감[df_외감['회사명'].isin(['SK리츠운용주식회사', '굿모닝대신리츠주식회사', '(주)동방리츠', '대영리츠건설(주)', '드림리츠(주)',\n",
    "       '(주)리츠라인', '(주)리츠산업', '(주)리츠홀딩스', '(주)블리츠웨이', '메리츠건설(주)',\n",
    "       '(주)서울리츠임대주택제2호위탁관리부동산투자회사', '신한리츠운용주식회사',\n",
    "       '엔에이치농협리츠운용주식회사', '영신리츠팜주식회사', '(주)제이알리츠', '월드리츠개발주식회사',\n",
    "       '주식회사경기리츠공공임대제1호위탁관리부동산투자회사', '주식회사경성리츠', '주식회사글리츠리츠',\n",
    "       '주식회사대신케이리츠물류1호위탁관리부동산투자회사', '주식회사리츠파크', '주식회사무등리츠', '주식회사비앤에스리츠',\n",
    "       '주식회사서울리츠임대주택제1호위탁관리부동산투자회사', '주식회사서울리츠임대주택제3호위탁관리부동산투자회사',\n",
    "       '주식회사서울리츠임대주택제4호위탁관리부동산투자회사', '주식회사아이에이치큐리츠', '주식회사와이에스리츠',\n",
    "       '주식회사제로에너지임대리츠2호위탁관리부동산투자회사', '주식회사조일리츠', \n",
    "       '주식회사토지지원리츠제1호위탁관리부동산투자회사', '주식회사토지지원리츠제2호위탁관리부동산투자회사', '주식회사평안리츠',\n",
    "       '주식회사플리츠', '주식회사하우리츠', '주식회사힘내라리츠', '(주)청리츠앤파트너스',\n",
    "       '(주)케이리츠투자운용', '케이리츠주식회사', '켄달스퀘어리츠운용주식회사', '한국리츠주식회사'])].index,axis=0,inplace=True)\n"
   ]
  },
  {
   "cell_type": "code",
   "execution_count": 74,
   "metadata": {},
   "outputs": [],
   "source": [
    "df_외감.drop(df_외감[df_외감['회사명'].isin(['HSBC펀드서비스(주)', '주식회사어니스트펀드','주식회사인천투자펀드2', '주식회사피플펀드컴퍼니'])].index,axis=0,inplace=True)"
   ]
  },
  {
   "cell_type": "code",
   "execution_count": 75,
   "metadata": {},
   "outputs": [],
   "source": [
    "df_외감.drop(df_외감[df_외감['회사명'].isin(['(주)건설투자', '(주)국제선박투자운용','(유)비티투자','스마트투자파트너스주식회사', '(주)에스와이투자자문', '신동해투자일호피에프브이(주)',\n",
    "       '아이비투자검단(주)', '아이비투자을지로주식회사', '에이스투자(주)', '에이치티투자금융주식회사',\n",
    "       '엠제이투자시스템주식회사', '유한회사한일자산관리앤투자', '인터씨티개발투자(주)', '일조투자디앤씨(주)',\n",
    "       '주식회사건인투자', '주식회사드림부동산투자연구소', '주식회사세원투자건업', '주식회사세원투자산업',\n",
    "       '주식회사아프로투자', '주식회사에이디투자', '주식회사에이치엠지기술투자',\n",
    "       '주식회사이상투자그룹', '주식회사제이에스투자원', '주식회사케이티투자운용',\n",
    "       '주식회사테라투자파트너스', '주식회사한국민간인프라투자', '주식회사한우즈벡실린더투자', '주식회사화신투자',\n",
    "       '(주)투자가이드', '케이디기술투자(주)', '케이엔씨개발투자컨설팅', '코레이트투자운용주식회사', '(주)한진정석투자',\n",
    "       '(주)현대부동산지분투자', '포항프라이머스프로젝트투자금융주식회사', '한원광장프로젝트투자금융주식회사'])].index,axis=0,inplace=True)\n",
    "\n",
    "# df_Outside.drop(df_Outside[df_Outside['Company Name'].isin(값_리스트)].index, axis=0, inplace=True)"
   ]
  },
  {
   "cell_type": "code",
   "execution_count": 76,
   "metadata": {},
   "outputs": [],
   "source": [
    "df_외감.drop(df_외감[df_외감['회사명'].isin(df_외감['회사명'].str.contains('부동산투자회사'))].index, axis=0, inplace=True)\n",
    "df_외감.drop(df_외감[df_외감['회사명'].isin(df_외감['회사명'].str.contains('금융투자주식회사'))].index, axis=0, inplace=True)\n",
    "df_외감.drop(df_외감[df_외감['회사명'].isin(df_외감['회사명'].str.contains('선박투자회사'))].index, axis=0, inplace=True)\n",
    "df_외감.drop(df_외감[df_외감['회사명'].isin(df_외감['회사명'].str.contains('투자회사'))].index, axis=0, inplace=True)\n",
    "df_외감.drop(df_외감[df_외감['회사명'].isin(df_외감['회사명'].str.contains('투자주식회사'))].index, axis=0, inplace=True)\n",
    "df_외감.drop(df_외감[df_외감['회사명'].isin(df_외감['회사명'].str.contains('투자개발'))].index, axis=0, inplace=True)\n",
    "df_외감.drop(df_외감[df_외감['회사명'].isin(df_외감['회사명'].str.contains('부동산투지회사'))].index, axis=0, inplace=True)\n",
    "df_외감.drop(df_외감[df_외감['회사명'].isin(df_외감['회사명'].str.contains('금융투자'))].index, axis=0, inplace=True)"
   ]
  },
  {
   "cell_type": "code",
   "execution_count": 77,
   "metadata": {},
   "outputs": [
    {
     "data": {
      "text/plain": [
       "회사명                                       0\n",
       "거래소코드                                     0\n",
       "회계년도                                      0\n",
       "통계청 한국표준산업분류 코드 10차(대분류)                  0\n",
       "부채비율                                     94\n",
       "당좌비율                                     94\n",
       "유동비율                                     94\n",
       "이자보상배율(이자비용)                             94\n",
       "영업활동으로 인한 현금흐름(간접법)(*)(IFRS연결)(천원)       78\n",
       "이자비용(IFRS연결)(천원)                         78\n",
       "차입금의존도                                   94\n",
       "자기자본구성비율                                 94\n",
       "당기순이익(손실)(IFRS연결)(천원)                    78\n",
       "감가상각비(백만원)                             2144\n",
       "금융비용(백만원)                               346\n",
       "단기차입금(*)(IFRS연결)(천원)                     78\n",
       "유동성장기부채(*)(IFRS연결)(천원)                   78\n",
       "장기차입금(*)(IFRS연결)(천원)                     78\n",
       "법인세비용차감전(계속사업)손익(백만원)                   121\n",
       "매출액영업이익률                                102\n",
       "자기자본순이익률                                102\n",
       "총자본순이익률                                 102\n",
       "매출액(수익)(*)(IFRS연결)(천원)                   78\n",
       "총자본회전률                                   93\n",
       "자기자본회전률                                  93\n",
       "운전자본회전률                                  93\n",
       "순운전자본회전률                                 93\n",
       "재고자산회전률                                  93\n",
       "당좌자산회전률                                  93\n",
       "유동자산회전률                                  93\n",
       "매출액증가율                                   92\n",
       "총자본증가율                                   92\n",
       "자기자본증가율                                  92\n",
       "순이익증가율                                   92\n",
       "유형자산증가율                                  92\n",
       "유동자산증가율                                  92\n",
       "재고자산증가율                                  92\n",
       "영업이익증가율                                  92\n",
       "총자본투자효율                                 106\n",
       "부가가치율                                   106\n",
       "노동소득분배율                                 106\n",
       "자본분배율                                   106\n",
       "이윤분배율                                   106\n",
       "투자활동으로 인한 현금흐름(*)(IFRS연결)(천원)            78\n",
       "재무활동으로 인한 현금흐름(*)(IFRS연결)(천원)            78\n",
       "자산(*)(IFRS연결)(천원)                        78\n",
       "부채(*)(IFRS연결)(천원)                        78\n",
       "자본(*)(IFRS연결)(천원)                        78\n",
       "연구개발비(IFRS연결)(천원)                        83\n",
       "감사의견코드                                34276\n",
       "통계청 한국표준산업분류 10차(대분류)                     0\n",
       "자본금(*)(IFRS연결)(천원)                       78\n",
       "* (정상)영업손익(보고서기재)(IFRS연결)(천원)            78\n",
       "dtype: int64"
      ]
     },
     "execution_count": 77,
     "metadata": {},
     "output_type": "execute_result"
    }
   ],
   "source": [
    "df_외감.isna().sum()"
   ]
  },
  {
   "cell_type": "code",
   "execution_count": 78,
   "metadata": {},
   "outputs": [],
   "source": [
    "df_외감['감사의견코드']=df_외감['감사의견코드'].map({\n",
    "    'AG': 1,\n",
    "    'DS':1,\n",
    "    'DI':1,\n",
    "    'DU':1,\n",
    "    'QA':0,\n",
    "    'QC':0,\n",
    "    'QG':0,\n",
    "    'QQ':0,\n",
    "    'QS':1,\n",
    "    'QU':0,\n",
    "    'UQ':0,\n",
    "    'ZZ':1\n",
    "})"
   ]
  },
  {
   "cell_type": "markdown",
   "metadata": {},
   "source": [
    "## 자본잠식"
   ]
  },
  {
   "cell_type": "code",
   "execution_count": 79,
   "metadata": {},
   "outputs": [],
   "source": [
    "df_외감['자본잠식률']=(df_외감['자본금(*)(IFRS연결)(천원)'] - df_외감['자본(*)(IFRS연결)(천원)'])/df_외감['자본금(*)(IFRS연결)(천원)']"
   ]
  },
  {
   "cell_type": "code",
   "execution_count": 80,
   "metadata": {},
   "outputs": [],
   "source": [
    "mask = (df_외감['회사명'] == df_외감['회사명'].shift(-1)) & (df_외감['자본잠식률'] >= 50)"
   ]
  },
  {
   "cell_type": "code",
   "execution_count": 81,
   "metadata": {},
   "outputs": [
    {
     "data": {
      "text/plain": [
       "감사의견코드\n",
       "0.0    240473\n",
       "1.0     20919\n",
       "Name: count, dtype: int64"
      ]
     },
     "execution_count": 81,
     "metadata": {},
     "output_type": "execute_result"
    }
   ],
   "source": [
    "df_외감['감사의견코드'].value_counts()"
   ]
  },
  {
   "cell_type": "code",
   "execution_count": 82,
   "metadata": {},
   "outputs": [],
   "source": [
    "df_외감.loc[mask, '감사의견코드'] = 1.0"
   ]
  },
  {
   "cell_type": "code",
   "execution_count": 83,
   "metadata": {},
   "outputs": [
    {
     "data": {
      "text/plain": [
       "False    290732\n",
       "True       4936\n",
       "Name: count, dtype: int64"
      ]
     },
     "execution_count": 83,
     "metadata": {},
     "output_type": "execute_result"
    }
   ],
   "source": [
    "mask.value_counts()"
   ]
  },
  {
   "cell_type": "code",
   "execution_count": 84,
   "metadata": {},
   "outputs": [
    {
     "data": {
      "text/plain": [
       "감사의견코드\n",
       "0.0    237599\n",
       "1.0     24870\n",
       "Name: count, dtype: int64"
      ]
     },
     "execution_count": 84,
     "metadata": {},
     "output_type": "execute_result"
    }
   ],
   "source": [
    "df_외감['감사의견코드'].value_counts()"
   ]
  },
  {
   "cell_type": "markdown",
   "metadata": {},
   "source": [
    "### 자본잠식 > 50인 3951개가 0에서 1로 레이블링 변경"
   ]
  },
  {
   "cell_type": "markdown",
   "metadata": {},
   "source": [
    "## 회생절차 기업 확인하기!"
   ]
  },
  {
   "cell_type": "code",
   "execution_count": 233,
   "metadata": {},
   "outputs": [],
   "source": [
    "# 회생절차 개시신청\n",
    "df_외감.loc[132330,'감사의견코드']=1.0\n",
    "df_외감.loc[12111,'감사의견코드']=1.0\n",
    "df_외감.loc[16614,'감사의견코드']=1.0\n",
    "df_외감.loc[77037,'감사의견코드']=1.0\n",
    "df_외감.loc[191585,'감사의견코드']=1.0\n",
    "df_외감.loc[77037,'감사의견코드']=1.0\n",
    "df_외감.loc[211114,'감사의견코드']=1.0\n",
    "df_외감.loc[228410,'감사의견코드']=1.0\n",
    "df_외감.loc[256817,'감사의견코드']=1.0\n",
    "df_외감.loc[280187,'감사의견코드']=1.0\n",
    "df_외감.loc[288076,'감사의견코드']=1.0\n",
    "# 해산사유 발생\n",
    "# 77485 (주)세실 2017년 파산  ->2016년 레이블링 1.0으로 수정 필요\n"
   ]
  },
  {
   "cell_type": "code",
   "execution_count": 234,
   "metadata": {},
   "outputs": [
    {
     "data": {
      "text/plain": [
       "감사의견코드\n",
       "0.0    237589\n",
       "1.0     24880\n",
       "Name: count, dtype: int64"
      ]
     },
     "execution_count": 234,
     "metadata": {},
     "output_type": "execute_result"
    }
   ],
   "source": [
    "df_외감['감사의견코드'].value_counts()"
   ]
  },
  {
   "cell_type": "code",
   "execution_count": null,
   "metadata": {},
   "outputs": [],
   "source": []
  }
 ],
 "metadata": {
  "kernelspec": {
   "display_name": "Python 3",
   "language": "python",
   "name": "python3"
  },
  "language_info": {
   "codemirror_mode": {
    "name": "ipython",
    "version": 3
   },
   "file_extension": ".py",
   "mimetype": "text/x-python",
   "name": "python",
   "nbconvert_exporter": "python",
   "pygments_lexer": "ipython3",
   "version": "3.10.9"
  },
  "orig_nbformat": 4
 },
 "nbformat": 4,
 "nbformat_minor": 2
}
