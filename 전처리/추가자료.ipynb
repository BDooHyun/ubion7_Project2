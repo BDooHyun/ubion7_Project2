{
 "cells": [
  {
   "cell_type": "code",
   "execution_count": 1,
   "metadata": {},
   "outputs": [],
   "source": [
    "import pandas as pd"
   ]
  },
  {
   "cell_type": "code",
   "execution_count": 2,
   "metadata": {},
   "outputs": [],
   "source": [
    "df1=pd.read_csv('./Dataset/추가/추가_1.csv',encoding='euc-kr')\n",
    "df2=pd.read_csv('./Dataset/추가/추가_2.csv',encoding='euc-kr')\n",
    "df3=pd.read_csv('./Dataset/추가/추가_3.csv',encoding='euc-kr')\n",
    "df4=pd.read_csv('./Dataset/추가/추가_4.csv',encoding='euc-kr')\n",
    "df5=pd.read_csv('./Dataset/추가/추가_5.csv',encoding='euc-kr')\n",
    "df6=pd.read_csv('./Dataset/추가/추가_6.csv',encoding='euc-kr')\n",
    "df7=pd.read_csv('./Dataset/추가/추가_7.csv',encoding='euc-kr')\n",
    "df8=pd.read_csv('./Dataset/추가/추가_8.csv',encoding='euc-kr')\n",
    "df9=pd.read_csv('./Dataset/추가/추가_9.csv',encoding='euc-kr')\n",
    "df10=pd.read_csv('./Dataset/추가/추가_10.csv',encoding='euc-kr')\n",
    "df11=pd.read_csv('./Dataset/추가/추가_11.csv',encoding='euc-kr')\n",
    "df12=pd.read_csv('./Dataset/추가/추가_12.csv',encoding='euc-kr')\n",
    "df13=pd.read_csv('./Dataset/추가/추가_13.csv',encoding='euc-kr')\n",
    "df14=pd.read_csv('./Dataset/추가/추가_14.csv',encoding='euc-kr')"
   ]
  },
  {
   "cell_type": "code",
   "execution_count": 3,
   "metadata": {},
   "outputs": [],
   "source": [
    "df=pd.concat([df1,df2,df3,df4,df5,df6,df7,df8,df9,df10,df11,df12,df13,df14],axis=0).reset_index(drop=True)"
   ]
  },
  {
   "cell_type": "code",
   "execution_count": 4,
   "metadata": {},
   "outputs": [],
   "source": [
    "df=df.drop([185011,126614],axis=0).reset_index(drop=True)\n"
   ]
  },
  {
   "cell_type": "code",
   "execution_count": 5,
   "metadata": {},
   "outputs": [],
   "source": [
    "df_=pd.read_csv('./Dataset/외감raw.csv',encoding='euc-kr')"
   ]
  },
  {
   "cell_type": "code",
   "execution_count": 6,
   "metadata": {},
   "outputs": [
    {
     "name": "stdout",
     "output_type": "stream",
     "text": [
      "두 리스트에서 이름이 같지만 개수가 다른 요소들: []\n"
     ]
    }
   ],
   "source": [
    "from collections import Counter\n",
    "\n",
    "list1 = df_['회사명']\n",
    "list2 = df['회사명']\n",
    "counter1 = Counter(list1)\n",
    "counter2 = Counter(list2)\n",
    "\n",
    "different_elements = []\n",
    "\n",
    "for element, count in counter1.items():\n",
    "    if count != counter2[element]:\n",
    "        different_elements.append(element)\n",
    "\n",
    "print(\"두 리스트에서 이름이 같지만 개수가 다른 요소들:\", different_elements)\n",
    "\n"
   ]
  },
  {
   "cell_type": "markdown",
   "metadata": {},
   "source": [
    "- (주)우성코퍼레이션,주식회사뷰케이코리아가 추가시점에 추가정보가 올라옴--> drop해줌"
   ]
  },
  {
   "cell_type": "code",
   "execution_count": 7,
   "metadata": {},
   "outputs": [
    {
     "data": {
      "text/plain": [
       "Index(['회사명', '거래소코드', '회계년도', '통계청 한국표준산업분류 코드 10차(대분류)',\n",
       "       '통계청 한국표준산업분류 10차(대분류)', '자본금(*)(IFRS연결)(천원)', '자본금(*)(IFRS)(천원)',\n",
       "       '자본금(*)(천원)', '* (정상)영업손익(보고서기재)(IFRS연결)(천원)',\n",
       "       '* (정상)영업손익(보고서기재)(IFRS)(천원)', '영업이익(손실)(천원)'],\n",
       "      dtype='object')"
      ]
     },
     "execution_count": 7,
     "metadata": {},
     "output_type": "execute_result"
    }
   ],
   "source": [
    "df.columns"
   ]
  },
  {
   "cell_type": "code",
   "execution_count": 8,
   "metadata": {},
   "outputs": [
    {
     "data": {
      "text/plain": [
       "회사명                                   0\n",
       "거래소코드                                 0\n",
       "회계년도                                  0\n",
       "통계청 한국표준산업분류 코드 10차(대분류)              0\n",
       "통계청 한국표준산업분류 10차(대분류)                 0\n",
       "자본금(*)(IFRS연결)(천원)               289617\n",
       "자본금(*)(IFRS)(천원)                 271086\n",
       "자본금(*)(천원)                           85\n",
       "* (정상)영업손익(보고서기재)(IFRS연결)(천원)    289617\n",
       "* (정상)영업손익(보고서기재)(IFRS)(천원)      271086\n",
       "영업이익(손실)(천원)                         85\n",
       "dtype: int64"
      ]
     },
     "execution_count": 8,
     "metadata": {},
     "output_type": "execute_result"
    }
   ],
   "source": [
    "df.isna().sum()"
   ]
  },
  {
   "cell_type": "code",
   "execution_count": 9,
   "metadata": {},
   "outputs": [],
   "source": [
    "df['자본금(*)(IFRS연결)(천원)'] = df.apply(lambda row: row['자본금(*)(IFRS)(천원)'] if pd.isna(row['자본금(*)(IFRS연결)(천원)']) else row['자본금(*)(IFRS연결)(천원)'], axis=1)"
   ]
  },
  {
   "cell_type": "code",
   "execution_count": 10,
   "metadata": {},
   "outputs": [
    {
     "data": {
      "text/plain": [
       "회사명                                   0\n",
       "거래소코드                                 0\n",
       "회계년도                                  0\n",
       "통계청 한국표준산업분류 코드 10차(대분류)              0\n",
       "통계청 한국표준산업분류 10차(대분류)                 0\n",
       "자본금(*)(IFRS연결)(천원)               271079\n",
       "자본금(*)(IFRS)(천원)                 271086\n",
       "자본금(*)(천원)                           85\n",
       "* (정상)영업손익(보고서기재)(IFRS연결)(천원)    289617\n",
       "* (정상)영업손익(보고서기재)(IFRS)(천원)      271086\n",
       "영업이익(손실)(천원)                         85\n",
       "dtype: int64"
      ]
     },
     "execution_count": 10,
     "metadata": {},
     "output_type": "execute_result"
    }
   ],
   "source": [
    "df.isna().sum()"
   ]
  },
  {
   "cell_type": "code",
   "execution_count": 11,
   "metadata": {},
   "outputs": [],
   "source": [
    "df['자본금(*)(IFRS연결)(천원)'] = df.apply(lambda row: row['자본금(*)(천원)'] if pd.isna(row['자본금(*)(IFRS연결)(천원)']) else row['자본금(*)(IFRS연결)(천원)'], axis=1)"
   ]
  },
  {
   "cell_type": "code",
   "execution_count": 12,
   "metadata": {},
   "outputs": [
    {
     "data": {
      "text/plain": [
       "회사명                                   0\n",
       "거래소코드                                 0\n",
       "회계년도                                  0\n",
       "통계청 한국표준산업분류 코드 10차(대분류)              0\n",
       "통계청 한국표준산업분류 10차(대분류)                 0\n",
       "자본금(*)(IFRS연결)(천원)                   78\n",
       "자본금(*)(IFRS)(천원)                 271086\n",
       "자본금(*)(천원)                           85\n",
       "* (정상)영업손익(보고서기재)(IFRS연결)(천원)    289617\n",
       "* (정상)영업손익(보고서기재)(IFRS)(천원)      271086\n",
       "영업이익(손실)(천원)                         85\n",
       "dtype: int64"
      ]
     },
     "execution_count": 12,
     "metadata": {},
     "output_type": "execute_result"
    }
   ],
   "source": [
    "df.isna().sum()"
   ]
  },
  {
   "cell_type": "code",
   "execution_count": 13,
   "metadata": {},
   "outputs": [],
   "source": [
    "df['* (정상)영업손익(보고서기재)(IFRS연결)(천원)'] = df.apply(lambda row: row['* (정상)영업손익(보고서기재)(IFRS)(천원)'] if pd.isna(row['* (정상)영업손익(보고서기재)(IFRS연결)(천원)']) else row['* (정상)영업손익(보고서기재)(IFRS연결)(천원)'], axis=1)\n",
    "df['* (정상)영업손익(보고서기재)(IFRS연결)(천원)'] = df.apply(lambda row: row['영업이익(손실)(천원)'] if pd.isna(row['* (정상)영업손익(보고서기재)(IFRS연결)(천원)']) else row['* (정상)영업손익(보고서기재)(IFRS연결)(천원)'], axis=1)"
   ]
  },
  {
   "cell_type": "code",
   "execution_count": 14,
   "metadata": {},
   "outputs": [
    {
     "data": {
      "text/plain": [
       "회사명                                   0\n",
       "거래소코드                                 0\n",
       "회계년도                                  0\n",
       "통계청 한국표준산업분류 코드 10차(대분류)              0\n",
       "통계청 한국표준산업분류 10차(대분류)                 0\n",
       "자본금(*)(IFRS연결)(천원)                   78\n",
       "자본금(*)(IFRS)(천원)                 271086\n",
       "자본금(*)(천원)                           85\n",
       "* (정상)영업손익(보고서기재)(IFRS연결)(천원)        78\n",
       "* (정상)영업손익(보고서기재)(IFRS)(천원)      271086\n",
       "영업이익(손실)(천원)                         85\n",
       "dtype: int64"
      ]
     },
     "execution_count": 14,
     "metadata": {},
     "output_type": "execute_result"
    }
   ],
   "source": [
    "df.isna().sum()"
   ]
  },
  {
   "cell_type": "code",
   "execution_count": 15,
   "metadata": {},
   "outputs": [],
   "source": [
    "df.drop(['거래소코드','회계년도','통계청 한국표준산업분류 코드 10차(대분류)','자본금(*)(IFRS)(천원)','자본금(*)(천원)','* (정상)영업손익(보고서기재)(IFRS)(천원)','영업이익(손실)(천원)'],axis=1,inplace=True)"
   ]
  },
  {
   "cell_type": "code",
   "execution_count": 18,
   "metadata": {},
   "outputs": [
    {
     "data": {
      "text/plain": [
       "회사명\n",
       "True    295975\n",
       "Name: count, dtype: int64"
      ]
     },
     "execution_count": 18,
     "metadata": {},
     "output_type": "execute_result"
    }
   ],
   "source": [
    "(df['회사명']== df_['회사명']).value_counts()"
   ]
  },
  {
   "cell_type": "code",
   "execution_count": 98,
   "metadata": {},
   "outputs": [],
   "source": [
    "df_.drop('* (정상)영업손익(보고서기재)(IFRS연결)(천원)',inplace=True,axis=1)"
   ]
  },
  {
   "cell_type": "code",
   "execution_count": 100,
   "metadata": {},
   "outputs": [],
   "source": [
    "df_total=pd.concat([df_,df], axis=1)"
   ]
  },
  {
   "cell_type": "code",
   "execution_count": 103,
   "metadata": {},
   "outputs": [],
   "source": [
    "# df_total.to_csv('외감raw2.csv',index=False,encoding='euc-kr')"
   ]
  },
  {
   "cell_type": "code",
   "execution_count": null,
   "metadata": {},
   "outputs": [],
   "source": []
  }
 ],
 "metadata": {
  "kernelspec": {
   "display_name": "Python 3",
   "language": "python",
   "name": "python3"
  },
  "language_info": {
   "codemirror_mode": {
    "name": "ipython",
    "version": 3
   },
   "file_extension": ".py",
   "mimetype": "text/x-python",
   "name": "python",
   "nbconvert_exporter": "python",
   "pygments_lexer": "ipython3",
   "version": "3.10.9"
  },
  "orig_nbformat": 4
 },
 "nbformat": 4,
 "nbformat_minor": 2
}
